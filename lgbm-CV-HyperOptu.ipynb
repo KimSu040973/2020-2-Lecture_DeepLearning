{
 "cells": [
  {
   "cell_type": "code",
   "execution_count": 12,
   "metadata": {},
   "outputs": [
    {
     "name": "stdout",
     "output_type": "stream",
     "text": [
      "(4280, 32)\n"
     ]
    },
    {
     "data": {
      "text/html": [
       "<div>\n",
       "<style scoped>\n",
       "    .dataframe tbody tr th:only-of-type {\n",
       "        vertical-align: middle;\n",
       "    }\n",
       "\n",
       "    .dataframe tbody tr th {\n",
       "        vertical-align: top;\n",
       "    }\n",
       "\n",
       "    .dataframe thead th {\n",
       "        text-align: right;\n",
       "    }\n",
       "</style>\n",
       "<table border=\"1\" class=\"dataframe\">\n",
       "  <thead>\n",
       "    <tr style=\"text-align: right;\">\n",
       "      <th></th>\n",
       "      <th>0</th>\n",
       "      <th>1</th>\n",
       "      <th>2</th>\n",
       "      <th>3</th>\n",
       "      <th>4</th>\n",
       "      <th>5</th>\n",
       "      <th>6</th>\n",
       "      <th>7</th>\n",
       "      <th>8</th>\n",
       "      <th>9</th>\n",
       "      <th>...</th>\n",
       "      <th>22</th>\n",
       "      <th>23</th>\n",
       "      <th>24</th>\n",
       "      <th>25</th>\n",
       "      <th>26</th>\n",
       "      <th>27</th>\n",
       "      <th>28</th>\n",
       "      <th>29</th>\n",
       "      <th>30</th>\n",
       "      <th>31</th>\n",
       "    </tr>\n",
       "  </thead>\n",
       "  <tbody>\n",
       "    <tr>\n",
       "      <th>0</th>\n",
       "      <td>HI</td>\n",
       "      <td>188</td>\n",
       "      <td>128</td>\n",
       "      <td>95</td>\n",
       "      <td>114</td>\n",
       "      <td>143</td>\n",
       "      <td>108</td>\n",
       "      <td>88</td>\n",
       "      <td>103</td>\n",
       "      <td>113</td>\n",
       "      <td>...</td>\n",
       "      <td>100</td>\n",
       "      <td>78</td>\n",
       "      <td>70</td>\n",
       "      <td>79</td>\n",
       "      <td>84</td>\n",
       "      <td>66</td>\n",
       "      <td>70</td>\n",
       "      <td>75</td>\n",
       "      <td>76</td>\n",
       "      <td>63</td>\n",
       "    </tr>\n",
       "    <tr>\n",
       "      <th>1</th>\n",
       "      <td>PH</td>\n",
       "      <td>174</td>\n",
       "      <td>112</td>\n",
       "      <td>88</td>\n",
       "      <td>104</td>\n",
       "      <td>119</td>\n",
       "      <td>92</td>\n",
       "      <td>74</td>\n",
       "      <td>79</td>\n",
       "      <td>88</td>\n",
       "      <td>...</td>\n",
       "      <td>82</td>\n",
       "      <td>65</td>\n",
       "      <td>70</td>\n",
       "      <td>75</td>\n",
       "      <td>89</td>\n",
       "      <td>73</td>\n",
       "      <td>67</td>\n",
       "      <td>71</td>\n",
       "      <td>89</td>\n",
       "      <td>73</td>\n",
       "    </tr>\n",
       "    <tr>\n",
       "      <th>2</th>\n",
       "      <td>GR</td>\n",
       "      <td>175</td>\n",
       "      <td>138</td>\n",
       "      <td>106</td>\n",
       "      <td>105</td>\n",
       "      <td>135</td>\n",
       "      <td>109</td>\n",
       "      <td>75</td>\n",
       "      <td>95</td>\n",
       "      <td>113</td>\n",
       "      <td>...</td>\n",
       "      <td>110</td>\n",
       "      <td>98</td>\n",
       "      <td>67</td>\n",
       "      <td>88</td>\n",
       "      <td>119</td>\n",
       "      <td>98</td>\n",
       "      <td>75</td>\n",
       "      <td>91</td>\n",
       "      <td>110</td>\n",
       "      <td>94</td>\n",
       "    </tr>\n",
       "    <tr>\n",
       "      <th>3</th>\n",
       "      <td>PH</td>\n",
       "      <td>176</td>\n",
       "      <td>111</td>\n",
       "      <td>80</td>\n",
       "      <td>106</td>\n",
       "      <td>131</td>\n",
       "      <td>96</td>\n",
       "      <td>76</td>\n",
       "      <td>99</td>\n",
       "      <td>104</td>\n",
       "      <td>...</td>\n",
       "      <td>96</td>\n",
       "      <td>78</td>\n",
       "      <td>78</td>\n",
       "      <td>91</td>\n",
       "      <td>96</td>\n",
       "      <td>78</td>\n",
       "      <td>82</td>\n",
       "      <td>104</td>\n",
       "      <td>112</td>\n",
       "      <td>85</td>\n",
       "    </tr>\n",
       "    <tr>\n",
       "      <th>4</th>\n",
       "      <td>EL</td>\n",
       "      <td>182</td>\n",
       "      <td>144</td>\n",
       "      <td>111</td>\n",
       "      <td>100</td>\n",
       "      <td>151</td>\n",
       "      <td>119</td>\n",
       "      <td>67</td>\n",
       "      <td>106</td>\n",
       "      <td>114</td>\n",
       "      <td>...</td>\n",
       "      <td>108</td>\n",
       "      <td>88</td>\n",
       "      <td>71</td>\n",
       "      <td>103</td>\n",
       "      <td>113</td>\n",
       "      <td>92</td>\n",
       "      <td>68</td>\n",
       "      <td>107</td>\n",
       "      <td>118</td>\n",
       "      <td>92</td>\n",
       "    </tr>\n",
       "  </tbody>\n",
       "</table>\n",
       "<p>5 rows × 32 columns</p>\n",
       "</div>"
      ],
      "text/plain": [
       "   0    1    2    3    4    5    6   7    8    9   ...   22  23  24   25   26  \\\n",
       "0  HI  188  128   95  114  143  108  88  103  113  ...  100  78  70   79   84   \n",
       "1  PH  174  112   88  104  119   92  74   79   88  ...   82  65  70   75   89   \n",
       "2  GR  175  138  106  105  135  109  75   95  113  ...  110  98  67   88  119   \n",
       "3  PH  176  111   80  106  131   96  76   99  104  ...   96  78  78   91   96   \n",
       "4  EL  182  144  111  100  151  119  67  106  114  ...  108  88  71  103  113   \n",
       "\n",
       "   27  28   29   30  31  \n",
       "0  66  70   75   76  63  \n",
       "1  73  67   71   89  73  \n",
       "2  98  75   91  110  94  \n",
       "3  78  82  104  112  85  \n",
       "4  92  68  107  118  92  \n",
       "\n",
       "[5 rows x 32 columns]"
      ]
     },
     "execution_count": 12,
     "metadata": {},
     "output_type": "execute_result"
    }
   ],
   "source": [
    "#라이브러리 import 및 설정\n",
    "import lightgbm as lgb\n",
    "from pathlib import Path\n",
    "import pandas as pd\n",
    "import numpy as np\n",
    "import warnings\n",
    "from hyperopt import STATUS_OK, Trials, hp, space_eval, tpe, fmin\n",
    "from sklearn.model_selection import  train_test_split\n",
    "\n",
    "#데이터 로드\n",
    "data_dir = Path('C:\\\\Users\\\\USER\\\\Desktop\\\\경진대회_dataset\\\\DataInput')\n",
    "sub_dir = Path('C:\\\\Users\\\\USER\\\\Desktop\\\\경진대회_dataset\\\\sub')\n",
    "\n",
    "trn_file = data_dir / 'train.csv'\n",
    "tst_file = data_dir / 'test.csv'\n",
    "sample_file = data_dir / 'sample_submission.csv'\n",
    "\n",
    "seed =150 #적정값이 있었음 너무 낮거나 높음 떨어짐\n",
    "algo_name = 'lgb'\n",
    "feature_name = 'feature'\n",
    "model_name = f'{algo_name}_{feature_name}'\n",
    "\n",
    "sub_file = sub_dir / f'{model_name}.csv'\n",
    "\n",
    "df = pd.read_csv(trn_file, header=None)\n",
    "print(df.shape)\n",
    "df.head()"
   ]
  },
  {
   "cell_type": "code",
   "execution_count": 13,
   "metadata": {},
   "outputs": [
    {
     "name": "stdout",
     "output_type": "stream",
     "text": [
      "(1833, 31)\n"
     ]
    },
    {
     "data": {
      "text/html": [
       "<div>\n",
       "<style scoped>\n",
       "    .dataframe tbody tr th:only-of-type {\n",
       "        vertical-align: middle;\n",
       "    }\n",
       "\n",
       "    .dataframe tbody tr th {\n",
       "        vertical-align: top;\n",
       "    }\n",
       "\n",
       "    .dataframe thead th {\n",
       "        text-align: right;\n",
       "    }\n",
       "</style>\n",
       "<table border=\"1\" class=\"dataframe\">\n",
       "  <thead>\n",
       "    <tr style=\"text-align: right;\">\n",
       "      <th></th>\n",
       "      <th>0</th>\n",
       "      <th>1</th>\n",
       "      <th>2</th>\n",
       "      <th>3</th>\n",
       "      <th>4</th>\n",
       "      <th>5</th>\n",
       "      <th>6</th>\n",
       "      <th>7</th>\n",
       "      <th>8</th>\n",
       "      <th>9</th>\n",
       "      <th>...</th>\n",
       "      <th>21</th>\n",
       "      <th>22</th>\n",
       "      <th>23</th>\n",
       "      <th>24</th>\n",
       "      <th>25</th>\n",
       "      <th>26</th>\n",
       "      <th>27</th>\n",
       "      <th>28</th>\n",
       "      <th>29</th>\n",
       "      <th>30</th>\n",
       "    </tr>\n",
       "  </thead>\n",
       "  <tbody>\n",
       "    <tr>\n",
       "      <th>0</th>\n",
       "      <td>185</td>\n",
       "      <td>130</td>\n",
       "      <td>100</td>\n",
       "      <td>119</td>\n",
       "      <td>142</td>\n",
       "      <td>110</td>\n",
       "      <td>89</td>\n",
       "      <td>102</td>\n",
       "      <td>114</td>\n",
       "      <td>87</td>\n",
       "      <td>...</td>\n",
       "      <td>100</td>\n",
       "      <td>81</td>\n",
       "      <td>84</td>\n",
       "      <td>103</td>\n",
       "      <td>108</td>\n",
       "      <td>88</td>\n",
       "      <td>88</td>\n",
       "      <td>112</td>\n",
       "      <td>113</td>\n",
       "      <td>88</td>\n",
       "    </tr>\n",
       "    <tr>\n",
       "      <th>1</th>\n",
       "      <td>178</td>\n",
       "      <td>139</td>\n",
       "      <td>100</td>\n",
       "      <td>104</td>\n",
       "      <td>142</td>\n",
       "      <td>114</td>\n",
       "      <td>63</td>\n",
       "      <td>97</td>\n",
       "      <td>114</td>\n",
       "      <td>94</td>\n",
       "      <td>...</td>\n",
       "      <td>108</td>\n",
       "      <td>88</td>\n",
       "      <td>60</td>\n",
       "      <td>95</td>\n",
       "      <td>113</td>\n",
       "      <td>92</td>\n",
       "      <td>53</td>\n",
       "      <td>95</td>\n",
       "      <td>108</td>\n",
       "      <td>88</td>\n",
       "    </tr>\n",
       "    <tr>\n",
       "      <th>2</th>\n",
       "      <td>182</td>\n",
       "      <td>125</td>\n",
       "      <td>97</td>\n",
       "      <td>112</td>\n",
       "      <td>137</td>\n",
       "      <td>105</td>\n",
       "      <td>78</td>\n",
       "      <td>97</td>\n",
       "      <td>105</td>\n",
       "      <td>83</td>\n",
       "      <td>...</td>\n",
       "      <td>108</td>\n",
       "      <td>85</td>\n",
       "      <td>84</td>\n",
       "      <td>103</td>\n",
       "      <td>108</td>\n",
       "      <td>85</td>\n",
       "      <td>80</td>\n",
       "      <td>99</td>\n",
       "      <td>104</td>\n",
       "      <td>81</td>\n",
       "    </tr>\n",
       "    <tr>\n",
       "      <th>3</th>\n",
       "      <td>174</td>\n",
       "      <td>113</td>\n",
       "      <td>83</td>\n",
       "      <td>97</td>\n",
       "      <td>115</td>\n",
       "      <td>89</td>\n",
       "      <td>63</td>\n",
       "      <td>63</td>\n",
       "      <td>82</td>\n",
       "      <td>69</td>\n",
       "      <td>...</td>\n",
       "      <td>83</td>\n",
       "      <td>59</td>\n",
       "      <td>64</td>\n",
       "      <td>68</td>\n",
       "      <td>75</td>\n",
       "      <td>63</td>\n",
       "      <td>64</td>\n",
       "      <td>68</td>\n",
       "      <td>83</td>\n",
       "      <td>67</td>\n",
       "    </tr>\n",
       "    <tr>\n",
       "      <th>4</th>\n",
       "      <td>167</td>\n",
       "      <td>144</td>\n",
       "      <td>107</td>\n",
       "      <td>97</td>\n",
       "      <td>146</td>\n",
       "      <td>124</td>\n",
       "      <td>67</td>\n",
       "      <td>111</td>\n",
       "      <td>114</td>\n",
       "      <td>101</td>\n",
       "      <td>...</td>\n",
       "      <td>122</td>\n",
       "      <td>99</td>\n",
       "      <td>68</td>\n",
       "      <td>107</td>\n",
       "      <td>128</td>\n",
       "      <td>96</td>\n",
       "      <td>71</td>\n",
       "      <td>112</td>\n",
       "      <td>128</td>\n",
       "      <td>99</td>\n",
       "    </tr>\n",
       "  </tbody>\n",
       "</table>\n",
       "<p>5 rows × 31 columns</p>\n",
       "</div>"
      ],
      "text/plain": [
       "    0    1    2    3    4    5   6    7    8    9   ...   21  22  23   24  \\\n",
       "0  185  130  100  119  142  110  89  102  114   87  ...  100  81  84  103   \n",
       "1  178  139  100  104  142  114  63   97  114   94  ...  108  88  60   95   \n",
       "2  182  125   97  112  137  105  78   97  105   83  ...  108  85  84  103   \n",
       "3  174  113   83   97  115   89  63   63   82   69  ...   83  59  64   68   \n",
       "4  167  144  107   97  146  124  67  111  114  101  ...  122  99  68  107   \n",
       "\n",
       "    25  26  27   28   29  30  \n",
       "0  108  88  88  112  113  88  \n",
       "1  113  92  53   95  108  88  \n",
       "2  108  85  80   99  104  81  \n",
       "3   75  63  64   68   83  67  \n",
       "4  128  96  71  112  128  99  \n",
       "\n",
       "[5 rows x 31 columns]"
      ]
     },
     "execution_count": 13,
     "metadata": {},
     "output_type": "execute_result"
    }
   ],
   "source": [
    "df_tst= pd.read_csv(tst_file, header=None)\n",
    "print(df_tst.shape)\n",
    "df_tst.head()"
   ]
  },
  {
   "cell_type": "code",
   "execution_count": 14,
   "metadata": {},
   "outputs": [
    {
     "name": "stdout",
     "output_type": "stream",
     "text": [
      "(4280,) (4280, 31) (1833, 31)\n"
     ]
    }
   ],
   "source": [
    "y = df.iloc[:,0].values[:4280]       #종속\n",
    "df.drop(df.columns[[0]], axis=1, inplace=True)  #독립을 위한 종속 제거\n",
    "trn = df.iloc[:4280].values \n",
    "tst=df_tst.iloc[:1834,:32].values              #train을 위한 독립 320000개     \n",
    "print(y.shape, trn.shape, tst.shape)\n",
    "\n",
    "#학습/검증 데이터 구분_[Hold-out Validation]\n",
    "#>학습 후 모델의 예측/분류 정확도 계산을 위한 검증데이터 분리\n",
    "X_trn, X_val, y_trn, y_val = train_test_split(trn, y, test_size=.2, random_state=seed)\n",
    "params = {\n",
    "    \"objective\": \"multiclass\",\n",
    "  #  \"n_estimators\": 1000,\n",
    "    \"subsample_freq\": 1,\n",
    "    \"random_state\": seed,\n",
    "    \"n_jobs\": -1\n",
    "}\n",
    "#고정 파라미터\n",
    "\n",
    "space = {\n",
    "    \"boosting_type\":hp.choice(\"boosting_type\", ['gbdt', 'dart', 'rf']),\n",
    "    \"n_estimators\":  hp.choice(\"n_estimators\", [100, 200, 300, 400, 500, 600,800,1000]),\n",
    "    \"learning_rate\": hp.loguniform(\"learning_rate\", np.log(0.01), np.log(0.1)),\n",
    "   # \"num_iterations\":  hp.choice(\"num_iterations\", [100, 200, 300, 400, 500, 600,800,1000]),\n",
    "    \"num_leaves\": hp.choice(\"num_leaves\", [10, 15, 31, 63, 127, 254]),\n",
    "    \"colsample_bytree\": hp.quniform(\"colsample_bytree\", .5, .9, 0.1),\n",
    "    \"subsample\": hp.quniform(\"subsample\", .5, .9, 0.1)\n",
    "}\n",
    "#변경 파라미터_넓은 범위와 여러 파라미터 사용시 시간 급증 (주의)\n",
    "#loguniform: 로그함수를 이용해 확률 분포 내에서의 값으로 test\n",
    "#choice: 리스트 값 중 하나로 선택하여 test\n",
    "#quniform: start와 stop사이에서 일정 간격으로 값을 주어 test\n"
   ]
  },
  {
   "cell_type": "code",
   "execution_count": 15,
   "metadata": {},
   "outputs": [
    {
     "name": "stdout",
     "output_type": "stream",
     "text": [
      " 10%|████▊                                           | 1/10 [00:00<00:03,  2.48trial/s, best loss: 0.22622902762859975]"
     ]
    },
    {
     "name": "stderr",
     "output_type": "stream",
     "text": [
      "C:\\Users\\USER\\anaconda3\\lib\\site-packages\\lightgbm\\callback.py:186: UserWarning: Early stopping is not available in dart mode\n",
      "  warnings.warn('Early stopping is not available in dart mode')\n",
      "\n"
     ]
    },
    {
     "name": "stdout",
     "output_type": "stream",
     "text": [
      "\r",
      " 20%|█████████▌                                      | 2/10 [01:15<03:01, 22.70s/trial, best loss: 0.22622902762859975]"
     ]
    },
    {
     "name": "stderr",
     "output_type": "stream",
     "text": [
      "C:\\Users\\USER\\anaconda3\\lib\\site-packages\\lightgbm\\callback.py:186: UserWarning: Early stopping is not available in dart mode\n",
      "  warnings.warn('Early stopping is not available in dart mode')\n",
      "\n"
     ]
    },
    {
     "name": "stdout",
     "output_type": "stream",
     "text": [
      " 40%|███████████████████▏                            | 4/10 [01:17<01:09, 11.62s/trial, best loss: 0.22622902762859975]"
     ]
    },
    {
     "name": "stderr",
     "output_type": "stream",
     "text": [
      "C:\\Users\\USER\\anaconda3\\lib\\site-packages\\lightgbm\\callback.py:186: UserWarning: Early stopping is not available in dart mode\n",
      "  warnings.warn('Early stopping is not available in dart mode')\n",
      "\n"
     ]
    },
    {
     "name": "stdout",
     "output_type": "stream",
     "text": [
      " 60%|████████████████████████████▊                   | 6/10 [01:19<00:25,  6.32s/trial, best loss: 0.22622902762859975]"
     ]
    },
    {
     "name": "stderr",
     "output_type": "stream",
     "text": [
      "C:\\Users\\USER\\anaconda3\\lib\\site-packages\\lightgbm\\callback.py:186: UserWarning: Early stopping is not available in dart mode\n",
      "  warnings.warn('Early stopping is not available in dart mode')\n",
      "\n"
     ]
    },
    {
     "name": "stdout",
     "output_type": "stream",
     "text": [
      "\r",
      " 70%|█████████████████████████████████▌              | 7/10 [01:20<00:13,  4.59s/trial, best loss: 0.22622902762859975]"
     ]
    },
    {
     "name": "stderr",
     "output_type": "stream",
     "text": [
      "C:\\Users\\USER\\anaconda3\\lib\\site-packages\\lightgbm\\callback.py:186: UserWarning: Early stopping is not available in dart mode\n",
      "  warnings.warn('Early stopping is not available in dart mode')\n",
      "\n"
     ]
    },
    {
     "name": "stdout",
     "output_type": "stream",
     "text": [
      "\r",
      " 80%|██████████████████████████████████████▍         | 8/10 [01:47<00:22, 11.44s/trial, best loss: 0.22622902762859975]"
     ]
    },
    {
     "name": "stderr",
     "output_type": "stream",
     "text": [
      "C:\\Users\\USER\\anaconda3\\lib\\site-packages\\lightgbm\\callback.py:186: UserWarning: Early stopping is not available in dart mode\n",
      "  warnings.warn('Early stopping is not available in dart mode')\n",
      "\n"
     ]
    },
    {
     "name": "stdout",
     "output_type": "stream",
     "text": [
      "100%|███████████████████████████████████████████████| 10/10 [02:17<00:00, 13.75s/trial, best loss: 0.22622902762859975]\n"
     ]
    }
   ],
   "source": [
    "def objective(hyperparams):\n",
    "    model = lgb.LGBMClassifier(**params, **hyperparams)\n",
    "    model.fit(X=X_trn, y=y_trn,\n",
    "              eval_set=[(X_val, y_val)],\n",
    "              eval_metric=\"multi_logloss\",#멀티클래스_로그 손실함수\n",
    "              early_stopping_rounds=10,\n",
    "              verbose=False)\n",
    "    score = model.best_score_[\"valid_0\"][\"multi_logloss\"]\n",
    "    #측정한 파라미터 중단됐을 때 최고의 성능점수\n",
    "\n",
    "    return {'loss': score, 'status': STATUS_OK, 'model': model}\n",
    "\n",
    "trials = Trials()\n",
    "best = fmin(fn=objective, space=space, trials=trials, algo=tpe.suggest, max_evals=10, verbose=1)\n",
    "# fn=최소화하고 싶은 함수와 파라미터(space), \n",
    "# trials=실행 객체변수, tpe.sugges=알고리즘 선택\n",
    "# max_evals=서치 횟수 "
   ]
  },
  {
   "cell_type": "code",
   "execution_count": 16,
   "metadata": {},
   "outputs": [
    {
     "name": "stdout",
     "output_type": "stream",
     "text": [
      "{'objective': 'multiclass', 'subsample_freq': 1, 'random_state': 150, 'n_jobs': -1, 'boosting_type': 'gbdt', 'colsample_bytree': 0.7000000000000001, 'learning_rate': 0.06316437855450058, 'n_estimators': 600, 'num_leaves': 10, 'subsample': 0.6000000000000001}\n"
     ]
    }
   ],
   "source": [
    "hyperparams = space_eval(space, best)   #검색하여 나온 최적의 파라미터\n",
    "n_best = trials.best_trial['result']['model'].best_iteration_\n",
    "params.update(hyperparams)\n",
    "print(params)                           #업데이트된 파라미터"
   ]
  },
  {
   "cell_type": "markdown",
   "metadata": {},
   "source": [
    "{'objective': 'multiclass', 'subsample_freq': 1, 'random_state': 150, 'n_jobs': -1,   \n",
    "'boosting_type': 'dart', 'colsample_bytree': 0.6000000000000001,   \n",
    "'learning_rate': 0.028778270063003097, 'n_estimators': 100, 'num_iterations': 1000,  \n",
    "'num_leaves': 31, 'subsample': 0.6000000000000001}"
   ]
  },
  {
   "cell_type": "markdown",
   "metadata": {},
   "source": [
    "{'objective': 'multiclass', 'subsample_freq': 1, 'random_state': 150,  \n",
    "'n_jobs': -1, 'boosting_type': 'gbdt', 'colsample_bytree': 0.7000000000000001,   \n",
    "'learning_rate': 0.06316437855450058, 'n_estimators': 600, 'num_leaves': 10,  \n",
    "'subsample': 0.6000000000000001}\n"
   ]
  },
  {
   "cell_type": "code",
   "execution_count": 17,
   "metadata": {},
   "outputs": [
    {
     "ename": "NameError",
     "evalue": "name 'StratifiedKFold' is not defined",
     "output_type": "error",
     "traceback": [
      "\u001b[1;31m---------------------------------------------------------------------------\u001b[0m",
      "\u001b[1;31mNameError\u001b[0m                                 Traceback (most recent call last)",
      "\u001b[1;32m<ipython-input-17-0a5c14771413>\u001b[0m in \u001b[0;36m<module>\u001b[1;34m\u001b[0m\n\u001b[1;32m----> 1\u001b[1;33m \u001b[0mcv\u001b[0m \u001b[1;33m=\u001b[0m \u001b[0mStratifiedKFold\u001b[0m\u001b[1;33m(\u001b[0m\u001b[0mn_splits\u001b[0m\u001b[1;33m=\u001b[0m\u001b[0mn_fold\u001b[0m\u001b[1;33m,\u001b[0m \u001b[0mshuffle\u001b[0m\u001b[1;33m=\u001b[0m\u001b[1;32mTrue\u001b[0m\u001b[1;33m,\u001b[0m \u001b[0mrandom_state\u001b[0m\u001b[1;33m=\u001b[0m\u001b[0mseed\u001b[0m\u001b[1;33m)\u001b[0m\u001b[1;33m\u001b[0m\u001b[1;33m\u001b[0m\u001b[0m\n\u001b[0m\u001b[0;32m      2\u001b[0m \u001b[0mp_val\u001b[0m \u001b[1;33m=\u001b[0m \u001b[0mnp\u001b[0m\u001b[1;33m.\u001b[0m\u001b[0mzeros\u001b[0m\u001b[1;33m(\u001b[0m\u001b[1;33m(\u001b[0m\u001b[0mtrn\u001b[0m\u001b[1;33m.\u001b[0m\u001b[0mshape\u001b[0m\u001b[1;33m[\u001b[0m\u001b[1;36m0\u001b[0m\u001b[1;33m]\u001b[0m\u001b[1;33m,\u001b[0m \u001b[0mn_class\u001b[0m\u001b[1;33m)\u001b[0m\u001b[1;33m)\u001b[0m\u001b[1;33m\u001b[0m\u001b[1;33m\u001b[0m\u001b[0m\n\u001b[0;32m      3\u001b[0m \u001b[0mp_tst\u001b[0m \u001b[1;33m=\u001b[0m \u001b[0mnp\u001b[0m\u001b[1;33m.\u001b[0m\u001b[0mzeros\u001b[0m\u001b[1;33m(\u001b[0m\u001b[1;33m(\u001b[0m\u001b[0mtst\u001b[0m\u001b[1;33m.\u001b[0m\u001b[0mshape\u001b[0m\u001b[1;33m[\u001b[0m\u001b[1;36m0\u001b[0m\u001b[1;33m]\u001b[0m\u001b[1;33m,\u001b[0m \u001b[0mn_class\u001b[0m\u001b[1;33m)\u001b[0m\u001b[1;33m)\u001b[0m\u001b[1;33m\u001b[0m\u001b[1;33m\u001b[0m\u001b[0m\n\u001b[0;32m      4\u001b[0m \u001b[1;32mfor\u001b[0m \u001b[0mi\u001b[0m\u001b[1;33m,\u001b[0m \u001b[1;33m(\u001b[0m\u001b[0mi_trn\u001b[0m\u001b[1;33m,\u001b[0m \u001b[0mi_val\u001b[0m\u001b[1;33m)\u001b[0m \u001b[1;32min\u001b[0m \u001b[0menumerate\u001b[0m\u001b[1;33m(\u001b[0m\u001b[0mcv\u001b[0m\u001b[1;33m.\u001b[0m\u001b[0msplit\u001b[0m\u001b[1;33m(\u001b[0m\u001b[0mtrn\u001b[0m\u001b[1;33m,\u001b[0m \u001b[0my\u001b[0m\u001b[1;33m)\u001b[0m\u001b[1;33m,\u001b[0m \u001b[1;36m1\u001b[0m\u001b[1;33m)\u001b[0m\u001b[1;33m:\u001b[0m\u001b[1;33m\u001b[0m\u001b[1;33m\u001b[0m\u001b[0m\n\u001b[0;32m      5\u001b[0m     \u001b[0mprint\u001b[0m\u001b[1;33m(\u001b[0m\u001b[1;34mf'training model for CV #{i}'\u001b[0m\u001b[1;33m)\u001b[0m\u001b[1;33m\u001b[0m\u001b[1;33m\u001b[0m\u001b[0m\n",
      "\u001b[1;31mNameError\u001b[0m: name 'StratifiedKFold' is not defined"
     ]
    }
   ],
   "source": [
    "\n",
    "cv = StratifiedKFold(n_splits=n_fold, shuffle=True, random_state=seed)\n",
    "p_val = np.zeros((trn.shape[0], n_class))\n",
    "p_tst = np.zeros((tst.shape[0], n_class))\n",
    "for i, (i_trn, i_val) in enumerate(cv.split(trn, y), 1):\n",
    "    print(f'training model for CV #{i}')\n",
    "    clf = lgb.LGBMClassifier(**params)\n",
    "    clf.fit(trn[i_trn], y[i_trn],\n",
    "            eval_set=[(trn[i_val], y[i_val])],\n",
    "            eval_metric='multiclass',\n",
    "            early_stopping_rounds=10)\n",
    "   \n",
    "    p_val[i_val, :] = clf.predict_proba(trn[i_val])\n",
    "    p_tst += clf.predict_proba(tst) / n_fold\n",
    "#91.8224% 7 90.8879% 14  90.8879% 50   91.2383% 100  91.4720% 107,130   91.2409% 114  90.3650% 174 89.8364%289\n",
    "# n_estimators=1000,learning_rate=0.01, 92.0561%(num_leaves=10)_overfit 91.7056%\n",
    "#num_leaves 91.7056% 16 91.9393% 32 91.9393% 64 (100,0.1)\n",
    "#90.3037%\n",
    "print(f'{accuracy_score(y, np.argmax(p_val, axis=1)) * 100:.4f}%')"
   ]
  },
  {
   "cell_type": "code",
   "execution_count": null,
   "metadata": {},
   "outputs": [],
   "source": [
    "print(len(p_tst))\n",
    "imp = pd.DataFrame({'feature': trn.columns, 'importance': clf.feature_importances_})\n",
    "imp = imp.sort_values('importance').set_index('feature')\n",
    "imp.plot(kind='barh')"
   ]
  },
  {
   "cell_type": "code",
   "execution_count": null,
   "metadata": {},
   "outputs": [],
   "source": [
    "sub = pd.read_csv(sample_file)\n",
    "sub['class'] = p_tst\n",
    "sub.to_csv(sub_file)"
   ]
  }
 ],
 "metadata": {
  "kernelspec": {
   "display_name": "Python 3",
   "language": "python",
   "name": "python3"
  },
  "language_info": {
   "codemirror_mode": {
    "name": "ipython",
    "version": 3
   },
   "file_extension": ".py",
   "mimetype": "text/x-python",
   "name": "python",
   "nbconvert_exporter": "python",
   "pygments_lexer": "ipython3",
   "version": "3.8.3"
  }
 },
 "nbformat": 4,
 "nbformat_minor": 4
}
