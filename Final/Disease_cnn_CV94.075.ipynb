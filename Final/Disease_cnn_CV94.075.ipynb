{
 "cells": [
  {
   "cell_type": "markdown",
   "metadata": {},
   "source": [
    "# Disease Detection On X-ray Images  \n",
    "## _NO CV 93.75%_CV 94.075%\n",
    "https://www.kaggle.com/mayank1101sharma/disease-detection-on-x-ray-images"
   ]
  },
  {
   "cell_type": "code",
   "execution_count": 1,
   "metadata": {},
   "outputs": [],
   "source": [
    "# Import all the necessary libraries\n",
    "import glob\n",
    "import cv2\n",
    "import os\n",
    "import random\n",
    "import pandas as pd\n",
    "import numpy as np\n",
    "import matplotlib.pyplot as plt\n",
    "import seaborn as sns\n",
    "\n",
    "from tensorflow.keras.models import Sequential\n",
    "from tensorflow.keras.layers import Dense, Conv2D , MaxPool2D , Flatten , Dropout , BatchNormalization\n",
    "from tensorflow.keras.preprocessing.image import ImageDataGenerator\n",
    "from tensorflow.keras.callbacks import EarlyStopping, ReduceLROnPlateau\n",
    "from tensorflow.keras.optimizers import Adam\n",
    "from tensorflow.keras.utils import to_categorical\n",
    "from tensorflow.keras.losses import sparse_categorical_crossentropy\n",
    "\n",
    "from sklearn.model_selection import KFold\n",
    "from sklearn.model_selection import train_test_split\n",
    "from sklearn.metrics import classification_report,confusion_matrix\n"
   ]
  },
  {
   "cell_type": "code",
   "execution_count": 2,
   "metadata": {},
   "outputs": [],
   "source": [
    "train_idg = ImageDataGenerator(\n",
    "    rescale = 1./255.,\n",
    "    rotation_range = 30,  \n",
    "    zoom_range = 0.2, \n",
    "    width_shift_range=0.1,  \n",
    "    height_shift_range=0.1,  \n",
    "    horizontal_flip = True,\n",
    ")\n",
    "test_idg = ImageDataGenerator(\n",
    "    rescale = 1./255.\n",
    ")\n",
    "val_idg = ImageDataGenerator(\n",
    "    rescale=1./255.\n",
    ")"
   ]
  },
  {
   "cell_type": "code",
   "execution_count": 3,
   "metadata": {},
   "outputs": [
    {
     "name": "stdout",
     "output_type": "stream",
     "text": [
      "Found 5216 images belonging to 2 classes.\n",
      "Found 624 images belonging to 2 classes.\n",
      "Found 16 images belonging to 2 classes.\n"
     ]
    }
   ],
   "source": [
    "IMG_SIZE = (224, 224)\n",
    "\n",
    "train = train_idg.flow_from_directory('./input/chest_xray/train', \n",
    "                                      class_mode='binary',\n",
    "                                      color_mode=\"grayscale\",\n",
    "                                      target_size = IMG_SIZE\n",
    "                                     )\n",
    "test = test_idg.flow_from_directory('./input/chest_xray/test', \n",
    "                                    class_mode='binary',\n",
    "                                    color_mode=\"grayscale\",\n",
    "                                    target_size = IMG_SIZE\n",
    "                                   )\n",
    "val = val_idg.flow_from_directory('./input/chest_xray/val',\n",
    "                                  class_mode='binary',\n",
    "                                  color_mode=\"grayscale\",\n",
    "                                  target_size = IMG_SIZE\n",
    "                                 )"
   ]
  },
  {
   "cell_type": "code",
   "execution_count": 4,
   "metadata": {},
   "outputs": [
    {
     "name": "stdout",
     "output_type": "stream",
     "text": [
      "32 32\n"
     ]
    }
   ],
   "source": [
    "trainX, trainY = train.next()\n",
    "testX, testY = test.next()\n",
    "valX, valY = val.next()\n",
    "\n",
    "print(len(trainX), len(trainY))#32 32"
   ]
  },
  {
   "cell_type": "code",
   "execution_count": 5,
   "metadata": {},
   "outputs": [
    {
     "name": "stdout",
     "output_type": "stream",
     "text": [
      "Train X=(32, 224, 224, 1) Y=(32,)\n",
      "Test X=(32, 224, 224, 1) Y=(32,)\n",
      "Val X=(16, 224, 224, 1) Y=(16,)\n"
     ]
    }
   ],
   "source": [
    "print('Train X=%s Y=%s' %(trainX.shape, trainY.shape))\n",
    "print('Test X=%s Y=%s' %(testX.shape, testY.shape))\n",
    "print('Val X=%s Y=%s' %(valX.shape, valY.shape))"
   ]
  },
  {
   "cell_type": "code",
   "execution_count": 6,
   "metadata": {},
   "outputs": [
    {
     "data": {
      "text/plain": [
       "<matplotlib.axes._subplots.AxesSubplot at 0x18698772d90>"
      ]
     },
     "execution_count": 6,
     "metadata": {},
     "output_type": "execute_result"
    },
    {
     "data": {
      "image/png": "[encoded data removed]",
      "text/plain": [
       "<Figure size 432x288 with 1 Axes>"
      ]
     },
     "metadata": {
      "needs_background": "light"
     },
     "output_type": "display_data"
    }
   ],
   "source": [
    "labels = ['Normal' if label == 0 else 'Pneumonia' for label in trainY]\n",
    "sns.countplot(labels)"
   ]
  },
  {
   "cell_type": "code",
   "execution_count": 7,
   "metadata": {},
   "outputs": [],
   "source": [
    "model = Sequential()\n",
    "model.add(Conv2D(32 , (3,3) , strides = 1 , padding = 'same' , activation = 'relu' , input_shape = (224, 224,1)))\n",
    "model.add(BatchNormalization())\n",
    "model.add(MaxPool2D((2,2) , strides = 2 , padding = 'same'))\n",
    "model.add(Conv2D(64 , (3,3) , strides = 1 , padding = 'same' , activation = 'relu'))\n",
    "model.add(Dropout(0.1))\n",
    "model.add(BatchNormalization())\n",
    "model.add(MaxPool2D((2,2) , strides = 2 , padding = 'same'))\n",
    "model.add(Conv2D(64 , (3,3) , strides = 1 , padding = 'same' , activation = 'relu'))\n",
    "model.add(BatchNormalization())\n",
    "model.add(MaxPool2D((2,2) , strides = 2 , padding = 'same'))\n",
    "model.add(Conv2D(128 , (3,3) , strides = 1 , padding = 'same' , activation = 'relu'))\n",
    "model.add(Dropout(0.2))\n",
    "model.add(BatchNormalization())\n",
    "model.add(MaxPool2D((2,2) , strides = 2 , padding = 'same'))\n",
    "model.add(Conv2D(256 , (3,3) , strides = 1 , padding = 'same' , activation = 'relu'))\n",
    "model.add(Dropout(0.2))\n",
    "model.add(BatchNormalization())\n",
    "model.add(MaxPool2D((2,2) , strides = 2 , padding = 'same'))\n",
    "model.add(Flatten())\n",
    "model.add(Dense(units = 128 , activation = 'relu'))\n",
    "model.add(Dropout(0.2))\n",
    "model.add(Dense(units = 1 , activation = 'sigmoid'))\n",
    "model.compile(optimizer = \"rmsprop\" , loss = 'binary_crossentropy' , metrics = ['accuracy'])\n",
    "#model.summary()"
   ]
  },
  {
   "cell_type": "code",
   "execution_count": 16,
   "metadata": {},
   "outputs": [],
   "source": [
    "learning_rate_reduction = ReduceLROnPlateau(monitor='val_accuracy', patience = 2, verbose=1,factor=0.3, min_lr=0.000001)"
   ]
  },
  {
   "cell_type": "code",
   "execution_count": 17,
   "metadata": {
    "scrolled": true
   },
   "outputs": [
    {
     "name": "stdout",
     "output_type": "stream",
     "text": [
      "Epoch 1/15\n",
      "163/163 [==============================] - 443s 3s/step - loss: 0.5927 - accuracy: 0.8405 - val_loss: 18.7135 - val_accuracy: 0.5000\n",
      "Epoch 2/15\n",
      "163/163 [==============================] - 440s 3s/step - loss: 0.2902 - accuracy: 0.8984 - val_loss: 23.6093 - val_accuracy: 0.5000\n",
      "Epoch 3/15\n",
      "163/163 [==============================] - ETA: 0s - loss: 0.2643 - accuracy: 0.9101\n",
      "Epoch 00003: ReduceLROnPlateau reducing learning rate to 0.0003000000142492354.\n",
      "163/163 [==============================] - 437s 3s/step - loss: 0.2643 - accuracy: 0.9101 - val_loss: 12.6644 - val_accuracy: 0.5000\n",
      "Epoch 4/15\n",
      "163/163 [==============================] - 435s 3s/step - loss: 0.1712 - accuracy: 0.9471 - val_loss: 0.6836 - val_accuracy: 0.5625\n",
      "Epoch 5/15\n",
      "163/163 [==============================] - 434s 3s/step - loss: 0.1416 - accuracy: 0.9517 - val_loss: 29.4749 - val_accuracy: 0.5000\n",
      "Epoch 6/15\n",
      "163/163 [==============================] - ETA: 0s - loss: 0.1257 - accuracy: 0.9574\n",
      "Epoch 00006: ReduceLROnPlateau reducing learning rate to 9.000000427477062e-05.\n",
      "163/163 [==============================] - 432s 3s/step - loss: 0.1257 - accuracy: 0.9574 - val_loss: 2.6488 - val_accuracy: 0.5625\n",
      "Epoch 7/15\n",
      "163/163 [==============================] - 435s 3s/step - loss: 0.1090 - accuracy: 0.9636 - val_loss: 0.5928 - val_accuracy: 0.6250\n",
      "Epoch 8/15\n",
      "163/163 [==============================] - 433s 3s/step - loss: 0.1096 - accuracy: 0.9634 - val_loss: 0.7921 - val_accuracy: 0.5625\n",
      "Epoch 9/15\n",
      "163/163 [==============================] - ETA: 0s - loss: 0.1113 - accuracy: 0.9634\n",
      "Epoch 00009: ReduceLROnPlateau reducing learning rate to 2.700000040931627e-05.\n",
      "163/163 [==============================] - 432s 3s/step - loss: 0.1113 - accuracy: 0.9634 - val_loss: 1.3373 - val_accuracy: 0.6250\n",
      "Epoch 10/15\n",
      "163/163 [==============================] - 433s 3s/step - loss: 0.0902 - accuracy: 0.9689 - val_loss: 0.6403 - val_accuracy: 0.6250\n",
      "Epoch 11/15\n",
      "163/163 [==============================] - ETA: 0s - loss: 0.0892 - accuracy: 0.9701\n",
      "Epoch 00011: ReduceLROnPlateau reducing learning rate to 8.100000013655517e-06.\n",
      "163/163 [==============================] - 434s 3s/step - loss: 0.0892 - accuracy: 0.9701 - val_loss: 0.7015 - val_accuracy: 0.6250\n",
      "Epoch 12/15\n",
      "163/163 [==============================] - 440s 3s/step - loss: 0.0933 - accuracy: 0.9701 - val_loss: 0.6651 - val_accuracy: 0.5625\n",
      "Epoch 13/15\n",
      "163/163 [==============================] - ETA: 0s - loss: 0.0858 - accuracy: 0.9705\n",
      "Epoch 00013: ReduceLROnPlateau reducing learning rate to 2.429999949526973e-06.\n",
      "163/163 [==============================] - 443s 3s/step - loss: 0.0858 - accuracy: 0.9705 - val_loss: 0.6801 - val_accuracy: 0.5625\n",
      "Epoch 14/15\n",
      "163/163 [==============================] - 442s 3s/step - loss: 0.0861 - accuracy: 0.9724 - val_loss: 0.6886 - val_accuracy: 0.5625\n",
      "Epoch 15/15\n",
      "163/163 [==============================] - ETA: 0s - loss: 0.0865 - accuracy: 0.9726\n",
      "Epoch 00015: ReduceLROnPlateau reducing learning rate to 1e-06.\n",
      "163/163 [==============================] - 436s 3s/step - loss: 0.0865 - accuracy: 0.9726 - val_loss: 0.7017 - val_accuracy: 0.5625\n"
     ]
    }
   ],
   "source": [
    "history = model.fit(train ,batch_size=32, epochs = 15 , validation_data = val ,callbacks = [learning_rate_reduction])"
   ]
  },
  {
   "cell_type": "code",
   "execution_count": 18,
   "metadata": {},
   "outputs": [
    {
     "name": "stdout",
     "output_type": "stream",
     "text": [
      "1/1 [==============================] - 0s 1ms/step - loss: 0.2447 - accuracy: 0.9375\n",
      "Loss of the model is -  0.2447020560503006\n",
      "1/1 [==============================] - 0s 1ms/step - loss: 0.2447 - accuracy: 0.9375\n",
      "Accuracy of the model is -  93.75 %\n"
     ]
    }
   ],
   "source": [
    "print(\"Loss of the model is - \" , model.evaluate(testX,testY)[0])\n",
    "print(\"Accuracy of the model is - \" , model.evaluate(testX,testY)[1]*100 , \"%\")"
   ]
  },
  {
   "cell_type": "markdown",
   "metadata": {},
   "source": [
    "# FOR CV_CNN(Disease)"
   ]
  },
  {
   "cell_type": "code",
   "execution_count": 8,
   "metadata": {},
   "outputs": [],
   "source": [
    "path = './input/chest_xray/'\n",
    "# define paths\n",
    "train_normal_dir = path + 'train/NORMAL/'\n",
    "train_pneu_dir = path + 'train/PNEUMONIA/'\n",
    "\n",
    "test_normal_dir = path + 'test/NORMAL/'\n",
    "test_pneu_dir = path + 'test/PNEUMONIA/'\n",
    "\n",
    "val_normal_dir = path + 'val/NORMAL/'\n",
    "val_pneu_dir = path + 'val/PNEUMONIA/'\n",
    "\n",
    "# find all files, our files has extension jpeg\n",
    "train_normal_cases = glob.glob(train_normal_dir + '*jpeg') #1341\n",
    "train_pneu_cases = glob.glob(train_pneu_dir + '*jpeg')#3875\n",
    "\n",
    "test_normal_cases = glob.glob(test_normal_dir + '*jpeg')#234\n",
    "test_pneu_cases = glob.glob(test_pneu_dir + '*jpeg')#390\n",
    "\n",
    "val_normal_cases = glob.glob(val_normal_dir + '*jpeg')#8\n",
    "val_pneu_cases = glob.glob(val_pneu_dir + '*jpeg')#8\n",
    "\n",
    "\n",
    "# make path using / instead of \\\\ ... this may be redudant step\n",
    "train_normal_cases = [x.replace('\\\\', '/') for x in train_normal_cases]\n",
    "train_pneu_cases = [x.replace('\\\\', '/') for x in train_pneu_cases]\n",
    "test_normal_cases = [x.replace('\\\\', '/') for x in test_normal_cases]\n",
    "test_pneu_cases = [x.replace('\\\\', '/') for x in test_pneu_cases]\n",
    "val_normal_cases = [x.replace('\\\\', '/') for x in val_normal_cases]\n",
    "val_pneu_cases = [x.replace('\\\\', '/') for x in val_pneu_cases]"
   ]
  },
  {
   "cell_type": "code",
   "execution_count": 9,
   "metadata": {},
   "outputs": [],
   "source": [
    "# create lists for train, test & validation cases, create labels as well\n",
    "train_list = []\n",
    "test_list = []\n",
    "val_list = []\n",
    "\n",
    "for x in train_normal_cases:\n",
    "    train_list.append([x, 0])\n",
    "\n",
    "for x in train_pneu_cases:\n",
    "    train_list.append([x, 1])\n",
    "\n",
    "for x in test_normal_cases:\n",
    "    test_list.append([x, 0])\n",
    "\n",
    "for x in test_pneu_cases:\n",
    "    test_list.append([x, 1])\n",
    "\n",
    "for x in val_normal_cases:\n",
    "    val_list.append([x, 0])\n",
    "\n",
    "for x in val_pneu_cases:\n",
    "    val_list.append([x, 1])"
   ]
  },
  {
   "cell_type": "code",
   "execution_count": 10,
   "metadata": {},
   "outputs": [],
   "source": [
    "# shuffle/randomize data as they were loaded in order: normal cases, then pneumonia cases\n",
    "random.shuffle(train_list)\n",
    "random.shuffle(test_list)\n",
    "random.shuffle(val_list)"
   ]
  },
  {
   "cell_type": "code",
   "execution_count": 11,
   "metadata": {},
   "outputs": [],
   "source": [
    "# create dataframes\n",
    "train_df = pd.DataFrame(train_list, columns=['image', 'label'])\n",
    "test_df = pd.DataFrame(test_list, columns=['image', 'label'])\n",
    "val_df = pd.DataFrame(val_list, columns=['image', 'label'])"
   ]
  },
  {
   "cell_type": "code",
   "execution_count": 12,
   "metadata": {},
   "outputs": [],
   "source": [
    "def process_data(img_path):\n",
    "    img = cv2.imread(img_path)\n",
    "    img = cv2.resize(img, (224, 224))\n",
    "    img = cv2.cvtColor(img, cv2.COLOR_BGR2GRAY)\n",
    "    img = img/255.0\n",
    "    img = np.reshape(img, (224, 224,1))\n",
    "   \n",
    "    return img\n",
    "\n",
    "def compose_dataset(df):\n",
    "    data = []\n",
    "    labels = []\n",
    "\n",
    "    for img_path, label in df.values:\n",
    "        data.append(process_data(img_path))\n",
    "        labels.append(label)\n",
    "       \n",
    "    return np.array(data), np.array(labels)"
   ]
  },
  {
   "cell_type": "code",
   "execution_count": 13,
   "metadata": {},
   "outputs": [
    {
     "name": "stdout",
     "output_type": "stream",
     "text": [
      "Train data shape: (5216, 224, 224, 1), Labels shape: (5216,)\n",
      "Test data shape: (624, 224, 224, 1), Labels shape: (624,)\n",
      "Validation data shape: (16, 224, 224, 1), Labels shape: (16,)\n"
     ]
    }
   ],
   "source": [
    "X_train, y_train = compose_dataset(train_df)\n",
    "X_test, y_test = compose_dataset(test_df)\n",
    "X_val, y_val = compose_dataset(val_df)\n",
    "\n",
    "print('Train data shape: {}, Labels shape: {}'.format(X_train.shape, y_train.shape))\n",
    "print('Test data shape: {}, Labels shape: {}'.format(X_test.shape, y_test.shape))\n",
    "print('Validation data shape: {}, Labels shape: {}'.format(X_val.shape, y_val.shape))"
   ]
  },
  {
   "cell_type": "code",
   "execution_count": 14,
   "metadata": {},
   "outputs": [],
   "source": [
    "# define generator\n",
    "datagen = ImageDataGenerator(\n",
    "    rotation_range=10,\n",
    "    zoom_range = 0.1,\n",
    "    width_shift_range=0.1,\n",
    "    height_shift_range=0.1,\n",
    "    horizontal_flip=False,\n",
    "    vertical_flip=False\n",
    ")\n",
    "\n",
    "# fit generator on our train features\n",
    "datagen.fit(X_train)"
   ]
  },
  {
   "cell_type": "code",
   "execution_count": 15,
   "metadata": {},
   "outputs": [],
   "source": [
    "y_train = to_categorical(y_train)\n",
    "y_test = to_categorical(y_test)\n",
    "y_val = to_categorical(y_val)"
   ]
  },
  {
   "cell_type": "code",
   "execution_count": 16,
   "metadata": {},
   "outputs": [],
   "source": [
    "kfold = KFold(n_splits=5, shuffle=True)\n",
    "\n",
    "# Model configuration\n",
    "img_width, img_height, img_num_channels = 224, 224, 1 #gray image channel = 1\n",
    "loss_function = sparse_categorical_crossentropy\n",
    "acc_per_fold = []\n",
    "loss_per_fold = []"
   ]
  },
  {
   "cell_type": "code",
   "execution_count": 44,
   "metadata": {},
   "outputs": [],
   "source": [
    "def get_model():\n",
    "    model = Sequential([\n",
    "        Conv2D(32 , (3,3) , strides = 1 , padding = 'same' , activation = 'relu' , input_shape = (224, 224,1)),\n",
    "        BatchNormalization(),\n",
    "        MaxPool2D((2,2) , strides = 2 , padding = 'same'),\n",
    "        \n",
    "        Conv2D(64 , (3,3) , strides = 1 , padding = 'same' , activation = 'relu'),\n",
    "        Dropout(0.1),\n",
    "        BatchNormalization(),\n",
    "        \n",
    "        MaxPool2D((2,2) , strides = 2 , padding = 'same'),\n",
    "        Conv2D(64 , (3,3) , strides = 1 , padding = 'same' , activation = 'relu'),\n",
    "        BatchNormalization(),\n",
    "        \n",
    "        MaxPool2D((2,2) , strides = 2 , padding = 'same'),\n",
    "        Conv2D(128 , (3,3) , strides = 1 , padding = 'same' , activation = 'relu'),\n",
    "        Dropout(0.2),\n",
    "        BatchNormalization(),\n",
    "        \n",
    "        MaxPool2D((2,2) , strides = 2 , padding = 'same'),\n",
    "        Conv2D(256 , (3,3) , strides = 1 , padding = 'same' , activation = 'relu'),\n",
    "        Dropout(0.2),\n",
    "        BatchNormalization(),\n",
    "        \n",
    "        MaxPool2D((2,2) , strides = 2 , padding = 'same'),\n",
    "        Flatten(),\n",
    "        Dense(units = 128 , activation = 'relu'),\n",
    "        Dropout(0.2),\n",
    "        Dense(units = 2 , activation = 'sigmoid')##2 or 1 + sigmoid or softmax       \n",
    "    ])\n",
    "    # compile model\n",
    "    model.compile(loss='binary_crossentropy', optimizer=\"rmsprop\", metrics=['accuracy'])\n",
    "    ## 최적화 adam or rmsprop..\n",
    "    \n",
    "    return model\n"
   ]
  },
  {
   "cell_type": "code",
   "execution_count": 45,
   "metadata": {
    "scrolled": true
   },
   "outputs": [
    {
     "name": "stdout",
     "output_type": "stream",
     "text": [
      "training model for Kfold #1\n",
      "Epoch 1/20\n",
      "261/261 [==============================] - 372s 1s/step - loss: 2.6023 - accuracy: 0.8094\n",
      "Epoch 2/20\n",
      "261/261 [==============================] - 357s 1s/step - loss: 0.8881 - accuracy: 0.9186\n",
      "Epoch 3/20\n",
      "261/261 [==============================] - 354s 1s/step - loss: 0.5813 - accuracy: 0.9259\n",
      "Epoch 4/20\n",
      "261/261 [==============================] - 350s 1s/step - loss: 0.7657 - accuracy: 0.9275\n",
      "Epoch 5/20\n",
      "261/261 [==============================] - 347s 1s/step - loss: 0.4332 - accuracy: 0.9552\n",
      "Epoch 6/20\n",
      "261/261 [==============================] - 334s 1s/step - loss: 0.4555 - accuracy: 0.9513\n",
      "Epoch 7/20\n",
      "261/261 [==============================] - 330s 1s/step - loss: 0.5287 - accuracy: 0.9611\n",
      "Epoch 8/20\n",
      "261/261 [==============================] - 330s 1s/step - loss: 0.5682 - accuracy: 0.9615\n",
      "Epoch 9/20\n",
      "261/261 [==============================] - 331s 1s/step - loss: 0.7443 - accuracy: 0.9569\n",
      "Epoch 10/20\n",
      "261/261 [==============================] - 330s 1s/step - loss: 0.4038 - accuracy: 0.9687\n",
      "Epoch 11/20\n",
      "261/261 [==============================] - 330s 1s/step - loss: 0.4770 - accuracy: 0.9701\n",
      "Epoch 12/20\n",
      "261/261 [==============================] - 330s 1s/step - loss: 0.5279 - accuracy: 0.9667\n",
      "Score for fold 1: loss of 0.6271179914474487; accuracy of 95.4023003578186%\n",
      ">Saved ./models/model_Diseasecnn1.h5\n",
      "training model for Kfold #2\n",
      "Epoch 1/20\n",
      "261/261 [==============================] - 331s 1s/step - loss: 2.5241 - accuracy: 0.7891\n",
      "Epoch 2/20\n",
      "261/261 [==============================] - 335s 1s/step - loss: 0.5793 - accuracy: 0.9043\n",
      "Epoch 3/20\n",
      "261/261 [==============================] - 333s 1s/step - loss: 0.4963 - accuracy: 0.9331\n",
      "Epoch 4/20\n",
      "261/261 [==============================] - 333s 1s/step - loss: 0.5661 - accuracy: 0.9407\n",
      "Epoch 5/20\n",
      "261/261 [==============================] - 334s 1s/step - loss: 0.4947 - accuracy: 0.9628\n",
      "Epoch 6/20\n",
      "261/261 [==============================] - 331s 1s/step - loss: 0.4996 - accuracy: 0.9489\n",
      "Epoch 7/20\n",
      "261/261 [==============================] - 334s 1s/step - loss: 0.5381 - accuracy: 0.9681\n",
      "Epoch 8/20\n",
      "261/261 [==============================] - 347s 1s/step - loss: 0.3968 - accuracy: 0.9649\n",
      "Epoch 9/20\n",
      "261/261 [==============================] - 390s 1s/step - loss: 0.4687 - accuracy: 0.9721\n",
      "Epoch 10/20\n",
      "261/261 [==============================] - 359s 1s/step - loss: 0.4506 - accuracy: 0.9702\n",
      "Epoch 11/20\n",
      "261/261 [==============================] - 341s 1s/step - loss: 0.5814 - accuracy: 0.9743\n",
      "Epoch 12/20\n",
      "261/261 [==============================] - 360s 1s/step - loss: 0.4436 - accuracy: 0.9717\n",
      "Epoch 13/20\n",
      "261/261 [==============================] - 357s 1s/step - loss: 0.4352 - accuracy: 0.9822\n",
      "Epoch 14/20\n",
      "261/261 [==============================] - 374s 1s/step - loss: 0.4280 - accuracy: 0.9797\n",
      "Score for fold 2: loss of 1.0051307678222656; accuracy of 94.8226273059845%\n",
      ">Saved ./models/model_Diseasecnn2.h5\n",
      "training model for Kfold #3\n",
      "Epoch 1/20\n",
      "261/261 [==============================] - 378s 1s/step - loss: 3.6694 - accuracy: 0.7658\n",
      "Epoch 2/20\n",
      "261/261 [==============================] - 361s 1s/step - loss: 0.7485 - accuracy: 0.9142\n",
      "Epoch 3/20\n",
      "261/261 [==============================] - 347s 1s/step - loss: 0.7292 - accuracy: 0.9358\n",
      "Epoch 4/20\n",
      "261/261 [==============================] - 344s 1s/step - loss: 0.6018 - accuracy: 0.9448\n",
      "Epoch 5/20\n",
      "261/261 [==============================] - 360s 1s/step - loss: 0.4373 - accuracy: 0.9523\n",
      "Epoch 6/20\n",
      "261/261 [==============================] - 351s 1s/step - loss: 0.3818 - accuracy: 0.9534\n",
      "Epoch 7/20\n",
      "261/261 [==============================] - 341s 1s/step - loss: 0.4430 - accuracy: 0.9672\n",
      "Epoch 8/20\n",
      "261/261 [==============================] - 332s 1s/step - loss: 0.6414 - accuracy: 0.9563\n",
      "Epoch 9/20\n",
      "261/261 [==============================] - 332s 1s/step - loss: 0.5555 - accuracy: 0.9678\n",
      "Epoch 10/20\n",
      "261/261 [==============================] - 359s 1s/step - loss: 0.6806 - accuracy: 0.9689\n",
      "Epoch 11/20\n",
      "261/261 [==============================] - 358s 1s/step - loss: 0.6186 - accuracy: 0.9657\n",
      "Epoch 12/20\n",
      "261/261 [==============================] - 360s 1s/step - loss: 0.5080 - accuracy: 0.9730\n",
      "Score for fold 3: loss of 1.502806544303894; accuracy of 94.15148496627808%\n",
      ">Saved ./models/model_Diseasecnn3.h5\n",
      "training model for Kfold #4\n",
      "Epoch 1/20\n",
      "261/261 [==============================] - 340s 1s/step - loss: 3.0290 - accuracy: 0.7799\n",
      "Epoch 2/20\n",
      "261/261 [==============================] - 338s 1s/step - loss: 0.7647 - accuracy: 0.9142\n",
      "Epoch 3/20\n",
      "261/261 [==============================] - 341s 1s/step - loss: 0.5278 - accuracy: 0.9390\n",
      "Epoch 4/20\n",
      "261/261 [==============================] - 338s 1s/step - loss: 0.5431 - accuracy: 0.9465\n",
      "Epoch 5/20\n",
      "261/261 [==============================] - 337s 1s/step - loss: 0.4576 - accuracy: 0.9472\n",
      "Epoch 6/20\n",
      "261/261 [==============================] - 337s 1s/step - loss: 0.3250 - accuracy: 0.9600\n",
      "Epoch 7/20\n",
      "261/261 [==============================] - 337s 1s/step - loss: 0.3751 - accuracy: 0.9601\n",
      "Epoch 8/20\n",
      "261/261 [==============================] - 339s 1s/step - loss: 0.3990 - accuracy: 0.9699\n",
      "Epoch 9/20\n",
      "261/261 [==============================] - 338s 1s/step - loss: 0.4172 - accuracy: 0.9626\n",
      "Epoch 10/20\n",
      "261/261 [==============================] - 337s 1s/step - loss: 0.3971 - accuracy: 0.9671\n",
      "Epoch 11/20\n",
      "261/261 [==============================] - 337s 1s/step - loss: 0.3021 - accuracy: 0.9744\n",
      "Epoch 12/20\n",
      "261/261 [==============================] - 337s 1s/step - loss: 0.3446 - accuracy: 0.9782\n",
      "Epoch 13/20\n",
      "261/261 [==============================] - 337s 1s/step - loss: 0.4230 - accuracy: 0.9687\n",
      "Epoch 14/20\n",
      "261/261 [==============================] - 336s 1s/step - loss: 0.3902 - accuracy: 0.9832\n",
      "Epoch 15/20\n",
      "261/261 [==============================] - 337s 1s/step - loss: 0.3662 - accuracy: 0.9825\n",
      "Epoch 16/20\n",
      "261/261 [==============================] - 338s 1s/step - loss: 0.5767 - accuracy: 0.9794\n",
      "Epoch 17/20\n",
      "261/261 [==============================] - 337s 1s/step - loss: 0.4415 - accuracy: 0.9835\n",
      "Epoch 18/20\n",
      "261/261 [==============================] - 334s 1s/step - loss: 0.3381 - accuracy: 0.9834\n",
      "Epoch 19/20\n",
      "261/261 [==============================] - 333s 1s/step - loss: 0.3221 - accuracy: 0.9854\n",
      "Epoch 20/20\n",
      "261/261 [==============================] - 341s 1s/step - loss: 0.2937 - accuracy: 0.9809\n",
      "Score for fold 4: loss of 0.26033470034599304; accuracy of 97.7948248386383%\n",
      ">Saved ./models/model_Diseasecnn4.h5\n",
      "training model for Kfold #5\n",
      "Epoch 1/20\n",
      "261/261 [==============================] - 355s 1s/step - loss: 3.0355 - accuracy: 0.7828\n",
      "Epoch 2/20\n",
      "261/261 [==============================] - 355s 1s/step - loss: 1.2747 - accuracy: 0.9035\n",
      "Epoch 3/20\n",
      "261/261 [==============================] - 333s 1s/step - loss: 0.4298 - accuracy: 0.9344\n",
      "Epoch 4/20\n",
      "261/261 [==============================] - 331s 1s/step - loss: 0.3826 - accuracy: 0.9454\n",
      "Epoch 5/20\n",
      "261/261 [==============================] - 332s 1s/step - loss: 0.6260 - accuracy: 0.9429\n",
      "Epoch 6/20\n",
      "261/261 [==============================] - 360s 1s/step - loss: 0.3495 - accuracy: 0.9473\n",
      "Epoch 7/20\n",
      "261/261 [==============================] - 366s 1s/step - loss: 0.3245 - accuracy: 0.9663\n",
      "Epoch 8/20\n",
      "261/261 [==============================] - 411s 2s/step - loss: 0.4638 - accuracy: 0.9565\n",
      "Epoch 9/20\n",
      "261/261 [==============================] - 369s 1s/step - loss: 0.3395 - accuracy: 0.9703\n",
      "Epoch 10/20\n",
      "261/261 [==============================] - 373s 1s/step - loss: 0.3608 - accuracy: 0.9750\n",
      "Epoch 11/20\n",
      "261/261 [==============================] - 367s 1s/step - loss: 0.4235 - accuracy: 0.9695\n",
      "Epoch 12/20\n",
      "261/261 [==============================] - 354s 1s/step - loss: 0.3617 - accuracy: 0.9735\n",
      "Epoch 13/20\n",
      "261/261 [==============================] - 343s 1s/step - loss: 0.5157 - accuracy: 0.9665\n",
      "Epoch 14/20\n",
      "261/261 [==============================] - 345s 1s/step - loss: 0.5027 - accuracy: 0.9706\n",
      "Epoch 15/20\n",
      "261/261 [==============================] - 343s 1s/step - loss: 0.5919 - accuracy: 0.9776\n",
      "Epoch 16/20\n",
      "261/261 [==============================] - 341s 1s/step - loss: 0.2532 - accuracy: 0.9807\n",
      "Epoch 17/20\n",
      "261/261 [==============================] - 340s 1s/step - loss: 0.5518 - accuracy: 0.9820\n",
      "Score for fold 5: loss of 1.7733149528503418; accuracy of 88.20709586143494%\n",
      ">Saved ./models/model_Diseasecnn5.h5\n"
     ]
    }
   ],
   "source": [
    "for i, (train, test) in enumerate(kfold.split(X_train, y_train), 1):\n",
    "   \n",
    "    print(f'training model for Kfold #{i}')\n",
    "    callback = EarlyStopping(monitor='loss', patience=6)\n",
    "   \n",
    "    model = get_model()\n",
    "\n",
    "    # Fit data to model\n",
    "    #model.fit(datagen.flow(X_train[train], y_train[train], batch_size=4),\n",
    "    history = model.fit(X_train[train], y_train[train],\n",
    "                        batch_size = 16,\n",
    "                        epochs=20,\n",
    "                        callbacks=[callback],\n",
    "                        verbose = 1,\n",
    "                        class_weight={0:6.0, 1:0.5}\n",
    "                       )\n",
    "   \n",
    "    scores = model.evaluate(X_train[test], y_train[test], verbose=0)\n",
    "    print(f'Score for fold {i}: {model.metrics_names[0]} of {scores[0]}; {model.metrics_names[1]} of {scores[1]*100}%')\n",
    "    acc_per_fold.append(scores[1] * 100)\n",
    "    loss_per_fold.append(scores[0])\n",
    "   \n",
    "    filename = './models/model_Diseasecnn' + str(i) + '.h5'\n",
    "    model.save(filename)\n",
    "    print('>Saved %s' % filename)"
   ]
  },
  {
   "cell_type": "code",
   "execution_count": 46,
   "metadata": {},
   "outputs": [
    {
     "name": "stdout",
     "output_type": "stream",
     "text": [
      "Score per fold\n",
      "------------------------------------------------------------------------\n",
      "> Fold 1 - Loss: 0.6271179914474487 - Accuracy: 95.4023003578186%\n",
      "------------------------------------------------------------------------\n",
      "Average scores for all folds:\n",
      "> Accuracy: 94.07566666603088 (+- 3.1810663735894322)\n",
      "> Loss: 1.0337409913539886\n",
      "------------------------------------------------------------------------\n",
      "------------------------------------------------------------------------\n",
      "> Fold 2 - Loss: 1.0051307678222656 - Accuracy: 94.8226273059845%\n",
      "------------------------------------------------------------------------\n",
      "Average scores for all folds:\n",
      "> Accuracy: 94.07566666603088 (+- 3.1810663735894322)\n",
      "> Loss: 1.0337409913539886\n",
      "------------------------------------------------------------------------\n",
      "------------------------------------------------------------------------\n",
      "> Fold 3 - Loss: 1.502806544303894 - Accuracy: 94.15148496627808%\n",
      "------------------------------------------------------------------------\n",
      "Average scores for all folds:\n",
      "> Accuracy: 94.07566666603088 (+- 3.1810663735894322)\n",
      "> Loss: 1.0337409913539886\n",
      "------------------------------------------------------------------------\n",
      "------------------------------------------------------------------------\n",
      "> Fold 4 - Loss: 0.26033470034599304 - Accuracy: 97.7948248386383%\n",
      "------------------------------------------------------------------------\n",
      "Average scores for all folds:\n",
      "> Accuracy: 94.07566666603088 (+- 3.1810663735894322)\n",
      "> Loss: 1.0337409913539886\n",
      "------------------------------------------------------------------------\n",
      "------------------------------------------------------------------------\n",
      "> Fold 5 - Loss: 1.7733149528503418 - Accuracy: 88.20709586143494%\n",
      "------------------------------------------------------------------------\n",
      "Average scores for all folds:\n",
      "> Accuracy: 94.07566666603088 (+- 3.1810663735894322)\n",
      "> Loss: 1.0337409913539886\n",
      "------------------------------------------------------------------------\n"
     ]
    }
   ],
   "source": [
    "# == Provide average scores ==\n",
    "print('Score per fold')\n",
    "for i in range(0, len(acc_per_fold)):\n",
    "    print('------------------------------------------------------------------------')\n",
    "    print(f'> Fold {i+1} - Loss: {loss_per_fold[i]} - Accuracy: {acc_per_fold[i]}%')\n",
    "    print('------------------------------------------------------------------------')\n",
    "    print('Average scores for all folds:')\n",
    "    print(f'> Accuracy: {np.mean(acc_per_fold)} (+- {np.std(acc_per_fold)})')\n",
    "    print(f'> Loss: {np.mean(loss_per_fold)}')\n",
    "    print('------------------------------------------------------------------------')"
   ]
  },
  {
   "cell_type": "code",
   "execution_count": 47,
   "metadata": {},
   "outputs": [
    {
     "data": {
      "text/plain": [
       "[95.4023003578186,\n",
       " 94.8226273059845,\n",
       " 94.15148496627808,\n",
       " 97.7948248386383,\n",
       " 88.20709586143494]"
      ]
     },
     "execution_count": 47,
     "metadata": {},
     "output_type": "execute_result"
    }
   ],
   "source": [
    "acc_per_fold"
   ]
  },
  {
   "cell_type": "code",
   "execution_count": 51,
   "metadata": {},
   "outputs": [
    {
     "name": "stdout",
     "output_type": "stream",
     "text": [
      "Test acc : 94.07566666603088\n"
     ]
    }
   ],
   "source": [
    "def average(list):\n",
    "\n",
    "    return (sum(list) / len(list))\n",
    "\n",
    "print(\"Test acc : {}\".format(average(acc_per_fold)));"
   ]
  },
  {
   "cell_type": "code",
   "execution_count": null,
   "metadata": {},
   "outputs": [],
   "source": []
  }
 ],
 "metadata": {
  "kernelspec": {
   "display_name": "Python 3",
   "language": "python",
   "name": "python3"
  },
  "language_info": {
   "codemirror_mode": {
    "name": "ipython",
    "version": 3
   },
   "file_extension": ".py",
   "mimetype": "text/x-python",
   "name": "python",
   "nbconvert_exporter": "python",
   "pygments_lexer": "ipython3",
   "version": "3.8.3"
  }
 },
 "nbformat": 4,
 "nbformat_minor": 4
}
