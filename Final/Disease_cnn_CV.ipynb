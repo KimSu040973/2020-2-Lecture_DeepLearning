{
 "cells": [
  {
   "cell_type": "markdown",
   "metadata": {},
   "source": [
    "# Disease Detection On X-ray Images  \n",
    "## Import library"
   ]
  },
  {
   "cell_type": "code",
   "execution_count": 19,
   "metadata": {},
   "outputs": [],
   "source": [
    "# Import all the necessary libraries\n",
    "import glob\n",
    "import cv2\n",
    "import os\n",
    "import random\n",
    "import pandas as pd\n",
    "import numpy as np\n",
    "import matplotlib.pyplot as plt\n",
    "import seaborn as sns\n",
    "\n",
    "from tensorflow.keras.models import Sequential\n",
    "from tensorflow.keras.layers import Dense, Conv2D , MaxPool2D , Flatten , Dropout , BatchNormalization\n",
    "from tensorflow.keras.preprocessing.image import ImageDataGenerator\n",
    "from tensorflow.keras.callbacks import EarlyStopping, ReduceLROnPlateau\n",
    "from tensorflow.keras.optimizers import Adam\n",
    "from tensorflow.keras.utils import to_categorical\n",
    "from tensorflow.keras.losses import sparse_categorical_crossentropy\n",
    "\n",
    "from sklearn.model_selection import KFold\n",
    "from sklearn.model_selection import train_test_split\n",
    "from sklearn.metrics import classification_report,confusion_matrix\n",
    "from sklearn.utils.class_weight import compute_class_weight"
   ]
  },
  {
   "cell_type": "markdown",
   "metadata": {},
   "source": [
    "## Load data & augmentaion_no cv"
   ]
  },
  {
   "cell_type": "code",
   "execution_count": 2,
   "metadata": {},
   "outputs": [],
   "source": [
    "train_idg = ImageDataGenerator(\n",
    "    rescale = 1./255.,\n",
    "    rotation_range = 30,  \n",
    "    zoom_range = 0.2, \n",
    "    width_shift_range=0.1,  \n",
    "    height_shift_range=0.1,  \n",
    "    horizontal_flip = True,\n",
    ")\n",
    "test_idg = ImageDataGenerator(\n",
    "    rescale = 1./255.\n",
    ")\n",
    "val_idg = ImageDataGenerator(\n",
    "    rescale=1./255.\n",
    ")"
   ]
  },
  {
   "cell_type": "code",
   "execution_count": 3,
   "metadata": {},
   "outputs": [
    {
     "name": "stdout",
     "output_type": "stream",
     "text": [
      "Found 5216 images belonging to 2 classes.\n",
      "Found 624 images belonging to 2 classes.\n",
      "Found 16 images belonging to 2 classes.\n"
     ]
    }
   ],
   "source": [
    "IMG_SIZE = (224, 224)\n",
    "\n",
    "train = train_idg.flow_from_directory('./input/chest_xray/train', \n",
    "                                      class_mode='binary',\n",
    "                                      color_mode=\"grayscale\",\n",
    "                                      target_size = IMG_SIZE\n",
    "                                     )\n",
    "test = test_idg.flow_from_directory('./input/chest_xray/test', \n",
    "                                    class_mode='binary',\n",
    "                                    color_mode=\"grayscale\",\n",
    "                                    target_size = IMG_SIZE\n",
    "                                   )\n",
    "val = val_idg.flow_from_directory('./input/chest_xray/val',\n",
    "                                  class_mode='binary',\n",
    "                                  color_mode=\"grayscale\",\n",
    "                                  target_size = IMG_SIZE\n",
    "                                 )"
   ]
  },
  {
   "cell_type": "code",
   "execution_count": 4,
   "metadata": {},
   "outputs": [
    {
     "name": "stdout",
     "output_type": "stream",
     "text": [
      "32 32\n"
     ]
    }
   ],
   "source": [
    "trainX, trainY = train.next()\n",
    "testX, testY = test.next()\n",
    "valX, valY = val.next()\n",
    "\n",
    "print(len(trainX), len(trainY))#32 32"
   ]
  },
  {
   "cell_type": "code",
   "execution_count": 5,
   "metadata": {},
   "outputs": [
    {
     "name": "stdout",
     "output_type": "stream",
     "text": [
      "Train X=(32, 224, 224, 1) Y=(32,)\n",
      "Test X=(32, 224, 224, 1) Y=(32,)\n",
      "Val X=(16, 224, 224, 1) Y=(16,)\n"
     ]
    }
   ],
   "source": [
    "print('Train X=%s Y=%s' %(trainX.shape, trainY.shape))\n",
    "print('Test X=%s Y=%s' %(testX.shape, testY.shape))\n",
    "print('Val X=%s Y=%s' %(valX.shape, valY.shape))"
   ]
  },
  {
   "cell_type": "code",
   "execution_count": 6,
   "metadata": {},
   "outputs": [
    {
     "data": {
      "text/plain": [
       "<matplotlib.axes._subplots.AxesSubplot at 0x18698772d90>"
      ]
     },
     "execution_count": 6,
     "metadata": {},
     "output_type": "execute_result"
    },
    {
     "data": {
      "image/png": "[encoded data removed]",
      "text/plain": [
       "<Figure size 432x288 with 1 Axes>"
      ]
     },
     "metadata": {
      "needs_background": "light"
     },
     "output_type": "display_data"
    }
   ],
   "source": [
    "labels = ['Normal' if label == 0 else 'Pneumonia' for label in trainY]\n",
    "sns.countplot(labels)"
   ]
  },
  {
   "cell_type": "markdown",
   "metadata": {},
   "source": [
    "## Modelling_no cv"
   ]
  },
  {
   "cell_type": "code",
   "execution_count": null,
   "metadata": {},
   "outputs": [],
   "source": [
    "model = Sequential()\n",
    "model.add(Conv2D(32 , (3,3) , strides = 1 , padding = 'same' , activation = 'relu' , input_shape = (224, 224,1)))\n",
    "model.add(BatchNormalization())\n",
    "model.add(MaxPool2D((2,2) , strides = 2 , padding = 'same'))\n",
    "model.add(Conv2D(64 , (3,3) , strides = 1 , padding = 'same' , activation = 'relu'))\n",
    "model.add(Dropout(0.1))\n",
    "model.add(BatchNormalization())\n",
    "model.add(MaxPool2D((2,2) , strides = 2 , padding = 'same'))\n",
    "model.add(Conv2D(64 , (3,3) , strides = 1 , padding = 'same' , activation = 'relu'))\n",
    "model.add(BatchNormalization())\n",
    "model.add(MaxPool2D((2,2) , strides = 2 , padding = 'same'))\n",
    "model.add(Conv2D(128 , (3,3) , strides = 1 , padding = 'same' , activation = 'relu'))\n",
    "model.add(Dropout(0.2))\n",
    "model.add(BatchNormalization())\n",
    "model.add(MaxPool2D((2,2) , strides = 2 , padding = 'same'))\n",
    "model.add(Conv2D(256 , (3,3) , strides = 1 , padding = 'same' , activation = 'relu'))\n",
    "model.add(Dropout(0.2))\n",
    "model.add(BatchNormalization())\n",
    "model.add(MaxPool2D((2,2) , strides = 2 , padding = 'same'))\n",
    "model.add(Flatten())\n",
    "model.add(Dense(units = 128 , activation = 'relu'))\n",
    "model.add(Dropout(0.2))\n",
    "model.add(Dense(units = 1 , activation = 'sigmoid'))\n",
    "model.compile(optimizer = \"rmsprop\" , loss = 'binary_crossentropy' , metrics = ['accuracy'])\n",
    "model.summary()"
   ]
  },
  {
   "cell_type": "code",
   "execution_count": 16,
   "metadata": {},
   "outputs": [],
   "source": [
    "learning_rate_reduction = ReduceLROnPlateau(monitor='val_accuracy', patience = 2, verbose=1,factor=0.3, min_lr=0.000001)"
   ]
  },
  {
   "cell_type": "code",
   "execution_count": 17,
   "metadata": {
    "scrolled": true
   },
   "outputs": [
    {
     "name": "stdout",
     "output_type": "stream",
     "text": [
      "Epoch 1/15\n",
      "163/163 [==============================] - 443s 3s/step - loss: 0.5927 - accuracy: 0.8405 - val_loss: 18.7135 - val_accuracy: 0.5000\n",
      "Epoch 2/15\n",
      "163/163 [==============================] - 440s 3s/step - loss: 0.2902 - accuracy: 0.8984 - val_loss: 23.6093 - val_accuracy: 0.5000\n",
      "Epoch 3/15\n",
      "163/163 [==============================] - ETA: 0s - loss: 0.2643 - accuracy: 0.9101\n",
      "Epoch 00003: ReduceLROnPlateau reducing learning rate to 0.0003000000142492354.\n",
      "163/163 [==============================] - 437s 3s/step - loss: 0.2643 - accuracy: 0.9101 - val_loss: 12.6644 - val_accuracy: 0.5000\n",
      "Epoch 4/15\n",
      "163/163 [==============================] - 435s 3s/step - loss: 0.1712 - accuracy: 0.9471 - val_loss: 0.6836 - val_accuracy: 0.5625\n",
      "Epoch 5/15\n",
      "163/163 [==============================] - 434s 3s/step - loss: 0.1416 - accuracy: 0.9517 - val_loss: 29.4749 - val_accuracy: 0.5000\n",
      "Epoch 6/15\n",
      "163/163 [==============================] - ETA: 0s - loss: 0.1257 - accuracy: 0.9574\n",
      "Epoch 00006: ReduceLROnPlateau reducing learning rate to 9.000000427477062e-05.\n",
      "163/163 [==============================] - 432s 3s/step - loss: 0.1257 - accuracy: 0.9574 - val_loss: 2.6488 - val_accuracy: 0.5625\n",
      "Epoch 7/15\n",
      "163/163 [==============================] - 435s 3s/step - loss: 0.1090 - accuracy: 0.9636 - val_loss: 0.5928 - val_accuracy: 0.6250\n",
      "Epoch 8/15\n",
      "163/163 [==============================] - 433s 3s/step - loss: 0.1096 - accuracy: 0.9634 - val_loss: 0.7921 - val_accuracy: 0.5625\n",
      "Epoch 9/15\n",
      "163/163 [==============================] - ETA: 0s - loss: 0.1113 - accuracy: 0.9634\n",
      "Epoch 00009: ReduceLROnPlateau reducing learning rate to 2.700000040931627e-05.\n",
      "163/163 [==============================] - 432s 3s/step - loss: 0.1113 - accuracy: 0.9634 - val_loss: 1.3373 - val_accuracy: 0.6250\n",
      "Epoch 10/15\n",
      "163/163 [==============================] - 433s 3s/step - loss: 0.0902 - accuracy: 0.9689 - val_loss: 0.6403 - val_accuracy: 0.6250\n",
      "Epoch 11/15\n",
      "163/163 [==============================] - ETA: 0s - loss: 0.0892 - accuracy: 0.9701\n",
      "Epoch 00011: ReduceLROnPlateau reducing learning rate to 8.100000013655517e-06.\n",
      "163/163 [==============================] - 434s 3s/step - loss: 0.0892 - accuracy: 0.9701 - val_loss: 0.7015 - val_accuracy: 0.6250\n",
      "Epoch 12/15\n",
      "163/163 [==============================] - 440s 3s/step - loss: 0.0933 - accuracy: 0.9701 - val_loss: 0.6651 - val_accuracy: 0.5625\n",
      "Epoch 13/15\n",
      "163/163 [==============================] - ETA: 0s - loss: 0.0858 - accuracy: 0.9705\n",
      "Epoch 00013: ReduceLROnPlateau reducing learning rate to 2.429999949526973e-06.\n",
      "163/163 [==============================] - 443s 3s/step - loss: 0.0858 - accuracy: 0.9705 - val_loss: 0.6801 - val_accuracy: 0.5625\n",
      "Epoch 14/15\n",
      "163/163 [==============================] - 442s 3s/step - loss: 0.0861 - accuracy: 0.9724 - val_loss: 0.6886 - val_accuracy: 0.5625\n",
      "Epoch 15/15\n",
      "163/163 [==============================] - ETA: 0s - loss: 0.0865 - accuracy: 0.9726\n",
      "Epoch 00015: ReduceLROnPlateau reducing learning rate to 1e-06.\n",
      "163/163 [==============================] - 436s 3s/step - loss: 0.0865 - accuracy: 0.9726 - val_loss: 0.7017 - val_accuracy: 0.5625\n"
     ]
    }
   ],
   "source": [
    "history = model.fit(train ,batch_size=32, epochs = 15 , validation_data = val ,callbacks = [learning_rate_reduction])"
   ]
  },
  {
   "cell_type": "code",
   "execution_count": 18,
   "metadata": {},
   "outputs": [
    {
     "name": "stdout",
     "output_type": "stream",
     "text": [
      "1/1 [==============================] - 0s 1ms/step - loss: 0.2447 - accuracy: 0.9375\n",
      "Loss of the model is -  0.2447020560503006\n",
      "1/1 [==============================] - 0s 1ms/step - loss: 0.2447 - accuracy: 0.9375\n",
      "Accuracy of the model is -  93.75 %\n"
     ]
    }
   ],
   "source": [
    "print(\"Loss of the model is - \" , model.evaluate(testX,testY)[0])\n",
    "print(\"Accuracy of the model is - \" , model.evaluate(testX,testY)[1]*100 , \"%\")"
   ]
  },
  {
   "cell_type": "markdown",
   "metadata": {},
   "source": [
    "# FOR CV_CNN(Disease)"
   ]
  },
  {
   "cell_type": "code",
   "execution_count": 24,
   "metadata": {},
   "outputs": [],
   "source": [
    "path = './input/chest_xray/'\n",
    "# define paths\n",
    "train_normal_dir = path + 'train/NORMAL/'\n",
    "train_pneu_dir = path + 'train/PNEUMONIA/'\n",
    "\n",
    "test_normal_dir = path + 'test/NORMAL/'\n",
    "test_pneu_dir = path + 'test/PNEUMONIA/'\n",
    "\n",
    "val_normal_dir = path + 'val/NORMAL/'\n",
    "val_pneu_dir = path + 'val/PNEUMONIA/'\n",
    "\n",
    "# find all files, our files has extension jpeg\n",
    "train_normal_cases = glob.glob(train_normal_dir + '*jpeg') #1341\n",
    "train_pneu_cases = glob.glob(train_pneu_dir + '*jpeg')#3875\n",
    "\n",
    "test_normal_cases = glob.glob(test_normal_dir + '*jpeg')#234\n",
    "test_pneu_cases = glob.glob(test_pneu_dir + '*jpeg')#390\n",
    "\n",
    "val_normal_cases = glob.glob(val_normal_dir + '*jpeg')#8\n",
    "val_pneu_cases = glob.glob(val_pneu_dir + '*jpeg')#8\n",
    "\n",
    "\n",
    "# make path using / instead of \\\\ ... this may be redudant step\n",
    "train_normal_cases = [x.replace('\\\\', '/') for x in train_normal_cases]\n",
    "train_pneu_cases = [x.replace('\\\\', '/') for x in train_pneu_cases]\n",
    "test_normal_cases = [x.replace('\\\\', '/') for x in test_normal_cases]\n",
    "test_pneu_cases = [x.replace('\\\\', '/') for x in test_pneu_cases]\n",
    "val_normal_cases = [x.replace('\\\\', '/') for x in val_normal_cases]\n",
    "val_pneu_cases = [x.replace('\\\\', '/') for x in val_pneu_cases]"
   ]
  },
  {
   "cell_type": "code",
   "execution_count": 25,
   "metadata": {},
   "outputs": [],
   "source": [
    "# create lists for train, test & validation cases, create labels as well\n",
    "train_list = []\n",
    "test_list = []\n",
    "val_list = []\n",
    "\n",
    "for x in train_normal_cases:\n",
    "    train_list.append([x, 0])\n",
    "\n",
    "for x in train_pneu_cases:\n",
    "    train_list.append([x, 1])\n",
    "\n",
    "for x in test_normal_cases:\n",
    "    test_list.append([x, 0])\n",
    "\n",
    "for x in test_pneu_cases:\n",
    "    test_list.append([x, 1])\n",
    "\n",
    "for x in val_normal_cases:\n",
    "    val_list.append([x, 0])\n",
    "\n",
    "for x in val_pneu_cases:\n",
    "    val_list.append([x, 1])"
   ]
  },
  {
   "cell_type": "code",
   "execution_count": 26,
   "metadata": {},
   "outputs": [],
   "source": [
    "# shuffle/randomize data as they were loaded in order: normal cases, then pneumonia cases\n",
    "random.shuffle(train_list)\n",
    "random.shuffle(test_list)\n",
    "random.shuffle(val_list)"
   ]
  },
  {
   "cell_type": "code",
   "execution_count": 27,
   "metadata": {},
   "outputs": [],
   "source": [
    "# create dataframes\n",
    "train_df = pd.DataFrame(train_list, columns=['image', 'label'])\n",
    "test_df = pd.DataFrame(test_list, columns=['image', 'label'])\n",
    "val_df = pd.DataFrame(val_list, columns=['image', 'label'])"
   ]
  },
  {
   "cell_type": "markdown",
   "metadata": {},
   "source": [
    "## Visualize distribution of cases_cv"
   ]
  },
  {
   "cell_type": "code",
   "execution_count": 28,
   "metadata": {},
   "outputs": [
    {
     "data": {
      "image/png": "[encoded data removed]",
      "text/plain": [
       "<Figure size 1440x360 with 3 Axes>"
      ]
     },
     "metadata": {
      "needs_background": "light"
     },
     "output_type": "display_data"
    }
   ],
   "source": [
    "plt.figure(figsize=(20,5))\n",
    "\n",
    "plt.subplot(1,3,1)\n",
    "sns.countplot(train_df['label'])\n",
    "plt.title('Train data')\n",
    "\n",
    "plt.subplot(1,3,2)\n",
    "sns.countplot(test_df['label'])\n",
    "plt.title('Test data')\n",
    "\n",
    "plt.subplot(1,3,3)\n",
    "sns.countplot(val_df['label'])\n",
    "plt.title('Validation data')\n",
    "\n",
    "plt.show()"
   ]
  },
  {
   "cell_type": "markdown",
   "metadata": {},
   "source": [
    "**여기서 class_weight 조절의 필요성을 생각해볼 필요가 있음.. \n",
    "**학습 데이터를 보면 정상 자료가 비정상 환자 자료에 비에 부족한 편  \n",
    "**딥러닝에서 클래스 불균형을 다루는 방법  \n",
    "\n",
    "현실 데이터에는 클래스 불균형 (class imbalance) 문제가 자주 있다.   \n",
    "어떤 데이터에서 각 클래스 (주로 범주형 반응 변수) 가 갖고 있는 데이터의 양에 차이가 큰 경우,   \n",
    "\"현실 데이터\" 에 클래스 불균형 문제가 있다고 말한다.  \n",
    "\n",
    "- 더욱 큰 비중 (weight) 를 두고 정확한 예측을 할 수 있도록 만들어야한다.  \n",
    "- 각 데이터에서 loss 를 계산할 때 특정 클래스의 데이터에 더 큰 loss 값을 갖도록 하는 방법  \n",
    "- 정상환자 클래스의 데이터에 관해서는 loss 가 더 크도록 만드는 것이다.  "
   ]
  },
  {
   "cell_type": "markdown",
   "metadata": {},
   "source": [
    "## Data preprocessing_cv  \n",
    "\n",
    "process_data - 이미지 로드, 크기 조정, 그레이스케일로 변환, 정규화 및 텐서 흐름에 필요한 차원으로 재조정  \n",
    "compose_dataset - 이미지를 반복하여 2 Numpy 배열 생성. 첫째는 이미지 자체를 매트릭스로 포함하며, 둘째는 레이블을 포함함"
   ]
  },
  {
   "cell_type": "code",
   "execution_count": 29,
   "metadata": {},
   "outputs": [],
   "source": [
    "def process_data(img_path):\n",
    "    img = cv2.imread(img_path)\n",
    "    img = cv2.resize(img, (224, 224))\n",
    "    img = cv2.cvtColor(img, cv2.COLOR_BGR2GRAY)\n",
    "    img = img/255.0\n",
    "    img = np.reshape(img, (224, 224,1))\n",
    "   \n",
    "    return img\n",
    "\n",
    "def compose_dataset(df):\n",
    "    data = []\n",
    "    labels = []\n",
    "\n",
    "    for img_path, label in df.values:\n",
    "        data.append(process_data(img_path))\n",
    "        labels.append(label)\n",
    "       \n",
    "    return np.array(data), np.array(labels)"
   ]
  },
  {
   "cell_type": "code",
   "execution_count": 30,
   "metadata": {},
   "outputs": [
    {
     "name": "stdout",
     "output_type": "stream",
     "text": [
      "Train data shape: (5216, 224, 224, 1), Labels shape: (5216,)\n",
      "Test data shape: (624, 224, 224, 1), Labels shape: (624,)\n",
      "Validation data shape: (16, 224, 224, 1), Labels shape: (16,)\n"
     ]
    }
   ],
   "source": [
    "X_train, y_train = compose_dataset(train_df)\n",
    "X_test, y_test = compose_dataset(test_df)\n",
    "X_val, y_val = compose_dataset(val_df)\n",
    "\n",
    "print('Train data shape: {}, Labels shape: {}'.format(X_train.shape, y_train.shape))\n",
    "print('Test data shape: {}, Labels shape: {}'.format(X_test.shape, y_test.shape))\n",
    "print('Validation data shape: {}, Labels shape: {}'.format(X_val.shape, y_val.shape))"
   ]
  },
  {
   "cell_type": "markdown",
   "metadata": {},
   "source": [
    "### Weight decay\n",
    "가중치 감소는 학습 중에 가중치가 큰 것에 대해서는 일종의 패널티를 부과해 과적합의 위험을 줄이는 방법이다. 가중치의 제곱 법칙(L2 법칙; 많이 사용된다)를 손실함수에 더해 손실함수 값이 더 커지게 한다. 그만큼 가중치가 커지는 것을 억제하기 되는 것이다.\n",
    "\n",
    "\n",
    "\n",
    "L2 법칙은 1/2곱하기 λ(람다) 곱하기 W제곱 이다.\n",
    "\n",
    "람다는 정규화의 세기를 조절하는 하이퍼파라미터이다.\n",
    "\n",
    "람다를 크게 설정할수록 가중치에 대한 페널티가 커진다. \n",
    "\n",
    "\n",
    "출처: https://sacko.tistory.com/45 [데이터 분석하는 문과생, 싸코]"
   ]
  },
  {
   "cell_type": "code",
   "execution_count": 31,
   "metadata": {},
   "outputs": [
    {
     "name": "stdout",
     "output_type": "stream",
     "text": [
      "{0: 1.9448173005219984, 1: 0.6730322580645162}\n"
     ]
    },
    {
     "name": "stderr",
     "output_type": "stream",
     "text": [
      "C:\\Users\\user\\anaconda3\\lib\\site-packages\\sklearn\\utils\\validation.py:67: FutureWarning: Pass classes=[0 1], y=[1 1 1 ... 1 0 0] as keyword args. From version 0.25 passing these as positional arguments will result in an error\n",
      "  warnings.warn(\"Pass {} as keyword args. From version 0.25 \"\n"
     ]
    }
   ],
   "source": [
    "weights = compute_class_weight('balanced', np.unique(y_train), y_train)\n",
    "weights = {0: weights[0], 1: weights[1]}\n",
    "print(weights)"
   ]
  },
  {
   "cell_type": "code",
   "execution_count": 32,
   "metadata": {},
   "outputs": [
    {
     "name": "stdout",
     "output_type": "stream",
     "text": [
      "{0: 1.3333333333333333, 1: 0.8}\n"
     ]
    },
    {
     "name": "stderr",
     "output_type": "stream",
     "text": [
      "C:\\Users\\user\\anaconda3\\lib\\site-packages\\sklearn\\utils\\validation.py:67: FutureWarning: Pass classes=[0 1], y=[1 1 1 1 1 1 0 0 1 0 0 1 1 1 1 1 0 1 0 1 1 1 1 1 1 1 0 1 1 0 0 1 1 0 1 0 1\n",
      " 1 1 1 0 0 1 0 0 0 1 1 1 0 1 1 1 1 1 1 0 1 1 1 0 0 0 0 1 0 1 1 1 1 1 0 0 1\n",
      " 1 0 1 0 1 0 0 1 0 0 1 1 0 0 1 0 1 1 1 1 1 1 1 1 1 1 1 0 0 1 1 1 1 0 0 0 0\n",
      " 1 1 0 1 1 1 0 0 1 0 1 1 1 1 1 0 1 0 1 1 1 1 0 0 1 0 1 1 1 0 0 0 1 0 0 1 0\n",
      " 0 0 1 0 1 1 1 0 1 1 0 0 1 1 1 0 1 1 0 0 0 0 1 1 0 1 1 0 1 0 0 1 0 1 1 1 1\n",
      " 1 1 1 0 0 0 1 1 1 1 1 0 0 1 0 1 1 1 1 0 1 0 1 0 1 0 1 0 0 1 0 1 0 1 0 1 1\n",
      " 0 0 0 0 1 1 0 0 1 1 1 1 0 0 0 1 0 0 1 1 1 1 1 1 0 1 1 1 1 0 1 0 1 1 1 0 1\n",
      " 1 1 1 1 0 1 1 0 1 0 0 0 1 0 1 1 0 0 1 1 0 0 1 1 1 1 1 1 0 1 1 1 1 1 1 0 1\n",
      " 1 0 1 1 1 1 1 0 0 1 0 1 0 1 1 0 1 1 1 1 1 0 1 1 1 1 1 1 0 1 1 1 1 1 0 1 0\n",
      " 0 1 0 1 1 1 1 0 1 0 1 0 0 1 1 1 1 1 1 0 1 0 1 0 1 1 1 1 0 0 1 0 0 0 1 0 0\n",
      " 1 0 1 1 1 0 1 1 1 0 0 1 0 0 1 1 1 1 1 1 1 0 0 1 0 1 0 1 1 1 0 1 1 0 1 1 0\n",
      " 0 0 0 0 1 1 0 1 0 1 1 1 1 1 0 0 1 0 1 1 0 1 0 1 0 1 1 1 0 1 1 1 0 0 1 0 0\n",
      " 0 0 0 1 0 0 1 1 1 1 0 1 1 1 0 0 1 1 1 1 1 1 1 0 1 1 1 0 1 0 1 1 1 1 1 1 1\n",
      " 1 1 1 1 1 1 0 1 1 0 1 1 1 0 1 1 1 1 1 0 0 0 0 1 1 1 0 1 0 1 0 1 1 1 0 0 1\n",
      " 0 1 0 0 1 0 1 0 1 1 0 1 0 1 1 1 0 1 1 1 1 1 1 1 1 1 1 0 1 1 0 0 0 0 1 0 1\n",
      " 0 1 1 1 1 1 0 1 1 1 1 0 0 0 1 0 1 0 1 1 0 0 0 0 1 0 0 1 1 0 0 1 0 0 0 0 1\n",
      " 0 1 1 1 1 1 1 0 0 1 1 1 0 1 0 1 1 1 1 1 0 1 0 0 1 0 1 1 1 1 1 1] as keyword args. From version 0.25 passing these as positional arguments will result in an error\n",
      "  warnings.warn(\"Pass {} as keyword args. From version 0.25 \"\n"
     ]
    }
   ],
   "source": [
    "weights = compute_class_weight('balanced', np.unique(y_test), y_test)\n",
    "weights = {0: weights[0], 1: weights[1]}\n",
    "print(weights)"
   ]
  },
  {
   "cell_type": "code",
   "execution_count": 33,
   "metadata": {},
   "outputs": [
    {
     "ename": "NameError",
     "evalue": "name 'y_va' is not defined",
     "output_type": "error",
     "traceback": [
      "\u001b[1;31m---------------------------------------------------------------------------\u001b[0m",
      "\u001b[1;31mNameError\u001b[0m                                 Traceback (most recent call last)",
      "\u001b[1;32m<ipython-input-33-a811d832d811>\u001b[0m in \u001b[0;36m<module>\u001b[1;34m\u001b[0m\n\u001b[1;32m----> 1\u001b[1;33m \u001b[0mweights\u001b[0m \u001b[1;33m=\u001b[0m \u001b[0mcompute_class_weight\u001b[0m\u001b[1;33m(\u001b[0m\u001b[1;34m'balanced'\u001b[0m\u001b[1;33m,\u001b[0m \u001b[0mnp\u001b[0m\u001b[1;33m.\u001b[0m\u001b[0munique\u001b[0m\u001b[1;33m(\u001b[0m\u001b[0my_va\u001b[0m\u001b[1;33m)\u001b[0m\u001b[1;33m,\u001b[0m \u001b[0my_val\u001b[0m\u001b[1;33m)\u001b[0m\u001b[1;33m\u001b[0m\u001b[1;33m\u001b[0m\u001b[0m\n\u001b[0m\u001b[0;32m      2\u001b[0m \u001b[0mweights\u001b[0m \u001b[1;33m=\u001b[0m \u001b[1;33m{\u001b[0m\u001b[1;36m0\u001b[0m\u001b[1;33m:\u001b[0m \u001b[0mweights\u001b[0m\u001b[1;33m[\u001b[0m\u001b[1;36m0\u001b[0m\u001b[1;33m]\u001b[0m\u001b[1;33m,\u001b[0m \u001b[1;36m1\u001b[0m\u001b[1;33m:\u001b[0m \u001b[0mweights\u001b[0m\u001b[1;33m[\u001b[0m\u001b[1;36m1\u001b[0m\u001b[1;33m]\u001b[0m\u001b[1;33m}\u001b[0m\u001b[1;33m\u001b[0m\u001b[1;33m\u001b[0m\u001b[0m\n\u001b[0;32m      3\u001b[0m \u001b[0mprint\u001b[0m\u001b[1;33m(\u001b[0m\u001b[0mweights\u001b[0m\u001b[1;33m)\u001b[0m\u001b[1;33m\u001b[0m\u001b[1;33m\u001b[0m\u001b[0m\n",
      "\u001b[1;31mNameError\u001b[0m: name 'y_va' is not defined"
     ]
    }
   ],
   "source": [
    "weights = compute_class_weight('balanced', np.unique(y_va), y_val)\n",
    "weights = {0: weights[0], 1: weights[1]}\n",
    "print(weights)\n"
   ]
  },
  {
   "cell_type": "markdown",
   "metadata": {},
   "source": [
    "## Data augmentation_CV"
   ]
  },
  {
   "cell_type": "code",
   "execution_count": null,
   "metadata": {},
   "outputs": [],
   "source": [
    "# define generator\n",
    "datagen = ImageDataGenerator(\n",
    "    rotation_range=10,\n",
    "    zoom_range = 0.1,\n",
    "    width_shift_range=0.1,\n",
    "    height_shift_range=0.1,\n",
    "    horizontal_flip=False,\n",
    "    vertical_flip=False\n",
    ")\n",
    "\n",
    "# fit generator on our train features\n",
    "datagen.fit(X_train)"
   ]
  },
  {
   "cell_type": "code",
   "execution_count": null,
   "metadata": {},
   "outputs": [],
   "source": [
    "y_train = to_categorical(y_train)\n",
    "y_test = to_categorical(y_test)\n",
    "y_val = to_categorical(y_val)"
   ]
  },
  {
   "cell_type": "markdown",
   "metadata": {},
   "source": [
    "## Kfold  Cross Validation"
   ]
  },
  {
   "cell_type": "code",
   "execution_count": null,
   "metadata": {},
   "outputs": [],
   "source": [
    "kfold = KFold(n_splits=5, shuffle=True)\n",
    "\n",
    "# Model configuration\n",
    "img_width, img_height, img_num_channels = 224, 224, 1 #gray image channel = 1\n",
    "loss_function = sparse_categorical_crossentropy\n",
    "acc_per_fold = []\n",
    "loss_per_fold = []"
   ]
  },
  {
   "cell_type": "markdown",
   "metadata": {},
   "source": [
    "## Modeling_CV(Disease)"
   ]
  },
  {
   "cell_type": "code",
   "execution_count": 12,
   "metadata": {},
   "outputs": [],
   "source": [
    "def get_model():\n",
    "    model = Sequential([\n",
    "        Conv2D(32 , (3,3) , strides = 1 , padding = 'same' , activation = 'relu' , input_shape = (224, 224,1)),\n",
    "        BatchNormalization(),\n",
    "        MaxPool2D((2,2) , strides = 2 , padding = 'same'),\n",
    "        \n",
    "        Conv2D(64 , (3,3) , strides = 1 , padding = 'same' , activation = 'relu'),\n",
    "        Dropout(0.1),\n",
    "        BatchNormalization(),\n",
    "        \n",
    "        MaxPool2D((2,2) , strides = 2 , padding = 'same'),\n",
    "        Conv2D(64 , (3,3) , strides = 1 , padding = 'same' , activation = 'relu'),\n",
    "        BatchNormalization(),\n",
    "        \n",
    "        MaxPool2D((2,2) , strides = 2 , padding = 'same'),\n",
    "        Conv2D(128 , (3,3) , strides = 1 , padding = 'same' , activation = 'relu'),\n",
    "        Dropout(0.2),\n",
    "        BatchNormalization(),\n",
    "        \n",
    "        MaxPool2D((2,2) , strides = 2 , padding = 'same'),\n",
    "        Conv2D(256 , (3,3) , strides = 1 , padding = 'same' , activation = 'relu'),\n",
    "        Dropout(0.2),\n",
    "        BatchNormalization(),\n",
    "        \n",
    "        MaxPool2D((2,2) , strides = 2 , padding = 'same'),\n",
    "        Flatten(),\n",
    "        Dense(units = 128 , activation = 'relu'),\n",
    "        Dropout(0.2),\n",
    "        Dense(units = 2 , activation = 'sigmoid')##2 or 1 + sigmoid or softmax       \n",
    "    ])\n",
    "    # compile model model.compile(loss='binary_crossentropy', optimizer=\"rmsprop\", metrics=['accuracy'])\n",
    "   \n",
    "    ## 최적화 adam or rmsprop..\n",
    "    # compile model\n",
    "    optimizer = Adam(lr=0.0001, decay=1e-5)\n",
    "    model.compile(loss='categorical_crossentropy', optimizer=optimizer, metrics=['accuracy'])\n",
    "    return model\n"
   ]
  },
  {
   "cell_type": "code",
   "execution_count": 13,
   "metadata": {
    "scrolled": true
   },
   "outputs": [
    {
     "name": "stdout",
     "output_type": "stream",
     "text": [
      "training model for Kfold #1\n",
      "WARNING:tensorflow:From C:\\Users\\user\\AppData\\Roaming\\Python\\Python38\\site-packages\\tensorflow\\python\\ops\\array_ops.py:5039: calling gather (from tensorflow.python.ops.array_ops) with validate_indices is deprecated and will be removed in a future version.\n",
      "Instructions for updating:\n",
      "The `validate_indices` argument has no effect. Indices are always validated on CPU and never validated on GPU.\n",
      "Epoch 1/20\n",
      "261/261 [==============================] - 352s 1s/step - loss: 0.8508 - accuracy: 0.8034 - val_loss: 5.1243 - val_accuracy: 0.7500\n",
      "Epoch 2/20\n",
      "261/261 [==============================] - 364s 1s/step - loss: 0.2225 - accuracy: 0.9252 - val_loss: 1.3726 - val_accuracy: 0.7711\n",
      "Epoch 3/20\n",
      "261/261 [==============================] - 374s 1s/step - loss: 0.1334 - accuracy: 0.9540 - val_loss: 0.1204 - val_accuracy: 0.9598\n",
      "Epoch 4/20\n",
      "261/261 [==============================] - 344s 1s/step - loss: 0.0930 - accuracy: 0.9618 - val_loss: 0.0992 - val_accuracy: 0.9617\n",
      "Epoch 5/20\n",
      "261/261 [==============================] - 343s 1s/step - loss: 0.0934 - accuracy: 0.9610 - val_loss: 0.0640 - val_accuracy: 0.9799\n",
      "Epoch 6/20\n",
      "261/261 [==============================] - 344s 1s/step - loss: 0.0527 - accuracy: 0.9763 - val_loss: 0.0904 - val_accuracy: 0.9674\n",
      "Epoch 7/20\n",
      "261/261 [==============================] - 343s 1s/step - loss: 0.0466 - accuracy: 0.9793 - val_loss: 0.0737 - val_accuracy: 0.9741\n",
      "Epoch 8/20\n",
      "261/261 [==============================] - 344s 1s/step - loss: 0.0555 - accuracy: 0.9792 - val_loss: 0.0564 - val_accuracy: 0.9818\n",
      "Epoch 9/20\n",
      "261/261 [==============================] - 363s 1s/step - loss: 0.0754 - accuracy: 0.9693 - val_loss: 0.0741 - val_accuracy: 0.9761\n",
      "Epoch 10/20\n",
      "261/261 [==============================] - 343s 1s/step - loss: 0.0529 - accuracy: 0.9764 - val_loss: 0.0544 - val_accuracy: 0.9789\n",
      "Epoch 11/20\n",
      "261/261 [==============================] - 343s 1s/step - loss: 0.0485 - accuracy: 0.9799 - val_loss: 0.1028 - val_accuracy: 0.9655\n",
      "Epoch 12/20\n",
      "261/261 [==============================] - 343s 1s/step - loss: 0.0299 - accuracy: 0.9847 - val_loss: 0.0673 - val_accuracy: 0.9808\n",
      "Epoch 13/20\n",
      "261/261 [==============================] - 343s 1s/step - loss: 0.0210 - accuracy: 0.9873 - val_loss: 0.1486 - val_accuracy: 0.9617\n",
      "Epoch 14/20\n",
      "261/261 [==============================] - 343s 1s/step - loss: 0.0805 - accuracy: 0.9750 - val_loss: 0.1440 - val_accuracy: 0.9598\n",
      "Epoch 15/20\n",
      "261/261 [==============================] - 343s 1s/step - loss: 0.0643 - accuracy: 0.9720 - val_loss: 0.0848 - val_accuracy: 0.9770\n",
      "Epoch 16/20\n",
      "261/261 [==============================] - 343s 1s/step - loss: 0.0379 - accuracy: 0.9871 - val_loss: 0.1692 - val_accuracy: 0.9655\n",
      "Epoch 17/20\n",
      "261/261 [==============================] - 347s 1s/step - loss: 0.0395 - accuracy: 0.9866 - val_loss: 0.0824 - val_accuracy: 0.9751\n",
      "Epoch 18/20\n",
      "261/261 [==============================] - 344s 1s/step - loss: 0.0380 - accuracy: 0.9846 - val_loss: 0.0908 - val_accuracy: 0.9751\n",
      "Score for fold 1: loss of 0.0907655730843544; accuracy of 97.5095808506012%\n",
      ">Saved ./models/model_Diseasecnn1.h5\n",
      "training model for Kfold #2\n",
      "Epoch 1/20\n",
      "261/261 [==============================] - 346s 1s/step - loss: 0.8607 - accuracy: 0.8184 - val_loss: 3.6171 - val_accuracy: 0.7239\n",
      "Epoch 2/20\n",
      "261/261 [==============================] - 343s 1s/step - loss: 0.1608 - accuracy: 0.9352 - val_loss: 1.2192 - val_accuracy: 0.7488\n",
      "Epoch 3/20\n",
      "261/261 [==============================] - 348s 1s/step - loss: 0.1195 - accuracy: 0.9541 - val_loss: 0.0615 - val_accuracy: 0.9741\n",
      "Epoch 4/20\n",
      "261/261 [==============================] - 404s 2s/step - loss: 0.0769 - accuracy: 0.9675 - val_loss: 0.0939 - val_accuracy: 0.9645\n",
      "Epoch 5/20\n",
      "261/261 [==============================] - 402s 2s/step - loss: 0.0774 - accuracy: 0.9621 - val_loss: 0.1020 - val_accuracy: 0.9636\n",
      "Epoch 6/20\n",
      "261/261 [==============================] - 394s 2s/step - loss: 0.0752 - accuracy: 0.9678 - val_loss: 0.1552 - val_accuracy: 0.9501\n",
      "Epoch 7/20\n",
      "261/261 [==============================] - 342s 1s/step - loss: 0.0631 - accuracy: 0.9702 - val_loss: 0.1043 - val_accuracy: 0.9664\n",
      "Epoch 8/20\n",
      "261/261 [==============================] - 342s 1s/step - loss: 0.0422 - accuracy: 0.9769 - val_loss: 0.0654 - val_accuracy: 0.9770\n",
      "Epoch 9/20\n",
      "261/261 [==============================] - 341s 1s/step - loss: 0.0586 - accuracy: 0.9731 - val_loss: 0.0691 - val_accuracy: 0.9751\n",
      "Epoch 10/20\n",
      "261/261 [==============================] - 341s 1s/step - loss: 0.0756 - accuracy: 0.9705 - val_loss: 0.0565 - val_accuracy: 0.9818\n",
      "Epoch 11/20\n",
      "261/261 [==============================] - 340s 1s/step - loss: 0.1378 - accuracy: 0.9585 - val_loss: 0.0539 - val_accuracy: 0.9827\n",
      "Epoch 12/20\n",
      "261/261 [==============================] - 341s 1s/step - loss: 0.0453 - accuracy: 0.9812 - val_loss: 0.1041 - val_accuracy: 0.9664\n",
      "Epoch 13/20\n",
      "261/261 [==============================] - 341s 1s/step - loss: 0.0236 - accuracy: 0.9871 - val_loss: 0.0447 - val_accuracy: 0.9866\n",
      "Epoch 14/20\n",
      "261/261 [==============================] - 341s 1s/step - loss: 0.0239 - accuracy: 0.9901 - val_loss: 0.0591 - val_accuracy: 0.9789\n",
      "Epoch 15/20\n",
      "261/261 [==============================] - 341s 1s/step - loss: 0.0191 - accuracy: 0.9893 - val_loss: 0.0633 - val_accuracy: 0.9827\n",
      "Epoch 16/20\n",
      "261/261 [==============================] - 340s 1s/step - loss: 0.0182 - accuracy: 0.9928 - val_loss: 0.0897 - val_accuracy: 0.9779\n",
      "Epoch 17/20\n",
      "261/261 [==============================] - 341s 1s/step - loss: 0.0224 - accuracy: 0.9898 - val_loss: 0.0700 - val_accuracy: 0.9799\n",
      "Epoch 18/20\n",
      "261/261 [==============================] - 341s 1s/step - loss: 0.0091 - accuracy: 0.9958 - val_loss: 0.0711 - val_accuracy: 0.9799\n",
      "Epoch 19/20\n",
      "261/261 [==============================] - 340s 1s/step - loss: 0.0127 - accuracy: 0.9949 - val_loss: 0.0592 - val_accuracy: 0.9789\n",
      "Epoch 20/20\n",
      "261/261 [==============================] - 341s 1s/step - loss: 0.0263 - accuracy: 0.9907 - val_loss: 0.1059 - val_accuracy: 0.9741\n",
      "Score for fold 2: loss of 0.1059173047542572; accuracy of 97.41131067276001%\n",
      ">Saved ./models/model_Diseasecnn2.h5\n",
      "training model for Kfold #3\n",
      "Epoch 1/20\n",
      "261/261 [==============================] - 346s 1s/step - loss: 0.7433 - accuracy: 0.8068 - val_loss: 1.3270 - val_accuracy: 0.7526\n",
      "Epoch 2/20\n",
      "261/261 [==============================] - 339s 1s/step - loss: 0.1741 - accuracy: 0.9317 - val_loss: 0.2523 - val_accuracy: 0.8840\n",
      "Epoch 3/20\n",
      "261/261 [==============================] - 340s 1s/step - loss: 0.1272 - accuracy: 0.9492 - val_loss: 0.0881 - val_accuracy: 0.9607\n",
      "Epoch 4/20\n",
      "261/261 [==============================] - 340s 1s/step - loss: 0.0781 - accuracy: 0.9603 - val_loss: 0.0636 - val_accuracy: 0.9779\n",
      "Epoch 5/20\n",
      "261/261 [==============================] - 340s 1s/step - loss: 0.0484 - accuracy: 0.9805 - val_loss: 0.1356 - val_accuracy: 0.9530\n",
      "Epoch 6/20\n",
      "261/261 [==============================] - 340s 1s/step - loss: 0.0736 - accuracy: 0.9659 - val_loss: 0.2188 - val_accuracy: 0.9204\n",
      "Epoch 7/20\n",
      "261/261 [==============================] - 340s 1s/step - loss: 0.0437 - accuracy: 0.9807 - val_loss: 0.0490 - val_accuracy: 0.9847\n",
      "Epoch 8/20\n",
      "261/261 [==============================] - 339s 1s/step - loss: 0.0829 - accuracy: 0.9665 - val_loss: 0.2240 - val_accuracy: 0.9348\n",
      "Epoch 9/20\n",
      "261/261 [==============================] - 340s 1s/step - loss: 0.0546 - accuracy: 0.9755 - val_loss: 0.0660 - val_accuracy: 0.9751\n",
      "Epoch 10/20\n",
      "261/261 [==============================] - 340s 1s/step - loss: 0.0575 - accuracy: 0.9780 - val_loss: 0.0623 - val_accuracy: 0.9779\n",
      "Epoch 11/20\n",
      "261/261 [==============================] - 340s 1s/step - loss: 0.0421 - accuracy: 0.9840 - val_loss: 0.1427 - val_accuracy: 0.9549\n",
      "Epoch 12/20\n",
      "261/261 [==============================] - 342s 1s/step - loss: 0.0211 - accuracy: 0.9911 - val_loss: 0.1486 - val_accuracy: 0.9636\n",
      "Epoch 13/20\n",
      "261/261 [==============================] - 360s 1s/step - loss: 0.0225 - accuracy: 0.9904 - val_loss: 0.3092 - val_accuracy: 0.9099\n",
      "Epoch 14/20\n",
      "261/261 [==============================] - 359s 1s/step - loss: 0.0455 - accuracy: 0.9856 - val_loss: 0.0684 - val_accuracy: 0.9741\n",
      "Epoch 15/20\n"
     ]
    },
    {
     "name": "stdout",
     "output_type": "stream",
     "text": [
      "261/261 [==============================] - 347s 1s/step - loss: 0.0550 - accuracy: 0.9819 - val_loss: 0.1844 - val_accuracy: 0.9482\n",
      "Epoch 16/20\n",
      "261/261 [==============================] - 340s 1s/step - loss: 0.1801 - accuracy: 0.9515 - val_loss: 0.1261 - val_accuracy: 0.9664\n",
      "Epoch 17/20\n",
      "261/261 [==============================] - 340s 1s/step - loss: 0.1490 - accuracy: 0.9639 - val_loss: 0.0957 - val_accuracy: 0.9712\n",
      "Epoch 18/20\n",
      "261/261 [==============================] - 376s 1s/step - loss: 0.0303 - accuracy: 0.9865 - val_loss: 0.0965 - val_accuracy: 0.9770\n",
      "Epoch 19/20\n",
      "261/261 [==============================] - 380s 1s/step - loss: 0.0153 - accuracy: 0.9937 - val_loss: 0.0695 - val_accuracy: 0.9837\n",
      "Epoch 20/20\n",
      "261/261 [==============================] - 403s 2s/step - loss: 0.0079 - accuracy: 0.9955 - val_loss: 0.0807 - val_accuracy: 0.9770\n",
      "Score for fold 3: loss of 0.08070738613605499; accuracy of 97.69894480705261%\n",
      ">Saved ./models/model_Diseasecnn3.h5\n",
      "training model for Kfold #4\n",
      "Epoch 1/20\n",
      "261/261 [==============================] - 391s 1s/step - loss: 0.5556 - accuracy: 0.8352 - val_loss: 3.0065 - val_accuracy: 0.7459\n",
      "Epoch 2/20\n",
      "261/261 [==============================] - 390s 1s/step - loss: 0.2075 - accuracy: 0.9328 - val_loss: 0.7364 - val_accuracy: 0.7785\n",
      "Epoch 3/20\n",
      "261/261 [==============================] - 391s 1s/step - loss: 0.1740 - accuracy: 0.9350 - val_loss: 0.0717 - val_accuracy: 0.9712\n",
      "Epoch 4/20\n",
      "261/261 [==============================] - 355s 1s/step - loss: 0.1187 - accuracy: 0.9511 - val_loss: 0.0990 - val_accuracy: 0.9626\n",
      "Epoch 5/20\n",
      "261/261 [==============================] - 372s 1s/step - loss: 0.0707 - accuracy: 0.9631 - val_loss: 0.0589 - val_accuracy: 0.9779\n",
      "Epoch 6/20\n",
      "261/261 [==============================] - 391s 1s/step - loss: 0.0741 - accuracy: 0.9734 - val_loss: 0.1172 - val_accuracy: 0.9549\n",
      "Epoch 7/20\n",
      "261/261 [==============================] - 366s 1s/step - loss: 0.0495 - accuracy: 0.9738 - val_loss: 0.0453 - val_accuracy: 0.9818\n",
      "Epoch 8/20\n",
      "261/261 [==============================] - 455s 2s/step - loss: 0.0306 - accuracy: 0.9887 - val_loss: 0.0747 - val_accuracy: 0.9770\n",
      "Epoch 9/20\n",
      "261/261 [==============================] - 355s 1s/step - loss: 0.0746 - accuracy: 0.9694 - val_loss: 0.0964 - val_accuracy: 0.9684\n",
      "Epoch 10/20\n",
      "261/261 [==============================] - 355s 1s/step - loss: 0.0311 - accuracy: 0.9862 - val_loss: 0.0571 - val_accuracy: 0.9837\n",
      "Epoch 11/20\n",
      "261/261 [==============================] - 342s 1s/step - loss: 0.0552 - accuracy: 0.9799 - val_loss: 0.4601 - val_accuracy: 0.8849\n",
      "Epoch 12/20\n",
      "261/261 [==============================] - 341s 1s/step - loss: 0.0824 - accuracy: 0.9679 - val_loss: 0.0577 - val_accuracy: 0.9808\n",
      "Epoch 13/20\n",
      "261/261 [==============================] - 340s 1s/step - loss: 0.0403 - accuracy: 0.9829 - val_loss: 0.0382 - val_accuracy: 0.9866\n",
      "Epoch 14/20\n",
      "261/261 [==============================] - 340s 1s/step - loss: 0.0169 - accuracy: 0.9928 - val_loss: 0.0779 - val_accuracy: 0.9741\n",
      "Epoch 15/20\n",
      "261/261 [==============================] - 340s 1s/step - loss: 0.0207 - accuracy: 0.9887 - val_loss: 0.0517 - val_accuracy: 0.9856\n",
      "Epoch 16/20\n",
      "261/261 [==============================] - 341s 1s/step - loss: 0.0326 - accuracy: 0.9904 - val_loss: 0.0733 - val_accuracy: 0.9760\n",
      "Epoch 17/20\n",
      "261/261 [==============================] - 340s 1s/step - loss: 0.0324 - accuracy: 0.9856 - val_loss: 0.1169 - val_accuracy: 0.9751\n",
      "Epoch 18/20\n",
      "261/261 [==============================] - 340s 1s/step - loss: 0.0718 - accuracy: 0.9699 - val_loss: 0.2414 - val_accuracy: 0.9482\n",
      "Epoch 19/20\n",
      "261/261 [==============================] - 340s 1s/step - loss: 0.0563 - accuracy: 0.9766 - val_loss: 0.0342 - val_accuracy: 0.9885\n",
      "Epoch 20/20\n",
      "261/261 [==============================] - 340s 1s/step - loss: 0.0233 - accuracy: 0.9902 - val_loss: 0.0390 - val_accuracy: 0.9866\n",
      "Score for fold 4: loss of 0.03898278996348381; accuracy of 98.65771532058716%\n",
      ">Saved ./models/model_Diseasecnn4.h5\n",
      "training model for Kfold #5\n",
      "Epoch 1/20\n",
      "261/261 [==============================] - 349s 1s/step - loss: 0.5605 - accuracy: 0.8400 - val_loss: 2.9526 - val_accuracy: 0.7421\n",
      "Epoch 2/20\n",
      "261/261 [==============================] - 340s 1s/step - loss: 0.1539 - accuracy: 0.9340 - val_loss: 0.8327 - val_accuracy: 0.7622\n",
      "Epoch 3/20\n",
      "261/261 [==============================] - 340s 1s/step - loss: 0.0978 - accuracy: 0.9557 - val_loss: 0.0847 - val_accuracy: 0.9684\n",
      "Epoch 4/20\n",
      "261/261 [==============================] - 340s 1s/step - loss: 0.0944 - accuracy: 0.9594 - val_loss: 0.0932 - val_accuracy: 0.9684\n",
      "Epoch 5/20\n",
      "261/261 [==============================] - 340s 1s/step - loss: 0.0636 - accuracy: 0.9715 - val_loss: 0.0834 - val_accuracy: 0.9693\n",
      "Epoch 6/20\n",
      "261/261 [==============================] - 340s 1s/step - loss: 0.1047 - accuracy: 0.9586 - val_loss: 0.1191 - val_accuracy: 0.9530\n",
      "Epoch 7/20\n",
      "261/261 [==============================] - 340s 1s/step - loss: 0.0727 - accuracy: 0.9684 - val_loss: 0.1227 - val_accuracy: 0.9549\n",
      "Epoch 8/20\n",
      "261/261 [==============================] - 341s 1s/step - loss: 0.0451 - accuracy: 0.9797 - val_loss: 0.0524 - val_accuracy: 0.9808\n",
      "Epoch 9/20\n",
      "261/261 [==============================] - 343s 1s/step - loss: 0.0573 - accuracy: 0.9773 - val_loss: 0.0538 - val_accuracy: 0.9789\n",
      "Epoch 10/20\n",
      "261/261 [==============================] - 346s 1s/step - loss: 0.0478 - accuracy: 0.9796 - val_loss: 0.0471 - val_accuracy: 0.9827\n",
      "Epoch 11/20\n",
      "261/261 [==============================] - 342s 1s/step - loss: 0.0324 - accuracy: 0.9860 - val_loss: 0.0603 - val_accuracy: 0.9799\n",
      "Epoch 12/20\n",
      "261/261 [==============================] - 342s 1s/step - loss: 0.0118 - accuracy: 0.9943 - val_loss: 0.1001 - val_accuracy: 0.9636\n",
      "Epoch 13/20\n",
      "261/261 [==============================] - 522s 2s/step - loss: 0.0115 - accuracy: 0.9951 - val_loss: 0.0442 - val_accuracy: 0.9885\n",
      "Epoch 14/20\n",
      "261/261 [==============================] - 742s 3s/step - loss: 0.0082 - accuracy: 0.9966 - val_loss: 0.1161 - val_accuracy: 0.9578\n",
      "Epoch 15/20\n",
      "261/261 [==============================] - 736s 3s/step - loss: 0.0352 - accuracy: 0.9847 - val_loss: 0.0502 - val_accuracy: 0.9856\n",
      "Epoch 16/20\n",
      "261/261 [==============================] - 699s 3s/step - loss: 0.0395 - accuracy: 0.9810 - val_loss: 1.0455 - val_accuracy: 0.7613\n",
      "Epoch 17/20\n",
      "261/261 [==============================] - 697s 3s/step - loss: 0.0504 - accuracy: 0.9780 - val_loss: 0.0807 - val_accuracy: 0.9799\n",
      "Epoch 18/20\n",
      "261/261 [==============================] - 698s 3s/step - loss: 0.0406 - accuracy: 0.9876 - val_loss: 0.0681 - val_accuracy: 0.9808\n",
      "Epoch 19/20\n",
      "261/261 [==============================] - 711s 3s/step - loss: 0.0205 - accuracy: 0.9919 - val_loss: 0.2035 - val_accuracy: 0.9597\n",
      "Score for fold 5: loss of 0.20353271067142487; accuracy of 95.97315192222595%\n",
      ">Saved ./models/model_Diseasecnn5.h5\n"
     ]
    }
   ],
   "source": [
    "for i, (train, test) in enumerate(kfold.split(X_train, y_train), 1):\n",
    "   \n",
    "    print(f'training model for Kfold #{i}')\n",
    "    callback = EarlyStopping(monitor='loss', patience=6)\n",
    "   \n",
    "    model = get_model()\n",
    "\n",
    "    # Fit data to model\n",
    "    #model.fit(datagen.flow(X_train[train], y_train[train], batch_size=4),\n",
    "    history = model.fit(X_train[train], y_train[train],\n",
    "                        validation_data=(X_train[test], y_train[test]),\n",
    "                        batch_size = 16,\n",
    "                        epochs=20,\n",
    "                        callbacks=[callback],\n",
    "                        verbose = 1,\n",
    "                        class_weight={0:6.0, 1:0.5}\n",
    "                       )\n",
    "   \n",
    "    scores = model.evaluate(X_train[test], y_train[test], verbose=0)\n",
    "    print(f'Score for fold {i}: {model.metrics_names[0]} of {scores[0]}; {model.metrics_names[1]} of {scores[1]*100}%')\n",
    "    acc_per_fold.append(scores[1] * 100)\n",
    "    loss_per_fold.append(scores[0])\n",
    "   \n",
    "    filename = './models/model_Diseasecnn' + str(i) + '.h5'\n",
    "    model.save(filename)\n",
    "    print('>Saved %s' % filename)"
   ]
  },
  {
   "cell_type": "code",
   "execution_count": 14,
   "metadata": {},
   "outputs": [
    {
     "name": "stdout",
     "output_type": "stream",
     "text": [
      "Score per fold\n",
      "------------------------------------------------------------------------\n",
      "> Fold 1 - Loss: 0.0907655730843544 - Accuracy: 97.5095808506012%\n",
      "------------------------------------------------------------------------\n",
      "Average scores for all folds:\n",
      "> Accuracy: 97.45014071464539 (+- 0.8610083275046639)\n",
      "> Loss: 0.10398115292191505\n",
      "------------------------------------------------------------------------\n",
      "------------------------------------------------------------------------\n",
      "> Fold 2 - Loss: 0.1059173047542572 - Accuracy: 97.41131067276001%\n",
      "------------------------------------------------------------------------\n",
      "Average scores for all folds:\n",
      "> Accuracy: 97.45014071464539 (+- 0.8610083275046639)\n",
      "> Loss: 0.10398115292191505\n",
      "------------------------------------------------------------------------\n",
      "------------------------------------------------------------------------\n",
      "> Fold 3 - Loss: 0.08070738613605499 - Accuracy: 97.69894480705261%\n",
      "------------------------------------------------------------------------\n",
      "Average scores for all folds:\n",
      "> Accuracy: 97.45014071464539 (+- 0.8610083275046639)\n",
      "> Loss: 0.10398115292191505\n",
      "------------------------------------------------------------------------\n",
      "------------------------------------------------------------------------\n",
      "> Fold 4 - Loss: 0.03898278996348381 - Accuracy: 98.65771532058716%\n",
      "------------------------------------------------------------------------\n",
      "Average scores for all folds:\n",
      "> Accuracy: 97.45014071464539 (+- 0.8610083275046639)\n",
      "> Loss: 0.10398115292191505\n",
      "------------------------------------------------------------------------\n",
      "------------------------------------------------------------------------\n",
      "> Fold 5 - Loss: 0.20353271067142487 - Accuracy: 95.97315192222595%\n",
      "------------------------------------------------------------------------\n",
      "Average scores for all folds:\n",
      "> Accuracy: 97.45014071464539 (+- 0.8610083275046639)\n",
      "> Loss: 0.10398115292191505\n",
      "------------------------------------------------------------------------\n"
     ]
    }
   ],
   "source": [
    "# == Provide average scores ==\n",
    "print('Score per fold')\n",
    "for i in range(0, len(acc_per_fold)):\n",
    "    print('------------------------------------------------------------------------')\n",
    "    print(f'> Fold {i+1} - Loss: {loss_per_fold[i]} - Accuracy: {acc_per_fold[i]}%')\n",
    "    print('------------------------------------------------------------------------')\n",
    "    print('Average scores for all folds:')\n",
    "    print(f'> Accuracy: {np.mean(acc_per_fold)} (+- {np.std(acc_per_fold)})')\n",
    "    print(f'> Loss: {np.mean(loss_per_fold)}')\n",
    "    print('------------------------------------------------------------------------')"
   ]
  },
  {
   "cell_type": "code",
   "execution_count": 47,
   "metadata": {},
   "outputs": [
    {
     "data": {
      "text/plain": [
       "[95.4023003578186,\n",
       " 94.8226273059845,\n",
       " 94.15148496627808,\n",
       " 97.7948248386383,\n",
       " 88.20709586143494]"
      ]
     },
     "execution_count": 47,
     "metadata": {},
     "output_type": "execute_result"
    }
   ],
   "source": [
    "acc_per_fold"
   ]
  },
  {
   "cell_type": "code",
   "execution_count": 15,
   "metadata": {},
   "outputs": [
    {
     "name": "stdout",
     "output_type": "stream",
     "text": [
      "Test loss  : 0.10398115292191505\n",
      "Test accuracy : 97.45014071464539\n"
     ]
    }
   ],
   "source": [
    "def avg(list):\n",
    "    return (sum(list)/len(list))\n",
    "\n",
    "print(\"Test loss  : {}\".format(avg(loss_per_fold)))\n",
    "print(\"Test accuracy : {}\".format(avg(acc_per_fold)))"
   ]
  },
  {
   "cell_type": "code",
   "execution_count": 16,
   "metadata": {},
   "outputs": [
    {
     "data": {
      "image/png": "[encoded data removed]",
      "text/plain": [
       "<Figure size 1080x360 with 2 Axes>"
      ]
     },
     "metadata": {
      "needs_background": "light"
     },
     "output_type": "display_data"
    }
   ],
   "source": [
    "fig, ax = plt.subplots(1, 2, figsize=(15, 5))\n",
    "ax = ax.ravel()\n",
    "\n",
    "for i, met in enumerate(['accuracy', 'loss']):\n",
    "    ax[i].plot(history.history[met])\n",
    "    ax[i].plot(history.history['val_' + met])\n",
    "    ax[i].set_title('Model {}'.format(met))\n",
    "    ax[i].set_xlabel('epochs')\n",
    "    ax[i].set_ylabel(met)\n",
    "    ax[i].legend(['train', 'val'])"
   ]
  }
 ],
 "metadata": {
  "kernelspec": {
   "display_name": "Python 3",
   "language": "python",
   "name": "python3"
  },
  "language_info": {
   "codemirror_mode": {
    "name": "ipython",
    "version": 3
   },
   "file_extension": ".py",
   "mimetype": "text/x-python",
   "name": "python",
   "nbconvert_exporter": "python",
   "pygments_lexer": "ipython3",
   "version": "3.8.3"
  }
 },
 "nbformat": 4,
 "nbformat_minor": 4
}
