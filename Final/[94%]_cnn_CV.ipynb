{
 "cells": [
  {
   "cell_type": "markdown",
   "metadata": {},
   "source": [
    "## Load libraries"
   ]
  },
  {
   "cell_type": "code",
   "execution_count": 38,
   "metadata": {},
   "outputs": [],
   "source": [
    "import glob\n",
    "import random as rn\n",
    "import numpy as np\n",
    "import pandas as pd\n",
    "import matplotlib.pyplot as plt\n",
    "import seaborn as sns\n",
    "import cv2\n",
    "\n",
    "from tensorflow.keras.models import Sequential\n",
    "from tensorflow.keras.layers import Dense, Conv2D, MaxPooling2D, Flatten, Dropout, BatchNormalization\n",
    "from tensorflow.keras.callbacks import EarlyStopping, ReduceLROnPlateau\n",
    "from tensorflow.keras.preprocessing.image import ImageDataGenerator\n",
    "from tensorflow.keras.optimizers import RMSprop, Adam\n",
    "from tensorflow.keras.utils import to_categorical\n",
    "from tensorflow.keras.losses import sparse_categorical_crossentropy\n",
    "\n",
    "from sklearn.metrics import classification_report, confusion_matrix\n",
    "from sklearn.model_selection import KFold\n",
    "from sklearn.utils.class_weight import compute_class_weight\n",
    "\n",
    "\n",
    "%matplotlib inline\n",
    "import warnings\n",
    "warnings.filterwarnings('ignore')"
   ]
  },
  {
   "cell_type": "markdown",
   "metadata": {},
   "source": [
    "## Load data_No Cv"
   ]
  },
  {
   "cell_type": "code",
   "execution_count": 27,
   "metadata": {},
   "outputs": [
    {
     "name": "stdout",
     "output_type": "stream",
     "text": [
      "Found 5216 images belonging to 2 classes.\n",
      "Found 624 images belonging to 2 classes.\n",
      "Found 16 images belonging to 2 classes.\n"
     ]
    }
   ],
   "source": [
    "train_idg = ImageDataGenerator(\n",
    "    rescale = 1./255.,\n",
    "    rotation_range = 30,  \n",
    "    zoom_range = 0.2, \n",
    "    width_shift_range=0.1,  \n",
    "    height_shift_range=0.1,  \n",
    "    horizontal_flip = True,\n",
    ")\n",
    "test_idg = ImageDataGenerator(\n",
    "    rescale = 1./255.\n",
    ")\n",
    "val_idg = ImageDataGenerator(\n",
    "    rescale=1./255.\n",
    ")\n",
    "\n",
    "IMG_SIZE = (224, 224)\n",
    "\n",
    "train = train_idg.flow_from_directory('./input/chest_xray/train', \n",
    "                                      class_mode='binary',\n",
    "                                      color_mode=\"grayscale\",\n",
    "                                      target_size = IMG_SIZE\n",
    "                                     )\n",
    "test = test_idg.flow_from_directory('./input/chest_xray/test', \n",
    "                                    class_mode='binary',\n",
    "                                    color_mode=\"grayscale\",\n",
    "                                    target_size = IMG_SIZE\n",
    "                                   )\n",
    "val = val_idg.flow_from_directory('./input/chest_xray/val',\n",
    "                                  class_mode='binary',\n",
    "                                  color_mode=\"grayscale\",\n",
    "                                  target_size = IMG_SIZE\n",
    "                                 )"
   ]
  },
  {
   "cell_type": "code",
   "execution_count": 28,
   "metadata": {},
   "outputs": [
    {
     "name": "stdout",
     "output_type": "stream",
     "text": [
      "32 32\n"
     ]
    }
   ],
   "source": [
    "trainX, trainY = train.next()\n",
    "testX, testY = test.next()\n",
    "valX, valY = val.next()\n",
    "\n",
    "print(len(trainX), len(trainY))#32 32"
   ]
  },
  {
   "cell_type": "code",
   "execution_count": 29,
   "metadata": {},
   "outputs": [
    {
     "name": "stdout",
     "output_type": "stream",
     "text": [
      "Train X=(32, 224, 224, 1) Y=(32,)\n",
      "Test X=(32, 224, 224, 1) Y=(32,)\n",
      "Val X=(16, 224, 224, 1) Y=(16,)\n"
     ]
    }
   ],
   "source": [
    "print('Train X=%s Y=%s' %(trainX.shape, trainY.shape))\n",
    "print('Test X=%s Y=%s' %(testX.shape, testY.shape))\n",
    "print('Val X=%s Y=%s' %(valX.shape, valY.shape))"
   ]
  },
  {
   "cell_type": "markdown",
   "metadata": {},
   "source": [
    "## Modeling_NO Cv"
   ]
  },
  {
   "cell_type": "code",
   "execution_count": 30,
   "metadata": {},
   "outputs": [],
   "source": [
    "model = Sequential()\n",
    "model.add( Conv2D(filters=8, kernel_size=(7,7), padding='same', activation='relu', input_shape=(224, 224, 1)))\n",
    "model.add( Conv2D(filters=8, kernel_size=(7,7), padding='same', activation='relu'))\n",
    "model.add( MaxPooling2D(pool_size=(3,3)))  \n",
    "\n",
    "model.add( Conv2D(filters=16, kernel_size=(5,5), padding='same', activation='relu'))\n",
    "model.add( Conv2D(filters=16, kernel_size=(5,5), padding='same', activation='relu'))\n",
    "model.add( MaxPooling2D(pool_size=(3,3)))   \n",
    "\n",
    "model.add( Conv2D(filters=32, kernel_size=(3,3), padding='same', activation='relu'))\n",
    "model.add( Conv2D(filters=32, kernel_size=(3,3), padding='same', activation='relu'))\n",
    "model.add( MaxPooling2D(pool_size=(2,2)))   \n",
    "\n",
    "model.add( Conv2D(filters=64, kernel_size=(3,3), padding='same', activation='relu'))\n",
    "model.add( Conv2D(filters=64, kernel_size=(3,3), padding='same', activation='relu'))\n",
    "model.add( MaxPooling2D(pool_size=(2,2)))   \n",
    "\n",
    "model.add( Conv2D(filters=128, kernel_size=(3,3), padding='same', activation='relu'))\n",
    "model.add( Conv2D(filters=128, kernel_size=(3,3), padding='same', activation='relu'))\n",
    "model.add( MaxPooling2D(pool_size=(2,2)))      \n",
    "\n",
    "model.add(Flatten())\n",
    "model.add(Flatten())\n",
    "model.add(Dropout(0.2))\n",
    "model.add(Dense(1, activation='softmax'))# 1 or 2\n",
    "\n",
    "# compile model\n",
    "optimizer = Adam(lr=0.0001, decay=1e-5)\n",
    "model.compile(loss='categorical_crossentropy', optimizer=optimizer, metrics=['accuracy'])"
   ]
  },
  {
   "cell_type": "code",
   "execution_count": 31,
   "metadata": {},
   "outputs": [
    {
     "name": "stdout",
     "output_type": "stream",
     "text": [
      "Model: \"sequential_11\"\n",
      "_________________________________________________________________\n",
      "Layer (type)                 Output Shape              Param #   \n",
      "=================================================================\n",
      "conv2d_110 (Conv2D)          (None, 224, 224, 8)       400       \n",
      "_________________________________________________________________\n",
      "conv2d_111 (Conv2D)          (None, 224, 224, 8)       3144      \n",
      "_________________________________________________________________\n",
      "max_pooling2d_55 (MaxPooling (None, 74, 74, 8)         0         \n",
      "_________________________________________________________________\n",
      "conv2d_112 (Conv2D)          (None, 74, 74, 16)        3216      \n",
      "_________________________________________________________________\n",
      "conv2d_113 (Conv2D)          (None, 74, 74, 16)        6416      \n",
      "_________________________________________________________________\n",
      "max_pooling2d_56 (MaxPooling (None, 24, 24, 16)        0         \n",
      "_________________________________________________________________\n",
      "conv2d_114 (Conv2D)          (None, 24, 24, 32)        4640      \n",
      "_________________________________________________________________\n",
      "conv2d_115 (Conv2D)          (None, 24, 24, 32)        9248      \n",
      "_________________________________________________________________\n",
      "max_pooling2d_57 (MaxPooling (None, 12, 12, 32)        0         \n",
      "_________________________________________________________________\n",
      "conv2d_116 (Conv2D)          (None, 12, 12, 64)        18496     \n",
      "_________________________________________________________________\n",
      "conv2d_117 (Conv2D)          (None, 12, 12, 64)        36928     \n",
      "_________________________________________________________________\n",
      "max_pooling2d_58 (MaxPooling (None, 6, 6, 64)          0         \n",
      "_________________________________________________________________\n",
      "conv2d_118 (Conv2D)          (None, 6, 6, 128)         73856     \n",
      "_________________________________________________________________\n",
      "conv2d_119 (Conv2D)          (None, 6, 6, 128)         147584    \n",
      "_________________________________________________________________\n",
      "max_pooling2d_59 (MaxPooling (None, 3, 3, 128)         0         \n",
      "_________________________________________________________________\n",
      "flatten_22 (Flatten)         (None, 1152)              0         \n",
      "_________________________________________________________________\n",
      "flatten_23 (Flatten)         (None, 1152)              0         \n",
      "_________________________________________________________________\n",
      "dropout_11 (Dropout)         (None, 1152)              0         \n",
      "_________________________________________________________________\n",
      "dense_11 (Dense)             (None, 1)                 1153      \n",
      "=================================================================\n",
      "Total params: 305,081\n",
      "Trainable params: 305,081\n",
      "Non-trainable params: 0\n",
      "_________________________________________________________________\n"
     ]
    }
   ],
   "source": [
    "model.summary()"
   ]
  },
  {
   "cell_type": "code",
   "execution_count": 11,
   "metadata": {},
   "outputs": [],
   "source": [
    "learning_rate_reduction = ReduceLROnPlateau(monitor='val_accuracy', patience = 5, verbose=1,factor=0.3, min_lr=0.000001)"
   ]
  },
  {
   "cell_type": "code",
   "execution_count": 12,
   "metadata": {
    "scrolled": true
   },
   "outputs": [
    {
     "name": "stdout",
     "output_type": "stream",
     "text": [
      "Epoch 1/50\n",
      "163/163 [==============================] - 281s 2s/step - loss: 0.0000e+00 - accuracy: 0.7429 - val_loss: 0.0000e+00 - val_accuracy: 0.5000\n",
      "Epoch 2/50\n",
      "163/163 [==============================] - 282s 2s/step - loss: 0.0000e+00 - accuracy: 0.7429 - val_loss: 0.0000e+00 - val_accuracy: 0.5000\n",
      "Epoch 3/50\n",
      "163/163 [==============================] - 282s 2s/step - loss: 0.0000e+00 - accuracy: 0.7429 - val_loss: 0.0000e+00 - val_accuracy: 0.5000\n",
      "Epoch 4/50\n",
      "163/163 [==============================] - 283s 2s/step - loss: 0.0000e+00 - accuracy: 0.7429 - val_loss: 0.0000e+00 - val_accuracy: 0.5000\n",
      "Epoch 5/50\n",
      "163/163 [==============================] - 283s 2s/step - loss: 0.0000e+00 - accuracy: 0.7429 - val_loss: 0.0000e+00 - val_accuracy: 0.5000\n",
      "Epoch 6/50\n",
      "163/163 [==============================] - ETA: 0s - loss: 0.0000e+00 - accuracy: 0.7429\n",
      "Epoch 00006: ReduceLROnPlateau reducing learning rate to 2.9999999242136255e-05.\n",
      "163/163 [==============================] - 283s 2s/step - loss: 0.0000e+00 - accuracy: 0.7429 - val_loss: 0.0000e+00 - val_accuracy: 0.5000\n",
      "Epoch 7/50\n",
      "163/163 [==============================] - 283s 2s/step - loss: 0.0000e+00 - accuracy: 0.7429 - val_loss: 0.0000e+00 - val_accuracy: 0.5000\n",
      "Epoch 8/50\n",
      "163/163 [==============================] - 282s 2s/step - loss: 0.0000e+00 - accuracy: 0.7429 - val_loss: 0.0000e+00 - val_accuracy: 0.5000\n",
      "Epoch 9/50\n",
      "163/163 [==============================] - 282s 2s/step - loss: 0.0000e+00 - accuracy: 0.7429 - val_loss: 0.0000e+00 - val_accuracy: 0.5000\n",
      "Epoch 10/50\n",
      "163/163 [==============================] - 282s 2s/step - loss: 0.0000e+00 - accuracy: 0.7429 - val_loss: 0.0000e+00 - val_accuracy: 0.5000\n",
      "Epoch 11/50\n",
      "163/163 [==============================] - ETA: 0s - loss: 0.0000e+00 - accuracy: 0.7429\n",
      "Epoch 00011: ReduceLROnPlateau reducing learning rate to 8.999999772640877e-06.\n",
      "163/163 [==============================] - 283s 2s/step - loss: 0.0000e+00 - accuracy: 0.7429 - val_loss: 0.0000e+00 - val_accuracy: 0.5000\n",
      "Epoch 12/50\n",
      "163/163 [==============================] - 283s 2s/step - loss: 0.0000e+00 - accuracy: 0.7429 - val_loss: 0.0000e+00 - val_accuracy: 0.5000\n",
      "Epoch 13/50\n",
      "163/163 [==============================] - 282s 2s/step - loss: 0.0000e+00 - accuracy: 0.7429 - val_loss: 0.0000e+00 - val_accuracy: 0.5000\n",
      "Epoch 14/50\n",
      "163/163 [==============================] - 282s 2s/step - loss: 0.0000e+00 - accuracy: 0.7429 - val_loss: 0.0000e+00 - val_accuracy: 0.5000\n",
      "Epoch 15/50\n",
      "163/163 [==============================] - 282s 2s/step - loss: 0.0000e+00 - accuracy: 0.7429 - val_loss: 0.0000e+00 - val_accuracy: 0.5000\n",
      "Epoch 16/50\n",
      "163/163 [==============================] - ETA: 0s - loss: 0.0000e+00 - accuracy: 0.7429\n",
      "Epoch 00016: ReduceLROnPlateau reducing learning rate to 2.6999998226528985e-06.\n",
      "163/163 [==============================] - 282s 2s/step - loss: 0.0000e+00 - accuracy: 0.7429 - val_loss: 0.0000e+00 - val_accuracy: 0.5000\n",
      "Epoch 17/50\n",
      "163/163 [==============================] - 282s 2s/step - loss: 0.0000e+00 - accuracy: 0.7429 - val_loss: 0.0000e+00 - val_accuracy: 0.5000\n",
      "Epoch 18/50\n",
      "163/163 [==============================] - 282s 2s/step - loss: 0.0000e+00 - accuracy: 0.7429 - val_loss: 0.0000e+00 - val_accuracy: 0.5000\n",
      "Epoch 19/50\n",
      "163/163 [==============================] - 282s 2s/step - loss: 0.0000e+00 - accuracy: 0.7429 - val_loss: 0.0000e+00 - val_accuracy: 0.5000\n",
      "Epoch 20/50\n",
      "163/163 [==============================] - 282s 2s/step - loss: 0.0000e+00 - accuracy: 0.7429 - val_loss: 0.0000e+00 - val_accuracy: 0.5000\n",
      "Epoch 21/50\n",
      "163/163 [==============================] - ETA: 0s - loss: 0.0000e+00 - accuracy: 0.7429\n",
      "Epoch 00021: ReduceLROnPlateau reducing learning rate to 1e-06.\n",
      "163/163 [==============================] - 281s 2s/step - loss: 0.0000e+00 - accuracy: 0.7429 - val_loss: 0.0000e+00 - val_accuracy: 0.5000\n",
      "Epoch 22/50\n",
      "163/163 [==============================] - 282s 2s/step - loss: 0.0000e+00 - accuracy: 0.7429 - val_loss: 0.0000e+00 - val_accuracy: 0.5000\n",
      "Epoch 23/50\n",
      "163/163 [==============================] - 282s 2s/step - loss: 0.0000e+00 - accuracy: 0.7429 - val_loss: 0.0000e+00 - val_accuracy: 0.5000\n",
      "Epoch 24/50\n",
      "163/163 [==============================] - 281s 2s/step - loss: 0.0000e+00 - accuracy: 0.7429 - val_loss: 0.0000e+00 - val_accuracy: 0.5000\n",
      "Epoch 25/50\n",
      "163/163 [==============================] - 281s 2s/step - loss: 0.0000e+00 - accuracy: 0.7429 - val_loss: 0.0000e+00 - val_accuracy: 0.5000\n",
      "Epoch 26/50\n",
      "163/163 [==============================] - 281s 2s/step - loss: 0.0000e+00 - accuracy: 0.7429 - val_loss: 0.0000e+00 - val_accuracy: 0.5000\n",
      "Epoch 27/50\n",
      "163/163 [==============================] - 281s 2s/step - loss: 0.0000e+00 - accuracy: 0.7429 - val_loss: 0.0000e+00 - val_accuracy: 0.5000\n",
      "Epoch 28/50\n",
      "163/163 [==============================] - 282s 2s/step - loss: 0.0000e+00 - accuracy: 0.7429 - val_loss: 0.0000e+00 - val_accuracy: 0.5000\n",
      "Epoch 29/50\n",
      "163/163 [==============================] - 281s 2s/step - loss: 0.0000e+00 - accuracy: 0.7429 - val_loss: 0.0000e+00 - val_accuracy: 0.5000\n",
      "Epoch 30/50\n",
      "163/163 [==============================] - 282s 2s/step - loss: 0.0000e+00 - accuracy: 0.7429 - val_loss: 0.0000e+00 - val_accuracy: 0.5000\n",
      "Epoch 31/50\n",
      "163/163 [==============================] - 281s 2s/step - loss: 0.0000e+00 - accuracy: 0.7429 - val_loss: 0.0000e+00 - val_accuracy: 0.5000\n",
      "Epoch 32/50\n",
      "163/163 [==============================] - 281s 2s/step - loss: 0.0000e+00 - accuracy: 0.7429 - val_loss: 0.0000e+00 - val_accuracy: 0.5000\n",
      "Epoch 33/50\n",
      "163/163 [==============================] - 282s 2s/step - loss: 0.0000e+00 - accuracy: 0.7429 - val_loss: 0.0000e+00 - val_accuracy: 0.5000\n",
      "Epoch 34/50\n",
      "163/163 [==============================] - 282s 2s/step - loss: 0.0000e+00 - accuracy: 0.7429 - val_loss: 0.0000e+00 - val_accuracy: 0.5000\n",
      "Epoch 35/50\n",
      "163/163 [==============================] - 282s 2s/step - loss: 0.0000e+00 - accuracy: 0.7429 - val_loss: 0.0000e+00 - val_accuracy: 0.5000\n",
      "Epoch 36/50\n",
      "163/163 [==============================] - 282s 2s/step - loss: 0.0000e+00 - accuracy: 0.7429 - val_loss: 0.0000e+00 - val_accuracy: 0.5000\n",
      "Epoch 37/50\n",
      "163/163 [==============================] - 282s 2s/step - loss: 0.0000e+00 - accuracy: 0.7429 - val_loss: 0.0000e+00 - val_accuracy: 0.5000\n",
      "Epoch 38/50\n",
      "163/163 [==============================] - 283s 2s/step - loss: 0.0000e+00 - accuracy: 0.7429 - val_loss: 0.0000e+00 - val_accuracy: 0.5000\n",
      "Epoch 39/50\n",
      "163/163 [==============================] - 282s 2s/step - loss: 0.0000e+00 - accuracy: 0.7429 - val_loss: 0.0000e+00 - val_accuracy: 0.5000\n",
      "Epoch 40/50\n",
      "163/163 [==============================] - 281s 2s/step - loss: 0.0000e+00 - accuracy: 0.7429 - val_loss: 0.0000e+00 - val_accuracy: 0.5000\n",
      "Epoch 41/50\n",
      "163/163 [==============================] - 282s 2s/step - loss: 0.0000e+00 - accuracy: 0.7429 - val_loss: 0.0000e+00 - val_accuracy: 0.5000\n",
      "Epoch 42/50\n",
      "163/163 [==============================] - 283s 2s/step - loss: 0.0000e+00 - accuracy: 0.7429 - val_loss: 0.0000e+00 - val_accuracy: 0.5000\n",
      "Epoch 43/50\n",
      "163/163 [==============================] - 282s 2s/step - loss: 0.0000e+00 - accuracy: 0.7429 - val_loss: 0.0000e+00 - val_accuracy: 0.5000\n",
      "Epoch 44/50\n",
      "163/163 [==============================] - 282s 2s/step - loss: 0.0000e+00 - accuracy: 0.7429 - val_loss: 0.0000e+00 - val_accuracy: 0.5000\n",
      "Epoch 45/50\n",
      "163/163 [==============================] - 282s 2s/step - loss: 0.0000e+00 - accuracy: 0.7429 - val_loss: 0.0000e+00 - val_accuracy: 0.5000\n",
      "Epoch 46/50\n",
      "163/163 [==============================] - 283s 2s/step - loss: 0.0000e+00 - accuracy: 0.7429 - val_loss: 0.0000e+00 - val_accuracy: 0.5000\n",
      "Epoch 47/50\n",
      "163/163 [==============================] - 283s 2s/step - loss: 0.0000e+00 - accuracy: 0.7429 - val_loss: 0.0000e+00 - val_accuracy: 0.5000\n",
      "Epoch 48/50\n",
      "163/163 [==============================] - 282s 2s/step - loss: 0.0000e+00 - accuracy: 0.7429 - val_loss: 0.0000e+00 - val_accuracy: 0.5000\n",
      "Epoch 49/50\n",
      "163/163 [==============================] - 281s 2s/step - loss: 0.0000e+00 - accuracy: 0.7429 - val_loss: 0.0000e+00 - val_accuracy: 0.5000\n",
      "Epoch 50/50\n",
      "163/163 [==============================] - 282s 2s/step - loss: 0.0000e+00 - accuracy: 0.7429 - val_loss: 0.0000e+00 - val_accuracy: 0.5000\n"
     ]
    }
   ],
   "source": [
    "history = model.fit(train ,batch_size=8, epochs = 50 , validation_data = val ,callbacks = [learning_rate_reduction])"
   ]
  },
  {
   "cell_type": "code",
   "execution_count": 13,
   "metadata": {},
   "outputs": [
    {
     "name": "stdout",
     "output_type": "stream",
     "text": [
      "1/1 [==============================] - 0s 1ms/step - loss: 0.0000e+00 - accuracy: 0.6875\n",
      "Loss of the model is -  0.0\n",
      "1/1 [==============================] - 0s 1ms/step - loss: 0.0000e+00 - accuracy: 0.6875\n",
      "Accuracy of the model is -  68.75 %\n"
     ]
    }
   ],
   "source": [
    "print(\"Loss of the model is - \" , model.evaluate(testX,testY)[0])\n",
    "print(\"Accuracy of the model is - \" , model.evaluate(testX,testY)[1]*100 , \"%\")"
   ]
  },
  {
   "cell_type": "markdown",
   "metadata": {},
   "source": [
    "## Load data_CV"
   ]
  },
  {
   "cell_type": "code",
   "execution_count": 32,
   "metadata": {},
   "outputs": [],
   "source": [
    "path = './input/chest_xray/'\n",
    "# define paths\n",
    "train_normal_dir = path + 'train/NORMAL/'\n",
    "train_pneu_dir = path + 'train/PNEUMONIA/'\n",
    "\n",
    "test_normal_dir = path + 'test/NORMAL/'\n",
    "test_pneu_dir = path + 'test/PNEUMONIA/'\n",
    "\n",
    "val_normal_dir = path + 'val/NORMAL/'\n",
    "val_pneu_dir = path + 'val/PNEUMONIA/'\n",
    "\n",
    "# find all files, our files has extension jpeg\n",
    "train_normal_cases = glob.glob(train_normal_dir + '*jpeg') #1341\n",
    "train_pneu_cases = glob.glob(train_pneu_dir + '*jpeg')#3875\n",
    "\n",
    "test_normal_cases = glob.glob(test_normal_dir + '*jpeg')#234\n",
    "test_pneu_cases = glob.glob(test_pneu_dir + '*jpeg')#390\n",
    "\n",
    "val_normal_cases = glob.glob(val_normal_dir + '*jpeg')#8\n",
    "val_pneu_cases = glob.glob(val_pneu_dir + '*jpeg')#8"
   ]
  },
  {
   "cell_type": "code",
   "execution_count": 33,
   "metadata": {},
   "outputs": [],
   "source": [
    "# make path using / instead of \\\\ ... this may be redudant step\n",
    "train_normal_cases = [x.replace('\\\\', '/') for x in train_normal_cases]\n",
    "train_pneu_cases = [x.replace('\\\\', '/') for x in train_pneu_cases]\n",
    "test_normal_cases = [x.replace('\\\\', '/') for x in test_normal_cases]\n",
    "test_pneu_cases = [x.replace('\\\\', '/') for x in test_pneu_cases]\n",
    "val_normal_cases = [x.replace('\\\\', '/') for x in val_normal_cases]\n",
    "val_pneu_cases = [x.replace('\\\\', '/') for x in val_pneu_cases]\n",
    "\n",
    "\n",
    "# create lists for train, test & validation cases, create labels as well\n",
    "train_list = []\n",
    "test_list = []\n",
    "val_list = []\n",
    "\n",
    "for x in train_normal_cases:\n",
    "    train_list.append([x, 0])\n",
    "    \n",
    "for x in train_pneu_cases:\n",
    "    train_list.append([x, 1])\n",
    "    \n",
    "for x in test_normal_cases:\n",
    "    test_list.append([x, 0])\n",
    "    \n",
    "for x in test_pneu_cases:\n",
    "    test_list.append([x, 1])\n",
    "    \n",
    "for x in val_normal_cases:\n",
    "    val_list.append([x, 0])\n",
    "    \n",
    "for x in val_pneu_cases:\n",
    "    val_list.append([x, 1])\n",
    "\n",
    "\n",
    "# shuffle/randomize data as they were loaded in order: normal cases, then pneumonia cases\n",
    "rn.shuffle(train_list)\n",
    "rn.shuffle(test_list)\n",
    "rn.shuffle(val_list)\n",
    "\n",
    "\n",
    "# create dataframes\n",
    "train_df = pd.DataFrame(train_list, columns=['image', 'label'])\n",
    "test_df = pd.DataFrame(test_list, columns=['image', 'label'])\n",
    "val_df = pd.DataFrame(val_list, columns=['image', 'label'])"
   ]
  },
  {
   "cell_type": "markdown",
   "metadata": {},
   "source": [
    "## Visualize distribution of cases_CV"
   ]
  },
  {
   "cell_type": "code",
   "execution_count": 34,
   "metadata": {},
   "outputs": [
    {
     "data": {
      "image/png": "[encoded data removed]",
      "text/plain": [
       "<Figure size 1440x360 with 3 Axes>"
      ]
     },
     "metadata": {
      "needs_background": "light"
     },
     "output_type": "display_data"
    }
   ],
   "source": [
    "plt.figure(figsize=(20,5))\n",
    "\n",
    "plt.subplot(1,3,1)\n",
    "sns.countplot(train_df['label'])\n",
    "plt.title('Train data')\n",
    "\n",
    "plt.subplot(1,3,2)\n",
    "sns.countplot(test_df['label'])\n",
    "plt.title('Test data')\n",
    "\n",
    "plt.subplot(1,3,3)\n",
    "sns.countplot(val_df['label'])\n",
    "plt.title('Validation data')\n",
    "\n",
    "plt.show()"
   ]
  },
  {
   "cell_type": "markdown",
   "metadata": {},
   "source": [
    "**여기서 class_weight 조절의 필요성을 생각해볼 필요가 있음.. \n",
    "**학습 데이터를 보면 정상 자료가 비정상 환자 자료에 비에 부족한 편  \n",
    "**딥러닝에서 클래스 불균형을 다루는 방법  \n",
    "\n",
    "현실 데이터에는 클래스 불균형 (class imbalance) 문제가 자주 있다.   \n",
    "어떤 데이터에서 각 클래스 (주로 범주형 반응 변수) 가 갖고 있는 데이터의 양에 차이가 큰 경우,   \n",
    "\"현실 데이터\" 에 클래스 불균형 문제가 있다고 말한다.  \n",
    "\n",
    "- 더욱 큰 비중 (weight) 를 두고 정확한 예측을 할 수 있도록 만들어야한다.  \n",
    "- 각 데이터에서 loss 를 계산할 때 특정 클래스의 데이터에 더 큰 loss 값을 갖도록 하는 방법  \n",
    "- 정상환자 클래스의 데이터에 관해서는 loss 가 더 크도록 만드는 것이다.  "
   ]
  },
  {
   "cell_type": "markdown",
   "metadata": {},
   "source": [
    "## Data preprocessing_CV\n",
    "\n",
    "process_data - 이미지 로드, 크기 조정, 그레이스케일로 변환, 정규화 및 텐서 흐름에 필요한 차원으로 재조정  \n",
    "compose_dataset - 이미지를 반복하여 2 Numpy 배열 생성. 첫째는 이미지 자체를 매트릭스로 포함하며, 둘째는 레이블을 포함함"
   ]
  },
  {
   "cell_type": "code",
   "execution_count": 35,
   "metadata": {},
   "outputs": [],
   "source": [
    "def process_data(img_path):\n",
    "    img = cv2.imread(img_path)\n",
    "    img = cv2.resize(img, (244, 244))\n",
    "    img = cv2.cvtColor(img, cv2.COLOR_BGR2GRAY)\n",
    "    img = img/255.0\n",
    "    img = np.reshape(img, (244,244,1))\n",
    "    \n",
    "    return img\n",
    "\n",
    "def compose_dataset(df):\n",
    "    data = []\n",
    "    labels = []\n",
    "\n",
    "    for img_path, label in df.values:\n",
    "        data.append(process_data(img_path))\n",
    "        labels.append(label)\n",
    "        \n",
    "    return np.array(data), np.array(labels)"
   ]
  },
  {
   "cell_type": "code",
   "execution_count": 36,
   "metadata": {},
   "outputs": [
    {
     "name": "stdout",
     "output_type": "stream",
     "text": [
      "Train data shape: (5216, 244, 244, 1), Labels shape: (5216,)\n",
      "Test data shape: (624, 244, 244, 1), Labels shape: (624,)\n",
      "Validation data shape: (16, 244, 244, 1), Labels shape: (16,)\n"
     ]
    }
   ],
   "source": [
    "X_train, y_train = compose_dataset(train_df)\n",
    "X_test, y_test = compose_dataset(test_df)\n",
    "X_val, y_val = compose_dataset(val_df)\n",
    "\n",
    "print('Train data shape: {}, Labels shape: {}'.format(X_train.shape, y_train.shape))\n",
    "print('Test data shape: {}, Labels shape: {}'.format(X_test.shape, y_test.shape))\n",
    "print('Validation data shape: {}, Labels shape: {}'.format(X_val.shape, y_val.shape))"
   ]
  },
  {
   "cell_type": "markdown",
   "metadata": {},
   "source": [
    "### Weight decay\n",
    "가중치 감소는 학습 중에 가중치가 큰 것에 대해서는 일종의 패널티를 부과해 과적합의 위험을 줄이는 방법이다. 가중치의 제곱 법칙(L2 법칙; 많이 사용된다)를 손실함수에 더해 손실함수 값이 더 커지게 한다. 그만큼 가중치가 커지는 것을 억제하기 되는 것이다.\n",
    "\n",
    "\n",
    "\n",
    "L2 법칙은 1/2곱하기 λ(람다) 곱하기 W제곱 이다.\n",
    "\n",
    "람다는 정규화의 세기를 조절하는 하이퍼파라미터이다.\n",
    "\n",
    "람다를 크게 설정할수록 가중치에 대한 페널티가 커진다. \n",
    "\n",
    "\n",
    "출처: https://sacko.tistory.com/45 [데이터 분석하는 문과생, 싸코]"
   ]
  },
  {
   "cell_type": "code",
   "execution_count": 39,
   "metadata": {},
   "outputs": [
    {
     "name": "stdout",
     "output_type": "stream",
     "text": [
      "{0: 1.9448173005219984, 1: 0.6730322580645162}\n"
     ]
    }
   ],
   "source": [
    "weights = compute_class_weight('balanced', np.unique(y_train), y_train)\n",
    "weights = {0: weights[0], 1: weights[1]}\n",
    "print(weights)"
   ]
  },
  {
   "cell_type": "code",
   "execution_count": 40,
   "metadata": {},
   "outputs": [
    {
     "name": "stdout",
     "output_type": "stream",
     "text": [
      "{0: 1.3333333333333333, 1: 0.8}\n"
     ]
    }
   ],
   "source": [
    "weights = compute_class_weight('balanced', np.unique(y_test), y_test)\n",
    "weights = {0: weights[0], 1: weights[1]}\n",
    "print(weights)"
   ]
  },
  {
   "cell_type": "code",
   "execution_count": 42,
   "metadata": {},
   "outputs": [
    {
     "name": "stdout",
     "output_type": "stream",
     "text": [
      "{0: 1.0, 1: 1.0}\n"
     ]
    }
   ],
   "source": [
    "weights = compute_class_weight('balanced', np.unique(y_val), y_val)\n",
    "weights = {0: weights[0], 1: weights[1]}\n",
    "print(weights)"
   ]
  },
  {
   "cell_type": "markdown",
   "metadata": {},
   "source": [
    "## Data augmentation_CV"
   ]
  },
  {
   "cell_type": "code",
   "execution_count": 9,
   "metadata": {},
   "outputs": [],
   "source": [
    "# define generator\n",
    "datagen = ImageDataGenerator(\n",
    "    rotation_range=10,\n",
    "    zoom_range = 0.1,\n",
    "    width_shift_range=0.1,\n",
    "    height_shift_range=0.1,\n",
    "    horizontal_flip=False,\n",
    "    vertical_flip=False\n",
    ")\n",
    "\n",
    "# fit generator on our train features\n",
    "datagen.fit(X_train)"
   ]
  },
  {
   "cell_type": "code",
   "execution_count": 10,
   "metadata": {},
   "outputs": [],
   "source": [
    "y_train = to_categorical(y_train)\n",
    "y_test = to_categorical(y_test)\n",
    "y_val = to_categorical(y_val)"
   ]
  },
  {
   "cell_type": "markdown",
   "metadata": {},
   "source": [
    "## Kfold  Cross Validation"
   ]
  },
  {
   "cell_type": "code",
   "execution_count": 11,
   "metadata": {},
   "outputs": [],
   "source": [
    "kfold = KFold(n_splits=5, shuffle=True)"
   ]
  },
  {
   "cell_type": "code",
   "execution_count": 12,
   "metadata": {},
   "outputs": [],
   "source": [
    "# Model configuration\n",
    "img_width, img_height, img_num_channels = 244, 244, 1 #gray image channel = 1\n",
    "loss_function = sparse_categorical_crossentropy\n",
    "no_classes = 2\n",
    "acc_per_fold = []\n",
    "loss_per_fold = []"
   ]
  },
  {
   "cell_type": "markdown",
   "metadata": {},
   "source": [
    "## Modeling_CV"
   ]
  },
  {
   "cell_type": "code",
   "execution_count": 13,
   "metadata": {},
   "outputs": [],
   "source": [
    "def get_model():\n",
    "    model = Sequential([\n",
    "        Conv2D(filters=8, kernel_size=(7,7), padding='same', activation='relu', input_shape=(244, 244, 1)),\n",
    "        Conv2D(filters=8, kernel_size=(7,7), padding='same', activation='relu'),\n",
    "        MaxPooling2D(pool_size=(3,3)),\n",
    "        \n",
    "        Conv2D(filters=16, kernel_size=(5,5), padding='same', activation='relu'),\n",
    "        Conv2D(filters=16, kernel_size=(5,5), padding='same', activation='relu'),\n",
    "        MaxPooling2D(pool_size=(3,3)),\n",
    "        \n",
    "        Conv2D(filters=32, kernel_size=(3,3), padding='same', activation='relu'),\n",
    "        Conv2D(filters=32, kernel_size=(3,3), padding='same', activation='relu'),\n",
    "        MaxPooling2D(pool_size=(2,2)),\n",
    "        \n",
    "        Conv2D(filters=64, kernel_size=(3,3), padding='same', activation='relu'),\n",
    "        Conv2D(filters=64, kernel_size=(3,3), padding='same', activation='relu'),\n",
    "        MaxPooling2D(pool_size=(2,2)),\n",
    "        \n",
    "        Conv2D(filters=128, kernel_size=(3,3), padding='same', activation='relu'),\n",
    "        Conv2D(filters=128, kernel_size=(3,3), padding='same', activation='relu'),\n",
    "        MaxPooling2D(pool_size=(2,2)),\n",
    "        \n",
    "        Flatten(),\n",
    "        Flatten(),\n",
    "        Dropout(0.2),\n",
    "        Dense(2, activation='softmax')        \n",
    "    ])\n",
    "    \n",
    "    # compile model\n",
    "    optimizer = Adam(lr=0.0001, decay=1e-5)\n",
    "    model.compile(loss='categorical_crossentropy', optimizer=optimizer, metrics=['accuracy'])\n",
    "    return model"
   ]
  },
  {
   "cell_type": "code",
   "execution_count": 19,
   "metadata": {
    "scrolled": true
   },
   "outputs": [
    {
     "name": "stdout",
     "output_type": "stream",
     "text": [
      "training model for Kfold #1\n",
      "Epoch 1/10\n",
      "522/522 [==============================] - 342s 649ms/step - loss: 0.8570 - accuracy: 0.3424 - val_loss: 0.6475 - val_accuracy: 0.7490\n",
      "Epoch 2/10\n",
      "522/522 [==============================] - 348s 667ms/step - loss: 0.3092 - accuracy: 0.8492 - val_loss: 0.2306 - val_accuracy: 0.9148\n",
      "Epoch 3/10\n",
      "522/522 [==============================] - 375s 719ms/step - loss: 0.2023 - accuracy: 0.9081 - val_loss: 0.1385 - val_accuracy: 0.9435\n",
      "Epoch 4/10\n",
      "522/522 [==============================] - 339s 650ms/step - loss: 0.1632 - accuracy: 0.9274 - val_loss: 0.3925 - val_accuracy: 0.8707\n",
      "Epoch 5/10\n",
      "522/522 [==============================] - 332s 635ms/step - loss: 0.1302 - accuracy: 0.9347 - val_loss: 0.2421 - val_accuracy: 0.9148\n",
      "Epoch 6/10\n",
      "522/522 [==============================] - 331s 634ms/step - loss: 0.1266 - accuracy: 0.9414 - val_loss: 0.1131 - val_accuracy: 0.9598\n",
      "Epoch 7/10\n",
      "522/522 [==============================] - 331s 634ms/step - loss: 0.0911 - accuracy: 0.9556 - val_loss: 0.1501 - val_accuracy: 0.9425\n",
      "Epoch 8/10\n",
      "522/522 [==============================] - 334s 641ms/step - loss: 0.0909 - accuracy: 0.9565 - val_loss: 0.1422 - val_accuracy: 0.9444\n",
      "Epoch 9/10\n",
      "522/522 [==============================] - 331s 634ms/step - loss: 0.0673 - accuracy: 0.9690 - val_loss: 0.1458 - val_accuracy: 0.9540\n",
      "Epoch 10/10\n",
      "522/522 [==============================] - 331s 634ms/step - loss: 0.0628 - accuracy: 0.9695 - val_loss: 0.1418 - val_accuracy: 0.9521\n",
      "Score for fold 1: loss of 0.14175526797771454; accuracy of 95.21072506904602%\n",
      ">Saved ./models/model_cnn1.h5\n",
      "training model for Kfold #2\n",
      "Epoch 1/10\n",
      "522/522 [==============================] - 333s 635ms/step - loss: 0.8489 - accuracy: 0.3417 - val_loss: 0.1991 - val_accuracy: 0.9233\n",
      "Epoch 2/10\n",
      "522/522 [==============================] - 330s 632ms/step - loss: 0.2290 - accuracy: 0.8875 - val_loss: 0.2339 - val_accuracy: 0.9185\n",
      "Epoch 3/10\n",
      "522/522 [==============================] - 330s 632ms/step - loss: 0.1729 - accuracy: 0.9135 - val_loss: 0.1582 - val_accuracy: 0.9434\n",
      "Epoch 4/10\n",
      "522/522 [==============================] - 331s 633ms/step - loss: 0.1457 - accuracy: 0.9312 - val_loss: 0.1368 - val_accuracy: 0.9521\n",
      "Epoch 5/10\n",
      "522/522 [==============================] - 330s 633ms/step - loss: 0.1079 - accuracy: 0.9492 - val_loss: 0.1647 - val_accuracy: 0.9473\n",
      "Epoch 6/10\n",
      "522/522 [==============================] - 331s 634ms/step - loss: 0.0853 - accuracy: 0.9593 - val_loss: 0.1443 - val_accuracy: 0.9521\n",
      "Epoch 7/10\n",
      "522/522 [==============================] - 330s 633ms/step - loss: 0.0847 - accuracy: 0.9607 - val_loss: 0.1166 - val_accuracy: 0.9645\n",
      "Epoch 8/10\n",
      "522/522 [==============================] - 331s 633ms/step - loss: 0.0769 - accuracy: 0.9648 - val_loss: 0.0843 - val_accuracy: 0.9732\n",
      "Epoch 9/10\n",
      "522/522 [==============================] - 331s 633ms/step - loss: 0.0790 - accuracy: 0.9643 - val_loss: 0.0769 - val_accuracy: 0.9693\n",
      "Epoch 10/10\n",
      "522/522 [==============================] - 331s 634ms/step - loss: 0.0623 - accuracy: 0.9675 - val_loss: 0.0980 - val_accuracy: 0.9664\n",
      "Score for fold 2: loss of 0.09796140342950821; accuracy of 96.64429426193237%\n",
      ">Saved ./models/model_cnn2.h5\n",
      "training model for Kfold #3\n",
      "Epoch 1/10\n",
      "522/522 [==============================] - 333s 636ms/step - loss: 0.8575 - accuracy: 0.3745 - val_loss: 0.4176 - val_accuracy: 0.8504\n",
      "Epoch 2/10\n",
      "522/522 [==============================] - 330s 633ms/step - loss: 0.2884 - accuracy: 0.8590 - val_loss: 0.3182 - val_accuracy: 0.8802\n",
      "Epoch 3/10\n",
      "522/522 [==============================] - 330s 633ms/step - loss: 0.2309 - accuracy: 0.8811 - val_loss: 0.1879 - val_accuracy: 0.9204\n",
      "Epoch 4/10\n",
      "522/522 [==============================] - 331s 634ms/step - loss: 0.1592 - accuracy: 0.9287 - val_loss: 0.1333 - val_accuracy: 0.9473\n",
      "Epoch 5/10\n",
      "522/522 [==============================] - 330s 633ms/step - loss: 0.1542 - accuracy: 0.9272 - val_loss: 0.2516 - val_accuracy: 0.9099\n",
      "Epoch 6/10\n",
      "522/522 [==============================] - 333s 638ms/step - loss: 0.1319 - accuracy: 0.9309 - val_loss: 0.1215 - val_accuracy: 0.9501\n",
      "Epoch 7/10\n",
      "522/522 [==============================] - 337s 646ms/step - loss: 0.0994 - accuracy: 0.9551 - val_loss: 0.1778 - val_accuracy: 0.9396\n",
      "Epoch 8/10\n",
      "522/522 [==============================] - 331s 633ms/step - loss: 0.0879 - accuracy: 0.9558 - val_loss: 0.1374 - val_accuracy: 0.9530\n",
      "Epoch 9/10\n",
      "522/522 [==============================] - 330s 633ms/step - loss: 0.0886 - accuracy: 0.9609 - val_loss: 0.0995 - val_accuracy: 0.9655\n",
      "Epoch 10/10\n",
      "522/522 [==============================] - 331s 634ms/step - loss: 0.1025 - accuracy: 0.9519 - val_loss: 0.0775 - val_accuracy: 0.9703\n",
      "Score for fold 3: loss of 0.07749664038419724; accuracy of 97.02780246734619%\n",
      ">Saved ./models/model_cnn3.h5\n",
      "training model for Kfold #4\n",
      "Epoch 1/10\n",
      "522/522 [==============================] - 334s 637ms/step - loss: 0.8384 - accuracy: 0.3349 - val_loss: 0.4167 - val_accuracy: 0.8293\n",
      "Epoch 2/10\n",
      "522/522 [==============================] - 335s 642ms/step - loss: 0.2369 - accuracy: 0.8783 - val_loss: 0.1646 - val_accuracy: 0.9444\n",
      "Epoch 3/10\n",
      "522/522 [==============================] - 334s 639ms/step - loss: 0.1549 - accuracy: 0.9229 - val_loss: 0.2900 - val_accuracy: 0.8849\n",
      "Epoch 4/10\n",
      "522/522 [==============================] - 332s 635ms/step - loss: 0.1770 - accuracy: 0.9151 - val_loss: 0.1584 - val_accuracy: 0.9434\n",
      "Epoch 5/10\n",
      "522/522 [==============================] - 331s 634ms/step - loss: 0.1156 - accuracy: 0.9454 - val_loss: 0.0926 - val_accuracy: 0.9655\n",
      "Epoch 6/10\n",
      "522/522 [==============================] - 332s 635ms/step - loss: 0.0992 - accuracy: 0.9562 - val_loss: 0.1472 - val_accuracy: 0.9511\n",
      "Epoch 7/10\n",
      "522/522 [==============================] - 331s 634ms/step - loss: 0.0973 - accuracy: 0.9541 - val_loss: 0.1437 - val_accuracy: 0.9463\n",
      "Epoch 8/10\n",
      "522/522 [==============================] - 331s 635ms/step - loss: 0.0818 - accuracy: 0.9606 - val_loss: 0.1472 - val_accuracy: 0.9425\n",
      "Epoch 9/10\n",
      "522/522 [==============================] - 332s 635ms/step - loss: 0.0799 - accuracy: 0.9600 - val_loss: 0.0966 - val_accuracy: 0.9578\n",
      "Epoch 10/10\n",
      "522/522 [==============================] - 331s 633ms/step - loss: 0.0676 - accuracy: 0.9706 - val_loss: 0.0878 - val_accuracy: 0.9760\n",
      "Score for fold 4: loss of 0.08779726177453995; accuracy of 97.6030707359314%\n",
      ">Saved ./models/model_cnn4.h5\n",
      "training model for Kfold #5\n",
      "Epoch 1/10\n",
      "522/522 [==============================] - 333s 635ms/step - loss: 0.8673 - accuracy: 0.3771 - val_loss: 0.4116 - val_accuracy: 0.8466\n",
      "Epoch 2/10\n",
      "522/522 [==============================] - 330s 633ms/step - loss: 0.2226 - accuracy: 0.8884 - val_loss: 0.1667 - val_accuracy: 0.9348\n",
      "Epoch 3/10\n",
      "522/522 [==============================] - 332s 636ms/step - loss: 0.1781 - accuracy: 0.9151 - val_loss: 0.1724 - val_accuracy: 0.9329\n",
      "Epoch 4/10\n",
      "522/522 [==============================] - 333s 638ms/step - loss: 0.1448 - accuracy: 0.9326 - val_loss: 0.1129 - val_accuracy: 0.9597\n",
      "Epoch 5/10\n",
      "522/522 [==============================] - 332s 636ms/step - loss: 0.1260 - accuracy: 0.9451 - val_loss: 0.0892 - val_accuracy: 0.9636\n",
      "Epoch 6/10\n",
      "522/522 [==============================] - 331s 635ms/step - loss: 0.1187 - accuracy: 0.9454 - val_loss: 0.1384 - val_accuracy: 0.9415\n",
      "Epoch 7/10\n",
      "522/522 [==============================] - 332s 636ms/step - loss: 0.0998 - accuracy: 0.9504 - val_loss: 0.5183 - val_accuracy: 0.8303\n",
      "Epoch 8/10\n",
      "522/522 [==============================] - 332s 635ms/step - loss: 0.1046 - accuracy: 0.9495 - val_loss: 0.0994 - val_accuracy: 0.9607\n",
      "Epoch 9/10\n",
      "522/522 [==============================] - 332s 635ms/step - loss: 0.0851 - accuracy: 0.9633 - val_loss: 0.1158 - val_accuracy: 0.9588\n",
      "Epoch 10/10\n",
      "522/522 [==============================] - 332s 636ms/step - loss: 0.0829 - accuracy: 0.9625 - val_loss: 0.0852 - val_accuracy: 0.9645\n",
      "Score for fold 5: loss of 0.08515248447656631; accuracy of 96.45254015922546%\n",
      ">Saved ./models/model_cnn5.h5\n"
     ]
    }
   ],
   "source": [
    "for i, (train, test) in enumerate(kfold.split(X_train, y_train), 1):\n",
    "   \n",
    "    print(f'training model for Kfold #{i}')\n",
    "    callback = EarlyStopping(monitor='loss', patience=6)\n",
    "    \n",
    "    model = get_model()\n",
    "\n",
    "    # Fit data to model\n",
    "    #model.fit(datagen.flow(X_train[train], y_train[train], batch_size=4),\n",
    "    history = model.fit(X_train[train], y_train[train],\n",
    "                        validation_data=(X_train[test], y_train[test]),\n",
    "                        batch_size = 8,\n",
    "                        epochs=10,\n",
    "                        callbacks=[callback],\n",
    "                        verbose = 1,\n",
    "                        class_weight={0:6.0, 1:0.5}\n",
    "                       )\n",
    "    \n",
    "    scores = model.evaluate(X_train[test], y_train[test], verbose=0)\n",
    "    print(f'Score for fold {i}: {model.metrics_names[0]} of {scores[0]}; {model.metrics_names[1]} of {scores[1]*100}%')\n",
    "    acc_per_fold.append(scores[1] * 100)\n",
    "    loss_per_fold.append(scores[0])\n",
    "    \n",
    "    filename = './models/model_cnn' + str(i) + '.h5'\n",
    "    model.save(filename)\n",
    "    print('>Saved %s' % filename)"
   ]
  },
  {
   "cell_type": "markdown",
   "metadata": {},
   "source": []
  },
  {
   "cell_type": "code",
   "execution_count": 15,
   "metadata": {},
   "outputs": [
    {
     "name": "stdout",
     "output_type": "stream",
     "text": [
      "Score per fold\n",
      "------------------------------------------------------------------------\n",
      "> Fold 1 - Loss: 0.0973026305437088 - Accuracy: 96.64750695228577%\n",
      "------------------------------------------------------------------------\n",
      "Average scores for all folds:\n",
      "> Accuracy: 96.81751608848572 (+- 0.9459172001129958)\n",
      "> Loss: 0.1020585335791111\n",
      "------------------------------------------------------------------------\n",
      "------------------------------------------------------------------------\n",
      "> Fold 2 - Loss: 0.0957726538181305 - Accuracy: 97.3154366016388%\n",
      "------------------------------------------------------------------------\n",
      "Average scores for all folds:\n",
      "> Accuracy: 96.81751608848572 (+- 0.9459172001129958)\n",
      "> Loss: 0.1020585335791111\n",
      "------------------------------------------------------------------------\n",
      "------------------------------------------------------------------------\n",
      "> Fold 3 - Loss: 0.05007432773709297 - Accuracy: 98.37008714675903%\n",
      "------------------------------------------------------------------------\n",
      "Average scores for all folds:\n",
      "> Accuracy: 96.81751608848572 (+- 0.9459172001129958)\n",
      "> Loss: 0.1020585335791111\n",
      "------------------------------------------------------------------------\n",
      "------------------------------------------------------------------------\n",
      "> Fold 4 - Loss: 0.13688689470291138 - Accuracy: 95.97315192222595%\n",
      "------------------------------------------------------------------------\n",
      "Average scores for all folds:\n",
      "> Accuracy: 96.81751608848572 (+- 0.9459172001129958)\n",
      "> Loss: 0.1020585335791111\n",
      "------------------------------------------------------------------------\n",
      "------------------------------------------------------------------------\n",
      "> Fold 5 - Loss: 0.13025616109371185 - Accuracy: 95.78139781951904%\n",
      "------------------------------------------------------------------------\n",
      "Average scores for all folds:\n",
      "> Accuracy: 96.81751608848572 (+- 0.9459172001129958)\n",
      "> Loss: 0.1020585335791111\n",
      "------------------------------------------------------------------------\n"
     ]
    }
   ],
   "source": [
    "# == Provide average scores ==\n",
    "print('Score per fold')\n",
    "for i in range(0, len(acc_per_fold)):\n",
    "    print('------------------------------------------------------------------------')\n",
    "    print(f'> Fold {i+1} - Loss: {loss_per_fold[i]} - Accuracy: {acc_per_fold[i]}%')\n",
    "    print('------------------------------------------------------------------------')\n",
    "    print('Average scores for all folds:')\n",
    "    print(f'> Accuracy: {np.mean(acc_per_fold)} (+- {np.std(acc_per_fold)})')\n",
    "    print(f'> Loss: {np.mean(loss_per_fold)}')\n",
    "    print('------------------------------------------------------------------------')"
   ]
  },
  {
   "cell_type": "code",
   "execution_count": 20,
   "metadata": {},
   "outputs": [
    {
     "name": "stdout",
     "output_type": "stream",
     "text": [
      "Test loss  : 0.10004557259380817\n",
      "Test accuracy : 96.702601313591\n"
     ]
    }
   ],
   "source": [
    "def avg(list):\n",
    "    return (sum(list)/len(list))\n",
    "\n",
    "print(\"Test loss  : {}\".format(avg(loss_per_fold)))\n",
    "print(\"Test accuracy : {}\".format(avg(acc_per_fold)))"
   ]
  },
  {
   "cell_type": "code",
   "execution_count": 21,
   "metadata": {},
   "outputs": [
    {
     "data": {
      "image/png": "[encoded data removed]",
      "text/plain": [
       "<Figure size 1080x360 with 2 Axes>"
      ]
     },
     "metadata": {
      "needs_background": "light"
     },
     "output_type": "display_data"
    }
   ],
   "source": [
    "fig, ax = plt.subplots(1, 2, figsize=(15, 5))\n",
    "ax = ax.ravel()\n",
    "\n",
    "for i, met in enumerate(['accuracy', 'loss']):\n",
    "    ax[i].plot(history.history[met])\n",
    "    ax[i].plot(history.history['val_' + met])\n",
    "    ax[i].set_title('Model {}'.format(met))\n",
    "    ax[i].set_xlabel('epochs')\n",
    "    ax[i].set_ylabel(met)\n",
    "    ax[i].legend(['train', 'val'])"
   ]
  },
  {
   "cell_type": "code",
   "execution_count": null,
   "metadata": {},
   "outputs": [],
   "source": []
  }
 ],
 "metadata": {
  "kernelspec": {
   "display_name": "Python 3",
   "language": "python",
   "name": "python3"
  },
  "language_info": {
   "codemirror_mode": {
    "name": "ipython",
    "version": 3
   },
   "file_extension": ".py",
   "mimetype": "text/x-python",
   "name": "python",
   "nbconvert_exporter": "python",
   "pygments_lexer": "ipython3",
   "version": "3.8.3"
  }
 },
 "nbformat": 4,
 "nbformat_minor": 4
}
