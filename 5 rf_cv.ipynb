{
 "cells": [
  {
   "cell_type": "markdown",
   "metadata": {},
   "source": [
    "# rf-cv 데모\n",
    "* cross-validation 검증 방법: hold out validation, n-fold cv, stratified n-fold cv, leave one out  \n",
    "\n",
    "## 라이브러리 import 및 설정"
   ]
  },
  {
   "cell_type": "code",
   "execution_count": 44,
   "metadata": {},
   "outputs": [],
   "source": [
    "%reload_ext autoreload\n",
    "%autoreload 2\n",
    "%matplotlib inline\n",
    "\n",
    "from sklearn.ensemble import RandomForestClassifier\n",
    "from matplotlib import pyplot as plt\n",
    "from matplotlib import rcParams\n",
    "import numpy as np\n",
    "from pathlib import Path\n",
    "import pandas as pd\n",
    "from sklearn.metrics import accuracy_score\n",
    "from sklearn.model_selection import train_test_split\n",
    "import seaborn as sns\n",
    "import warnings\n",
    "from sklearn.model_selection import StratifiedKFold\n",
    "from sklearn.model_selection import cross_val_score\n",
    "from sklearn.preprocessing import StandardScaler, MinMaxScaler\n",
    "from sklearn import preprocessing\n",
    "\n",
    "\n",
    "rcParams['figure.figsize'] = (16, 8)       #그림 사이즈 지정\n",
    "plt.style.use('fivethirtyeight')           #그림 기본 스타일\n",
    "pd.set_option('max_columns', 100)          #칼럼 100개 허용\n",
    "pd.set_option(\"display.precision\", 4)      #소수점 4자리허용\n",
    "warnings.simplefilter('ignore')            #경고분 무시"
   ]
  },
  {
   "cell_type": "markdown",
   "metadata": {},
   "source": [
    "## 학습데이터 로드"
   ]
  },
  {
   "cell_type": "code",
   "execution_count": 45,
   "metadata": {},
   "outputs": [
    {
     "name": "stdout",
     "output_type": "stream",
     "text": [
      "(6113, 32)\n"
     ]
    },
    {
     "data": {
      "text/html": [
       "<div>\n",
       "<style scoped>\n",
       "    .dataframe tbody tr th:only-of-type {\n",
       "        vertical-align: middle;\n",
       "    }\n",
       "\n",
       "    .dataframe tbody tr th {\n",
       "        vertical-align: top;\n",
       "    }\n",
       "\n",
       "    .dataframe thead th {\n",
       "        text-align: right;\n",
       "    }\n",
       "</style>\n",
       "<table border=\"1\" class=\"dataframe\">\n",
       "  <thead>\n",
       "    <tr style=\"text-align: right;\">\n",
       "      <th></th>\n",
       "      <th>0</th>\n",
       "      <th>1</th>\n",
       "      <th>2</th>\n",
       "      <th>3</th>\n",
       "      <th>4</th>\n",
       "      <th>5</th>\n",
       "      <th>6</th>\n",
       "      <th>7</th>\n",
       "      <th>8</th>\n",
       "      <th>9</th>\n",
       "      <th>10</th>\n",
       "      <th>11</th>\n",
       "      <th>12</th>\n",
       "      <th>13</th>\n",
       "      <th>14</th>\n",
       "      <th>15</th>\n",
       "      <th>16</th>\n",
       "      <th>17</th>\n",
       "      <th>18</th>\n",
       "      <th>19</th>\n",
       "      <th>20</th>\n",
       "      <th>21</th>\n",
       "      <th>22</th>\n",
       "      <th>23</th>\n",
       "      <th>24</th>\n",
       "      <th>25</th>\n",
       "      <th>26</th>\n",
       "      <th>27</th>\n",
       "      <th>28</th>\n",
       "      <th>29</th>\n",
       "      <th>30</th>\n",
       "      <th>31</th>\n",
       "    </tr>\n",
       "  </thead>\n",
       "  <tbody>\n",
       "    <tr>\n",
       "      <th>0</th>\n",
       "      <td>188</td>\n",
       "      <td>128</td>\n",
       "      <td>95</td>\n",
       "      <td>114</td>\n",
       "      <td>143</td>\n",
       "      <td>108</td>\n",
       "      <td>88</td>\n",
       "      <td>103</td>\n",
       "      <td>113</td>\n",
       "      <td>85</td>\n",
       "      <td>88</td>\n",
       "      <td>113</td>\n",
       "      <td>87</td>\n",
       "      <td>88</td>\n",
       "      <td>103</td>\n",
       "      <td>87</td>\n",
       "      <td>84</td>\n",
       "      <td>99</td>\n",
       "      <td>104</td>\n",
       "      <td>82</td>\n",
       "      <td>96</td>\n",
       "      <td>100</td>\n",
       "      <td>78</td>\n",
       "      <td>70</td>\n",
       "      <td>79</td>\n",
       "      <td>84</td>\n",
       "      <td>66</td>\n",
       "      <td>70</td>\n",
       "      <td>75</td>\n",
       "      <td>76</td>\n",
       "      <td>63</td>\n",
       "      <td>HI</td>\n",
       "    </tr>\n",
       "    <tr>\n",
       "      <th>1</th>\n",
       "      <td>174</td>\n",
       "      <td>112</td>\n",
       "      <td>88</td>\n",
       "      <td>104</td>\n",
       "      <td>119</td>\n",
       "      <td>92</td>\n",
       "      <td>74</td>\n",
       "      <td>79</td>\n",
       "      <td>88</td>\n",
       "      <td>74</td>\n",
       "      <td>67</td>\n",
       "      <td>90</td>\n",
       "      <td>68</td>\n",
       "      <td>71</td>\n",
       "      <td>73</td>\n",
       "      <td>68</td>\n",
       "      <td>71</td>\n",
       "      <td>77</td>\n",
       "      <td>90</td>\n",
       "      <td>67</td>\n",
       "      <td>71</td>\n",
       "      <td>82</td>\n",
       "      <td>65</td>\n",
       "      <td>70</td>\n",
       "      <td>75</td>\n",
       "      <td>89</td>\n",
       "      <td>73</td>\n",
       "      <td>67</td>\n",
       "      <td>71</td>\n",
       "      <td>89</td>\n",
       "      <td>73</td>\n",
       "      <td>PH</td>\n",
       "    </tr>\n",
       "    <tr>\n",
       "      <th>2</th>\n",
       "      <td>175</td>\n",
       "      <td>138</td>\n",
       "      <td>106</td>\n",
       "      <td>105</td>\n",
       "      <td>135</td>\n",
       "      <td>109</td>\n",
       "      <td>75</td>\n",
       "      <td>95</td>\n",
       "      <td>113</td>\n",
       "      <td>96</td>\n",
       "      <td>74</td>\n",
       "      <td>112</td>\n",
       "      <td>96</td>\n",
       "      <td>70</td>\n",
       "      <td>87</td>\n",
       "      <td>100</td>\n",
       "      <td>66</td>\n",
       "      <td>83</td>\n",
       "      <td>117</td>\n",
       "      <td>67</td>\n",
       "      <td>88</td>\n",
       "      <td>110</td>\n",
       "      <td>98</td>\n",
       "      <td>67</td>\n",
       "      <td>88</td>\n",
       "      <td>119</td>\n",
       "      <td>98</td>\n",
       "      <td>75</td>\n",
       "      <td>91</td>\n",
       "      <td>110</td>\n",
       "      <td>94</td>\n",
       "      <td>GR</td>\n",
       "    </tr>\n",
       "    <tr>\n",
       "      <th>3</th>\n",
       "      <td>176</td>\n",
       "      <td>111</td>\n",
       "      <td>80</td>\n",
       "      <td>106</td>\n",
       "      <td>131</td>\n",
       "      <td>96</td>\n",
       "      <td>76</td>\n",
       "      <td>99</td>\n",
       "      <td>104</td>\n",
       "      <td>85</td>\n",
       "      <td>75</td>\n",
       "      <td>89</td>\n",
       "      <td>75</td>\n",
       "      <td>79</td>\n",
       "      <td>91</td>\n",
       "      <td>75</td>\n",
       "      <td>84</td>\n",
       "      <td>103</td>\n",
       "      <td>109</td>\n",
       "      <td>82</td>\n",
       "      <td>91</td>\n",
       "      <td>96</td>\n",
       "      <td>78</td>\n",
       "      <td>78</td>\n",
       "      <td>91</td>\n",
       "      <td>96</td>\n",
       "      <td>78</td>\n",
       "      <td>82</td>\n",
       "      <td>104</td>\n",
       "      <td>112</td>\n",
       "      <td>85</td>\n",
       "      <td>PH</td>\n",
       "    </tr>\n",
       "    <tr>\n",
       "      <th>4</th>\n",
       "      <td>182</td>\n",
       "      <td>144</td>\n",
       "      <td>111</td>\n",
       "      <td>100</td>\n",
       "      <td>151</td>\n",
       "      <td>119</td>\n",
       "      <td>67</td>\n",
       "      <td>106</td>\n",
       "      <td>114</td>\n",
       "      <td>90</td>\n",
       "      <td>76</td>\n",
       "      <td>115</td>\n",
       "      <td>94</td>\n",
       "      <td>68</td>\n",
       "      <td>106</td>\n",
       "      <td>91</td>\n",
       "      <td>68</td>\n",
       "      <td>102</td>\n",
       "      <td>115</td>\n",
       "      <td>71</td>\n",
       "      <td>95</td>\n",
       "      <td>108</td>\n",
       "      <td>88</td>\n",
       "      <td>71</td>\n",
       "      <td>103</td>\n",
       "      <td>113</td>\n",
       "      <td>92</td>\n",
       "      <td>68</td>\n",
       "      <td>107</td>\n",
       "      <td>118</td>\n",
       "      <td>92</td>\n",
       "      <td>EL</td>\n",
       "    </tr>\n",
       "  </tbody>\n",
       "</table>\n",
       "</div>"
      ],
      "text/plain": [
       "     0    1    2    3    4    5   6    7    8   9  10   11  12  13   14   15  \\\n",
       "0  188  128   95  114  143  108  88  103  113  85  88  113  87  88  103   87   \n",
       "1  174  112   88  104  119   92  74   79   88  74  67   90  68  71   73   68   \n",
       "2  175  138  106  105  135  109  75   95  113  96  74  112  96  70   87  100   \n",
       "3  176  111   80  106  131   96  76   99  104  85  75   89  75  79   91   75   \n",
       "4  182  144  111  100  151  119  67  106  114  90  76  115  94  68  106   91   \n",
       "\n",
       "   16   17   18  19  20   21  22  23   24   25  26  27   28   29  30  31  \n",
       "0  84   99  104  82  96  100  78  70   79   84  66  70   75   76  63  HI  \n",
       "1  71   77   90  67  71   82  65  70   75   89  73  67   71   89  73  PH  \n",
       "2  66   83  117  67  88  110  98  67   88  119  98  75   91  110  94  GR  \n",
       "3  84  103  109  82  91   96  78  78   91   96  78  82  104  112  85  PH  \n",
       "4  68  102  115  71  95  108  88  71  103  113  92  68  107  118  92  EL  "
      ]
     },
     "execution_count": 45,
     "metadata": {},
     "output_type": "execute_result"
    }
   ],
   "source": [
    "feature_file = 'C:\\\\Users\\\\USER\\\\Desktop\\\\Dataset\\\\DataInput\\\\feature.csv'\n",
    "sample_file  = 'C:\\\\Users\\\\USER\\\\Desktop\\\\Dataset\\\\DataInput\\\\sample_submission.csv'\n",
    "tst_file     = 'C:\\\\Users\\\\USER\\\\Desktop\\\\Dataset\\\\DataInput\\\\testset.csv'\n",
    "trn_file     = 'C:\\\\Users\\\\USER\\\\Desktop\\\\Dataset\\\\DataInput\\\\trainset.csv'\n",
    "df= pd.read_csv(feature_file,index_col=0)\n",
    "print(df.shape)\n",
    "df.head()                                       #(4280, 32)"
   ]
  },
  {
   "cell_type": "code",
   "execution_count": 46,
   "metadata": {},
   "outputs": [
    {
     "name": "stdout",
     "output_type": "stream",
     "text": [
      "(4280,) (4280, 31) (1833, 31)\n"
     ]
    }
   ],
   "source": [
    "y = df.iloc[:,31].values[:4280]                  #학습_종속 4820개\n",
    "df.drop(df.columns[[31]], axis=1, inplace=True)  #독립을 위한 종속 제거\n",
    "trn = df.iloc[:4280].values                      #학습데이터_독립 4280개\n",
    "tst = df.iloc[4280:].values                      #시험데이터_독립 1883개\n",
    "print(y.shape, trn.shape, tst.shape)             #(4280,) (4280, 31) (1833, 31)"
   ]
  },
  {
   "cell_type": "code",
   "execution_count": 47,
   "metadata": {},
   "outputs": [],
   "source": [
    "seed=150\n",
    "kfold=10"
   ]
  },
  {
   "cell_type": "markdown",
   "metadata": {},
   "source": [
    "## Stratified K-Fold Cross Validation\n",
    "*Stratified N-Fold CV: N-Fold CV에서 각각의 폴드에서 종속변수의 분포가 동일하도록 폴드를 나누는 방식.\n",
    "현재 사용하는 데이터처럼 분류학습에서 종속변수의 범주의 분포가 균일하지 않을 때 사용된다."
   ]
  },
  {
   "cell_type": "code",
   "execution_count": 48,
   "metadata": {},
   "outputs": [],
   "source": [
    "cv = StratifiedKFold(n_splits=kfold, shuffle=True, random_state=seed)"
   ]
  },
  {
   "cell_type": "markdown",
   "metadata": {},
   "source": [
    "### [범주형 > 수치형 변환_종속변수]"
   ]
  },
  {
   "cell_type": "code",
   "execution_count": 49,
   "metadata": {},
   "outputs": [
    {
     "data": {
      "text/plain": [
       "array([3, 5, 2, ..., 1, 5, 1])"
      ]
     },
     "execution_count": 49,
     "metadata": {},
     "output_type": "execute_result"
    }
   ],
   "source": [
    "from sklearn.preprocessing import StandardScaler, MinMaxScaler\n",
    "from sklearn import preprocessing\n",
    "le = preprocessing.LabelEncoder()\n",
    "\n",
    "label_str=y\n",
    "label_int=le.fit_transform(label_str).astype('int')\n",
    "#target=le.inverse_transform(label_int)\n",
    "#target\n",
    "y\n",
    "label_int"
   ]
  },
  {
   "cell_type": "markdown",
   "metadata": {},
   "source": [
    "## Random Forest 모델 학습 "
   ]
  },
  {
   "cell_type": "code",
   "execution_count": 50,
   "metadata": {
    "scrolled": true
   },
   "outputs": [
    {
     "name": "stdout",
     "output_type": "stream",
     "text": [
      "training model for CV #1\n",
      "training model for CV #2\n",
      "training model for CV #3\n",
      "training model for CV #4\n",
      "training model for CV #5\n",
      "training model for CV #6\n",
      "training model for CV #7\n",
      "training model for CV #8\n",
      "training model for CV #9\n",
      "training model for CV #10\n"
     ]
    }
   ],
   "source": [
    "p_val = np.zeros((trn.shape[0], 6))\n",
    "p_tst = np.zeros((tst.shape[0], 6))\n",
    "for i, (i_trn, i_val) in enumerate(cv.split(trn, y), 1):\n",
    "    print(f'training model for CV #{i}')\n",
    "    clf = RandomForestClassifier(n_estimators=500,\n",
    "                                 bootstrap=False,\n",
    "                                 max_features='auto',\n",
    "                                 max_samples=1,\n",
    "                                 #n_estimators = 1000, \n",
    "                                 #max_depth = 30,\n",
    "                                 #min_samples_leaf = 4,\n",
    "                                 #min_samples_split = 8,\n",
    "                                 random_state=seed,\n",
    "                                 n_jobs=-1)\n",
    "    \n",
    "    clf.fit(trn[i_trn], label_int[i_trn])\n",
    "    p_val[i_val, :] = clf.predict_proba(trn[i_val])\n",
    "    p_tst += clf.predict_proba(tst) / kfold"
   ]
  },
  {
   "cell_type": "markdown",
   "metadata": {},
   "source": [
    "** ( 범주값 출력: clf.pedict(), 확률값출력: clf.predict_proba() ) **"
   ]
  },
  {
   "cell_type": "code",
   "execution_count": 51,
   "metadata": {},
   "outputs": [
    {
     "name": "stdout",
     "output_type": "stream",
     "text": [
      "91.7523%\n"
     ]
    }
   ],
   "source": [
    "print(f'{accuracy_score(label_int, np.argmax(p_val, axis=1)) * 100:.4f}%')\n",
    "#hw7-rf 91.3785 3000만 90.9112 3500 depth50 90.7477 hw8rf-cv 91.3785 cv10>91729 15번은 의미X"
   ]
  },
  {
   "cell_type": "markdown",
   "metadata": {},
   "source": [
    "## Simple way Cross Validation"
   ]
  },
  {
   "cell_type": "code",
   "execution_count": 30,
   "metadata": {},
   "outputs": [
    {
     "name": "stdout",
     "output_type": "stream",
     "text": [
      "cross-val-score \n",
      "[0.9088785  0.93691589 0.92523364 0.9182243  0.89719626 0.9088785\n",
      " 0.90186916 0.9228972  0.93691589 0.89252336]\n",
      "cross-val-score.mean \n",
      "91.495\n"
     ]
    }
   ],
   "source": [
    "scores = cross_val_score(clf, trn,y, cv=10) # model, train, target, cross validation\n",
    "print('cross-val-score \\n{}'.format(scores))\n",
    "print('cross-val-score.mean \\n{:.3f}'.format(scores.mean()*100))\n",
    "\n",
    "#cross-val-score \n",
    "#[0.87616822 0.89369159 0.875      0.88317757 0.89369159]\n",
    "#cross-val-score.mean \n",
    "#88.435 ne 100  minchild 10  maxsamples 5"
   ]
  },
  {
   "cell_type": "markdown",
   "metadata": {},
   "source": [
    "#### [stacking 사용을 위해 p_val,p_tst 저장]"
   ]
  },
  {
   "cell_type": "code",
   "execution_count": 52,
   "metadata": {},
   "outputs": [],
   "source": [
    "val_dir = Path('C:\\\\Users\\\\USER\\\\Desktop\\\\Dataset\\\\val')\n",
    "tst_dir = Path('C:\\\\Users\\\\USER\\\\Desktop\\\\Dataset\\\\tst')\n",
    "name = 'rfcvFeature'\n",
    "model_name = f'{name}'\n",
    "p_val_file = val_dir / f'{name}.val.csv'\n",
    "p_tst_file = tst_dir / f'{name}.tst.csv'"
   ]
  },
  {
   "cell_type": "code",
   "execution_count": 53,
   "metadata": {},
   "outputs": [],
   "source": [
    "np.savetxt(p_val_file, p_val, fmt='%.6f', delimiter=', ')\n",
    "np.savetxt(p_tst_file, p_tst, fmt='%.6f', delimiter=', ')"
   ]
  },
  {
   "cell_type": "markdown",
   "metadata": {},
   "source": [
    "## 피처 중요도 시각화"
   ]
  },
  {
   "cell_type": "code",
   "execution_count": 39,
   "metadata": {},
   "outputs": [
    {
     "data": {
      "text/plain": [
       "<matplotlib.axes._subplots.AxesSubplot at 0x1f5ece57040>"
      ]
     },
     "execution_count": 39,
     "metadata": {},
     "output_type": "execute_result"
    },
    {
     "data": {
      "image/png": "[encoded data removed]",
      "text/plain": [
       "<Figure size 1152x576 with 1 Axes>"
      ]
     },
     "metadata": {},
     "output_type": "display_data"
    }
   ],
   "source": [
    "imp = pd.DataFrame({'feature': df.columns[:31], 'importance': clf.feature_importances_})\n",
    "imp = imp.sort_values('importance').set_index('feature')\n",
    "imp.plot(kind='barh')"
   ]
  },
  {
   "cell_type": "markdown",
   "metadata": {},
   "source": [
    "### [수치형 > 범주형 변환_종속변수]"
   ]
  },
  {
   "cell_type": "code",
   "execution_count": 54,
   "metadata": {},
   "outputs": [
    {
     "data": {
      "text/plain": [
       "array(['HI', 'EL', 'HI', ..., 'PH', 'PH', 'CO'], dtype=object)"
      ]
     },
     "execution_count": 54,
     "metadata": {},
     "output_type": "execute_result"
    }
   ],
   "source": [
    "pt=np.zeros(shape=(1833,))\n",
    "pt = pt.astype(np.int64)\n",
    "for x in range(0,1833):\n",
    "    pt[x] = np.argmax(p_tst[x,:])\n",
    "target=le.inverse_transform(pt)\n",
    "target"
   ]
  },
  {
   "cell_type": "markdown",
   "metadata": {},
   "source": [
    "## 제출 파일 생성"
   ]
  },
  {
   "cell_type": "code",
   "execution_count": 55,
   "metadata": {},
   "outputs": [],
   "source": [
    "#sub = pd.read_csv(sample_file)\n",
    "#sub['class']\n",
    "sub = pd.read_csv(sample_file)\n",
    "sub['class'] = target\n",
    "sub.to_csv('C:\\\\Users\\\\USER\\\\Desktop\\\\Dataset\\\\sub\\\\rfcv-sub.csv',index=False,header=False)"
   ]
  },
  {
   "cell_type": "code",
   "execution_count": null,
   "metadata": {},
   "outputs": [],
   "source": []
  }
 ],
 "metadata": {
  "kernelspec": {
   "display_name": "Python 3",
   "language": "python",
   "name": "python3"
  },
  "language_info": {
   "codemirror_mode": {
    "name": "ipython",
    "version": 3
   },
   "file_extension": ".py",
   "mimetype": "text/x-python",
   "name": "python",
   "nbconvert_exporter": "python",
   "pygments_lexer": "ipython3",
   "version": "3.8.3"
  }
 },
 "nbformat": 4,
 "nbformat_minor": 4
}
