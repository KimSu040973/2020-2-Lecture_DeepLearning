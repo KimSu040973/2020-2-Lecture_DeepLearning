{
 "cells": [
  {
   "cell_type": "markdown",
   "metadata": {},
   "source": [
    "# lr-stacking 데모\n",
    "* 독립변수의 선형 결합을 이용해 사건의 발생 가능성을 예측하는데 사용되는 통계 기법(Classification)\n",
    "* 알고리즘 rf, lgbm, lr 적용한 앙상블 기법  stacking 적용\n",
    "* 개별 모델이 예측한 데이터를 다시ㅣ training set 으로 사용해서 학습\n",
    "# http://hleecaster.com/ml-logistic-regression-example/¶\n",
    "\n",
    "# 정규화하기\n",
    "\n",
    "## 라이브러리 import 및 설정"
   ]
  },
  {
   "cell_type": "code",
   "execution_count": 32,
   "metadata": {},
   "outputs": [],
   "source": [
    "%reload_ext autoreload\n",
    "%autoreload 2\n",
    "%matplotlib inline\n",
    "from sklearn.linear_model import LogisticRegression\n",
    "from matplotlib import pyplot as plt\n",
    "from matplotlib import rcParams\n",
    "import numpy as np\n",
    "from pathlib import Path\n",
    "import pandas as pd\n",
    "from sklearn.metrics import accuracy_score\n",
    "import seaborn as sns\n",
    "import warnings\n",
    "from sklearn.model_selection import StratifiedKFold\n",
    "\n",
    "rcParams['figure.figsize'] = (16, 8)       #그림 사이즈 지정\n",
    "plt.style.use('fivethirtyeight')           #그림 기본 스타일\n",
    "pd.set_option('max_columns', 100)          #칼럼 100개 허용\n",
    "pd.set_option(\"display.precision\", 4)      #소수점 4자리허용\n",
    "warnings.simplefilter('ignore')            #경고분 무시"
   ]
  },
  {
   "cell_type": "markdown",
   "metadata": {},
   "source": [
    "## 학습데이터 로드"
   ]
  },
  {
   "cell_type": "code",
   "execution_count": 33,
   "metadata": {},
   "outputs": [],
   "source": [
    "feature_file = 'C:\\\\Users\\\\USER\\\\Desktop\\\\Dataset\\\\DataInput\\\\feature.csv'\n",
    "sample_file  = 'C:\\\\Users\\\\USER\\\\Desktop\\\\Dataset\\\\DataInput\\\\sample_submission.csv'\n",
    "tst_file     = 'C:\\\\Users\\\\USER\\\\Desktop\\\\Dataset\\\\DataInput\\\\testset.csv'\n",
    "trn_file     = 'C:\\\\Users\\\\USER\\\\Desktop\\\\Dataset\\\\DataInput\\\\trainset.csv'    \n",
    "val_dir      = Path('C:\\\\Users\\\\USER\\\\Desktop\\\\Dataset\\\\val')\n",
    "tst_dir      = Path('C:\\\\Users\\\\USER\\\\Desktop\\\\Dataset\\\\tst')"
   ]
  },
  {
   "cell_type": "markdown",
   "metadata": {},
   "source": [
    "## Stacking Feature 생성"
   ]
  },
  {
   "cell_type": "code",
   "execution_count": 34,
   "metadata": {},
   "outputs": [],
   "source": [
    "model_names = ['lrcvPolyfeature','rfcvFeature','lgbmcvFeature']"
   ]
  },
  {
   "cell_type": "code",
   "execution_count": 35,
   "metadata": {
    "scrolled": false
   },
   "outputs": [
    {
     "name": "stdout",
     "output_type": "stream",
     "text": [
      "(4280, 18) (1833, 18)\n"
     ]
    }
   ],
   "source": [
    "trn = []\n",
    "tst = []\n",
    "for model in model_names:\n",
    "    trn.append(pd.read_csv(val_dir / f'{model}.val.csv', delimiter=',',header=None))\n",
    "    tst.append(pd.read_csv(tst_dir / f'{model}.tst.csv', delimiter=',',header=None))\n",
    "    \n",
    "trn = np.hstack(trn)\n",
    "tst = np.hstack(tst)\n",
    "print(trn.shape, tst.shape)"
   ]
  },
  {
   "cell_type": "code",
   "execution_count": 36,
   "metadata": {},
   "outputs": [
    {
     "data": {
      "text/plain": [
       "['lrcvPolyfeature_0CO',\n",
       " 'lrcvPolyfeature_1EL',\n",
       " 'lrcvPolyfeature_2GR',\n",
       " 'lrcvPolyfeature_3HI',\n",
       " 'lrcvPolyfeature_4MI',\n",
       " 'lrcvPolyfeature_5PH',\n",
       " 'rfcvFeature_0CO',\n",
       " 'rfcvFeature_1EL',\n",
       " 'rfcvFeature_2GR',\n",
       " 'rfcvFeature_3HI',\n",
       " 'rfcvFeature_4MI',\n",
       " 'rfcvFeature_5PH',\n",
       " 'lgbmcvFeature_0CO',\n",
       " 'lgbmcvFeature_1EL',\n",
       " 'lgbmcvFeature_2GR',\n",
       " 'lgbmcvFeature_3HI',\n",
       " 'lgbmcvFeature_4MI',\n",
       " 'lgbmcvFeature_5PH']"
      ]
     },
     "execution_count": 36,
     "metadata": {},
     "output_type": "execute_result"
    }
   ],
   "source": [
    "feature_names = []\n",
    "for model in model_names:\n",
    "    feature_names += [f'{model}_0CO', f'{model}_1EL', f'{model}_2GR', f'{model}_3HI', f'{model}_4MI', f'{model}_5PH']\n",
    "    \n",
    "feature_names"
   ]
  },
  {
   "cell_type": "code",
   "execution_count": 37,
   "metadata": {},
   "outputs": [
    {
     "data": {
      "text/html": [
       "<div>\n",
       "<style scoped>\n",
       "    .dataframe tbody tr th:only-of-type {\n",
       "        vertical-align: middle;\n",
       "    }\n",
       "\n",
       "    .dataframe tbody tr th {\n",
       "        vertical-align: top;\n",
       "    }\n",
       "\n",
       "    .dataframe thead th {\n",
       "        text-align: right;\n",
       "    }\n",
       "</style>\n",
       "<table border=\"1\" class=\"dataframe\">\n",
       "  <thead>\n",
       "    <tr style=\"text-align: right;\">\n",
       "      <th></th>\n",
       "      <th>0</th>\n",
       "    </tr>\n",
       "  </thead>\n",
       "  <tbody>\n",
       "    <tr>\n",
       "      <th>0</th>\n",
       "      <td>HI</td>\n",
       "    </tr>\n",
       "    <tr>\n",
       "      <th>1</th>\n",
       "      <td>PH</td>\n",
       "    </tr>\n",
       "    <tr>\n",
       "      <th>2</th>\n",
       "      <td>GR</td>\n",
       "    </tr>\n",
       "    <tr>\n",
       "      <th>3</th>\n",
       "      <td>PH</td>\n",
       "    </tr>\n",
       "    <tr>\n",
       "      <th>4</th>\n",
       "      <td>EL</td>\n",
       "    </tr>\n",
       "    <tr>\n",
       "      <th>...</th>\n",
       "      <td>...</td>\n",
       "    </tr>\n",
       "    <tr>\n",
       "      <th>4275</th>\n",
       "      <td>EL</td>\n",
       "    </tr>\n",
       "    <tr>\n",
       "      <th>4276</th>\n",
       "      <td>PH</td>\n",
       "    </tr>\n",
       "    <tr>\n",
       "      <th>4277</th>\n",
       "      <td>EL</td>\n",
       "    </tr>\n",
       "    <tr>\n",
       "      <th>4278</th>\n",
       "      <td>PH</td>\n",
       "    </tr>\n",
       "    <tr>\n",
       "      <th>4279</th>\n",
       "      <td>EL</td>\n",
       "    </tr>\n",
       "  </tbody>\n",
       "</table>\n",
       "<p>4280 rows × 1 columns</p>\n",
       "</div>"
      ],
      "text/plain": [
       "       0\n",
       "0     HI\n",
       "1     PH\n",
       "2     GR\n",
       "3     PH\n",
       "4     EL\n",
       "...   ..\n",
       "4275  EL\n",
       "4276  PH\n",
       "4277  EL\n",
       "4278  PH\n",
       "4279  EL\n",
       "\n",
       "[4280 rows x 1 columns]"
      ]
     },
     "execution_count": 37,
     "metadata": {},
     "output_type": "execute_result"
    }
   ],
   "source": [
    "df = pd.read_csv(trn_file, header=None)\n",
    "y = pd.DataFrame(df[0].values.flatten())\n",
    "y"
   ]
  },
  {
   "cell_type": "code",
   "execution_count": 38,
   "metadata": {},
   "outputs": [],
   "source": [
    "seed=150\n",
    "kfold=10"
   ]
  },
  {
   "cell_type": "markdown",
   "metadata": {},
   "source": [
    "## Stratified K-Fold Cross Validation\n",
    "*Stratified N-Fold CV: N-Fold CV에서 각각의 폴드에서 종속변수의 분포가 동일하도록 폴드를 나누는 방식.\n",
    "현재 사용하는 데이터처럼 분류학습에서 종속변수의 범주의 분포가 균일하지 않을 때 사용된다."
   ]
  },
  {
   "cell_type": "code",
   "execution_count": 39,
   "metadata": {},
   "outputs": [],
   "source": [
    "cv = StratifiedKFold(n_splits=kfold, shuffle=True, random_state=seed)"
   ]
  },
  {
   "cell_type": "markdown",
   "metadata": {},
   "source": [
    "### [수치형 > 범주형 변환_종속변수]"
   ]
  },
  {
   "cell_type": "code",
   "execution_count": 40,
   "metadata": {},
   "outputs": [
    {
     "data": {
      "text/plain": [
       "array([3, 5, 2, ..., 1, 5, 1])"
      ]
     },
     "execution_count": 40,
     "metadata": {},
     "output_type": "execute_result"
    }
   ],
   "source": [
    "from sklearn.preprocessing import StandardScaler, MinMaxScaler\n",
    "from sklearn import preprocessing\n",
    "le = preprocessing.LabelEncoder()\n",
    "\n",
    "label_str=y\n",
    "label_int=le.fit_transform(label_str).astype('int')\n",
    "#target=le.inverse_transform(label_int)\n",
    "#target\n",
    "y\n",
    "label_int"
   ]
  },
  {
   "cell_type": "markdown",
   "metadata": {},
   "source": [
    "## Logistic Regression 모델 학습"
   ]
  },
  {
   "cell_type": "code",
   "execution_count": 41,
   "metadata": {
    "scrolled": true
   },
   "outputs": [
    {
     "name": "stdout",
     "output_type": "stream",
     "text": [
      "training model for CV #1\n",
      "training model for CV #2\n",
      "training model for CV #3\n",
      "training model for CV #4\n",
      "training model for CV #5\n",
      "training model for CV #6\n",
      "training model for CV #7\n",
      "training model for CV #8\n",
      "training model for CV #9\n",
      "training model for CV #10\n"
     ]
    }
   ],
   "source": [
    "p_val = np.zeros((trn.shape[0], 6))\n",
    "p_tst = np.zeros((tst.shape[0], 6))\n",
    "for i, (i_trn, i_val) in enumerate(cv.split(trn, y), 1):\n",
    "    print(f'training model for CV #{i}')\n",
    "    clf = LogisticRegression(multi_class='multinomial',\n",
    "                             #n_estimators=1000,\n",
    "                             #bootstrap=False,\n",
    "                             #max_features=5,\n",
    "                             #max_samples=1,\n",
    "                             #min_samples_split=2,\n",
    "                             #min_samples_leaf=18,\n",
    "                             random_state=seed,\n",
    "                             n_jobs=-1)\n",
    "    clf.fit(trn[i_trn], label_int[i_trn])\n",
    "    p_val[i_val, :] = clf.predict_proba(trn[i_val])\n",
    "    p_tst += clf.predict_proba(tst) / kfold"
   ]
  },
  {
   "cell_type": "markdown",
   "metadata": {},
   "source": [
    "** ( 범주값 출력: clf.pedict(), 확률값출력: clf.predict_proba() ) **"
   ]
  },
  {
   "cell_type": "code",
   "execution_count": 42,
   "metadata": {},
   "outputs": [
    {
     "name": "stdout",
     "output_type": "stream",
     "text": [
      "91.5187%\n"
     ]
    }
   ],
   "source": [
    "print(f'{accuracy_score(label_int, np.argmax(p_val, axis=1)) * 100:.4f}%')\n",
    "#91.4252rf 91.4486lr 91.5187%lr(강사베이스) "
   ]
  },
  {
   "cell_type": "code",
   "execution_count": 43,
   "metadata": {},
   "outputs": [
    {
     "name": "stdout",
     "output_type": "stream",
     "text": [
      "cross-val-score \n",
      "[0.92873832 0.92056075 0.90537383 0.91004673 0.91471963]\n",
      "cross-val-score.mean \n",
      "91.5888%\n"
     ]
    }
   ],
   "source": [
    "from sklearn.model_selection import cross_val_score\n",
    "\n",
    "scores = cross_val_score(clf, trn,y, cv=5) # model, train, target, cross validation\n",
    "print('cross-val-score \\n{}'.format(scores))\n",
    "print('cross-val-score.mean \\n{:.4f}%'.format(scores.mean()*100))\n",
    "#88.2% 88.6682%"
   ]
  },
  {
   "cell_type": "markdown",
   "metadata": {},
   "source": [
    "### [stacking 사용을 위해 p_val,p_tst 저장]"
   ]
  },
  {
   "cell_type": "code",
   "execution_count": 44,
   "metadata": {},
   "outputs": [],
   "source": [
    "val_dir = Path('C:\\\\Users\\\\USER\\\\Desktop\\\\Dataset\\\\val')\n",
    "tst_dir = Path('C:\\\\Users\\\\USER\\\\Desktop\\\\Dataset\\\\tst')\n",
    "name = 'lrcvStacking1'\n",
    "model_name = f'{name}'\n",
    "p_val_file = val_dir / f'{name}.val.csv'\n",
    "p_tst_file = tst_dir / f'{name}.tst.csv'"
   ]
  },
  {
   "cell_type": "code",
   "execution_count": 45,
   "metadata": {},
   "outputs": [],
   "source": [
    "np.savetxt(p_val_file, p_val, fmt='%.6f', delimiter=',')\n",
    "np.savetxt(p_tst_file, p_tst, fmt='%.6f', delimiter=',')"
   ]
  },
  {
   "cell_type": "markdown",
   "metadata": {},
   "source": [
    "## 피처 중요도 시각화\n",
    "여러 모델 시각화 대신 각 모델에서 손실 감소에 기여한 피처들의 중요도를 보기 위한 과정"
   ]
  },
  {
   "cell_type": "code",
   "execution_count": 46,
   "metadata": {},
   "outputs": [
    {
     "data": {
      "text/plain": [
       "<matplotlib.axes._subplots.AxesSubplot at 0x25bd986b370>"
      ]
     },
     "execution_count": 46,
     "metadata": {},
     "output_type": "execute_result"
    },
    {
     "data": {
      "image/png": "[encoded data removed]",
      "text/plain": [
       "<Figure size 576x576 with 1 Axes>"
      ]
     },
     "metadata": {},
     "output_type": "display_data"
    }
   ],
   "source": [
    "imp = pd.DataFrame({'feature': feature_names, 'importance': clf.coef_[1, :].T})\n",
    "imp = imp.sort_values('importance').set_index('feature')\n",
    "imp.plot(kind='barh', figsize=(8, 8))"
   ]
  },
  {
   "cell_type": "markdown",
   "metadata": {},
   "source": [
    "### [수치형 > 범주형 변환_종속변수]"
   ]
  },
  {
   "cell_type": "code",
   "execution_count": 47,
   "metadata": {},
   "outputs": [
    {
     "data": {
      "text/plain": [
       "array(['HI', 'EL', 'HI', ..., 'PH', 'PH', 'CO'], dtype=object)"
      ]
     },
     "execution_count": 47,
     "metadata": {},
     "output_type": "execute_result"
    }
   ],
   "source": [
    "pt=np.zeros(shape=(1833,))\n",
    "pt = pt.astype(np.int64)\n",
    "for x in range(0,1833):\n",
    "    pt[x] = np.argmax(p_tst[x,:])\n",
    "target=le.inverse_transform(pt)\n",
    "target"
   ]
  },
  {
   "cell_type": "markdown",
   "metadata": {},
   "source": [
    "## 제출 파일 생성"
   ]
  },
  {
   "cell_type": "code",
   "execution_count": 49,
   "metadata": {},
   "outputs": [],
   "source": [
    "#sub = pd.read_csv(sample_file)\n",
    "#sub['class']\n",
    "sub = pd.read_csv(sample_file)\n",
    "sub['class'] = target\n",
    "sub.to_csv('C:\\\\Users\\\\USER\\\\Desktop\\\\Dataset\\\\sub\\\\lrstacking-sub.csv',index=False,header=False)"
   ]
  },
  {
   "cell_type": "code",
   "execution_count": null,
   "metadata": {},
   "outputs": [],
   "source": []
  }
 ],
 "metadata": {
  "kernelspec": {
   "display_name": "Python 3",
   "language": "python",
   "name": "python3"
  },
  "language_info": {
   "codemirror_mode": {
    "name": "ipython",
    "version": 3
   },
   "file_extension": ".py",
   "mimetype": "text/x-python",
   "name": "python",
   "nbconvert_exporter": "python",
   "pygments_lexer": "ipython3",
   "version": "3.8.3"
  }
 },
 "nbformat": 4,
 "nbformat_minor": 4
}
