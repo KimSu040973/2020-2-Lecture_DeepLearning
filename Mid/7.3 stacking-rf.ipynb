{
 "cells": [
  {
   "cell_type": "markdown",
   "metadata": {},
   "source": [
    "# rf-stacking 데모\n",
    "* 알고리즘 rf, lgbm, lr 적용한 앙상블 기법  stacking 적용\n",
    "* 개별 모델이 예측한 데이터를 다시 training set 으로 사용해서 학습  \n",
    "\n",
    "## 라이브러리 import 및 설정"
   ]
  },
  {
   "cell_type": "code",
   "execution_count": 52,
   "metadata": {},
   "outputs": [],
   "source": [
    "%reload_ext autoreload\n",
    "%autoreload 2\n",
    "%matplotlib inline\n",
    "from sklearn.ensemble import RandomForestClassifier\n",
    "from matplotlib import pyplot as plt\n",
    "from matplotlib import rcParams\n",
    "import numpy as np\n",
    "from pathlib import Path\n",
    "import pandas as pd\n",
    "from sklearn.metrics import accuracy_score\n",
    "from sklearn.model_selection import StratifiedKFold\n",
    "from sklearn.model_selection import cross_val_score\n",
    "\n",
    "import seaborn as sns\n",
    "import warnings\n",
    "rcParams['figure.figsize'] = (16, 8)       #그림 사이즈 지정\n",
    "plt.style.use('fivethirtyeight')           #그림 기본 스타일\n",
    "pd.set_option('max_columns', 100)          #칼럼 100개 허용\n",
    "pd.set_option(\"display.precision\", 4)      #소수점 4자리허용\n",
    "warnings.simplefilter('ignore')            #경고분 무시"
   ]
  },
  {
   "cell_type": "markdown",
   "metadata": {},
   "source": [
    "## 학습데이터 로드"
   ]
  },
  {
   "cell_type": "code",
   "execution_count": 53,
   "metadata": {},
   "outputs": [],
   "source": [
    "feature_file = 'C:\\\\Users\\\\USER\\\\Desktop\\\\Dataset\\\\DataInput\\\\feature.csv'\n",
    "sample_file  = 'C:\\\\Users\\\\USER\\\\Desktop\\\\Dataset\\\\DataInput\\\\sample_submission.csv'\n",
    "tst_file     = 'C:\\\\Users\\\\USER\\\\Desktop\\\\Dataset\\\\DataInput\\\\testset.csv'\n",
    "trn_file     = 'C:\\\\Users\\\\USER\\\\Desktop\\\\Dataset\\\\DataInput\\\\trainset.csv'\n",
    "val_dir      = Path('C:\\\\Users\\\\USER\\\\Desktop\\\\Dataset\\\\val')\n",
    "tst_dir      = Path('C:\\\\Users\\\\USER\\\\Desktop\\\\Dataset\\\\tst')"
   ]
  },
  {
   "cell_type": "markdown",
   "metadata": {},
   "source": [
    "## Stacking Feature 생성"
   ]
  },
  {
   "cell_type": "code",
   "execution_count": 54,
   "metadata": {},
   "outputs": [
    {
     "data": {
      "text/plain": [
       "['lrcvPolyfeature_0CO',\n",
       " 'lrcvPolyfeature_1EL',\n",
       " 'lrcvPolyfeature_2GR',\n",
       " 'lrcvPolyfeature_3HI',\n",
       " 'lrcvPolyfeature_4MI',\n",
       " 'lrcvPolyfeature_5PH',\n",
       " 'rfcvFeature_0CO',\n",
       " 'rfcvFeature_1EL',\n",
       " 'rfcvFeature_2GR',\n",
       " 'rfcvFeature_3HI',\n",
       " 'rfcvFeature_4MI',\n",
       " 'rfcvFeature_5PH',\n",
       " 'lgbmcvFeature_0CO',\n",
       " 'lgbmcvFeature_1EL',\n",
       " 'lgbmcvFeature_2GR',\n",
       " 'lgbmcvFeature_3HI',\n",
       " 'lgbmcvFeature_4MI',\n",
       " 'lgbmcvFeature_5PH']"
      ]
     },
     "execution_count": 54,
     "metadata": {},
     "output_type": "execute_result"
    }
   ],
   "source": [
    "model_names = ['lrcvPolyfeature', 'rfcvFeature', 'lgbmcvFeature']\n",
    "trn = []\n",
    "tst = []\n",
    "feature_names = []\n",
    "for model in model_names:\n",
    "    trn.append(pd.read_csv(val_dir / f'{model}.val.csv', delimiter=',',header=None))\n",
    "    tst.append(pd.read_csv(tst_dir / f'{model}.tst.csv', delimiter=',',header=None))\n",
    "    feature_names += [f'{model}_0CO', f'{model}_1EL', f'{model}_2GR', f'{model}_3HI', f'{model}_4MI', f'{model}_5PH']\n",
    "    \n",
    "trn = np.hstack(trn)\n",
    "tst = np.hstack(tst)\n",
    "feature_names"
   ]
  },
  {
   "cell_type": "code",
   "execution_count": 55,
   "metadata": {},
   "outputs": [
    {
     "data": {
      "text/plain": [
       "(4280, 1)"
      ]
     },
     "execution_count": 55,
     "metadata": {},
     "output_type": "execute_result"
    }
   ],
   "source": [
    "df = pd.read_csv(trn_file, header=None)\n",
    "y = pd.DataFrame(df[0].values.flatten())\n",
    "y.shape"
   ]
  },
  {
   "cell_type": "code",
   "execution_count": 56,
   "metadata": {},
   "outputs": [],
   "source": [
    "seed=150\n",
    "kfold=10"
   ]
  },
  {
   "cell_type": "markdown",
   "metadata": {},
   "source": [
    "## Stratified K-Fold Cross Validation\n",
    "*Stratified N-Fold CV: N-Fold CV에서 각각의 폴드에서 종속변수의 분포가 동일하도록 폴드를 나누는 방식.\n",
    "현재 사용하는 데이터처럼 분류학습에서 종속변수의 범주의 분포가 균일하지 않을 때 사용된다."
   ]
  },
  {
   "cell_type": "code",
   "execution_count": 57,
   "metadata": {},
   "outputs": [],
   "source": [
    "cv = StratifiedKFold(n_splits=kfold, shuffle=True, random_state=seed)"
   ]
  },
  {
   "cell_type": "markdown",
   "metadata": {},
   "source": [
    "### [범주형 > 수치형 변환_종속변수]"
   ]
  },
  {
   "cell_type": "code",
   "execution_count": 85,
   "metadata": {},
   "outputs": [
    {
     "data": {
      "text/plain": [
       "array([3, 5, 2, ..., 1, 5, 1])"
      ]
     },
     "execution_count": 85,
     "metadata": {},
     "output_type": "execute_result"
    }
   ],
   "source": [
    "from sklearn.preprocessing import StandardScaler, MinMaxScaler\n",
    "from sklearn import preprocessing\n",
    "le = preprocessing.LabelEncoder()\n",
    "\n",
    "label_str=y\n",
    "label_int=le.fit_transform(label_str).astype('int')\n",
    "\n",
    "label_int"
   ]
  },
  {
   "cell_type": "markdown",
   "metadata": {},
   "source": [
    "## Random Forest 모델 학습 "
   ]
  },
  {
   "cell_type": "code",
   "execution_count": 92,
   "metadata": {},
   "outputs": [
    {
     "name": "stdout",
     "output_type": "stream",
     "text": [
      "training model for CV #1\n",
      "training model for CV #2\n",
      "training model for CV #3\n",
      "training model for CV #4\n",
      "training model for CV #5\n",
      "training model for CV #6\n",
      "training model for CV #7\n",
      "training model for CV #8\n",
      "training model for CV #9\n",
      "training model for CV #10\n"
     ]
    }
   ],
   "source": [
    "p_val = np.zeros((trn.shape[0], 6))\n",
    "p_tst = np.zeros((tst.shape[0], 6))\n",
    "for i, (i_trn, i_val) in enumerate(cv.split(trn, y), 1):\n",
    "    print(f'training model for CV #{i}')\n",
    "    clf = RandomForestClassifier(n_estimators=100,\n",
    "                                 min_samples_leaf=10,\n",
    "                                 max_features='auto',\n",
    "                                 max_samples=.5,\n",
    "                                 #max_samples=1,#n_estimators=500,\n",
    "                                 #bootstrap=False,\n",
    "                                 #max_features='auto',\n",
    "                                 #max_samples=1,\n",
    "                                 #n_estimators = 1000, \n",
    "                                 #max_depth = 30,\n",
    "                                 #min_samples_leaf = 4,\n",
    "                                 #min_samples_split = 8,\n",
    "                                 random_state=seed,\n",
    "                                 n_jobs=-1)\n",
    "    \n",
    "    clf.fit(trn[i_trn], label_int[i_trn])\n",
    "    p_val[i_val, :] = clf.predict_proba(trn[i_val])\n",
    "    p_tst += clf.predict_proba(tst) / kfold"
   ]
  },
  {
   "cell_type": "markdown",
   "metadata": {},
   "source": [
    "** ( 범주값 출력: clf.pedict(), 확률값출력: clf.predict_proba() ) **"
   ]
  },
  {
   "cell_type": "code",
   "execution_count": 93,
   "metadata": {},
   "outputs": [
    {
     "name": "stdout",
     "output_type": "stream",
     "text": [
      "91.5654%\n"
     ]
    }
   ],
   "source": [
    "print(f'{accuracy_score(label_int, np.argmax(p_val, axis=1)) * 100:.4f}%')"
   ]
  },
  {
   "cell_type": "markdown",
   "metadata": {},
   "source": [
    "## Simple way Cross Validation"
   ]
  },
  {
   "cell_type": "code",
   "execution_count": 94,
   "metadata": {},
   "outputs": [
    {
     "name": "stdout",
     "output_type": "stream",
     "text": [
      "cross-val-score \n",
      "[0.9182243  0.93224299 0.92990654 0.9135514  0.90654206 0.9088785\n",
      " 0.90420561 0.92523364 0.92757009 0.89953271]\n",
      "cross-val-score.mean \n",
      "91.6589%\n"
     ]
    }
   ],
   "source": [
    "scores = cross_val_score(clf, trn,y, cv=10) # model, train, target, cross validation\n",
    "print('cross-val-score \\n{}'.format(scores))\n",
    "print('cross-val-score.mean \\n{:.4f}%'.format(scores.mean()*100))"
   ]
  },
  {
   "cell_type": "markdown",
   "metadata": {},
   "source": [
    "## 피처 중요도 시각화"
   ]
  },
  {
   "cell_type": "code",
   "execution_count": 95,
   "metadata": {},
   "outputs": [
    {
     "data": {
      "text/plain": [
       "<matplotlib.axes._subplots.AxesSubplot at 0x26aac609e20>"
      ]
     },
     "execution_count": 95,
     "metadata": {},
     "output_type": "execute_result"
    },
    {
     "data": {
      "image/png": "[encoded data removed]",
      "text/plain": [
       "<Figure size 1152x576 with 1 Axes>"
      ]
     },
     "metadata": {},
     "output_type": "display_data"
    }
   ],
   "source": [
    "imp = pd.DataFrame({'feature': feature_names, 'importance': clf.feature_importances_})\n",
    "imp = imp.sort_values('importance').set_index('feature')\n",
    "imp.plot(kind='barh')"
   ]
  },
  {
   "cell_type": "markdown",
   "metadata": {},
   "source": [
    "### [수치형 > 범주형 변환_종속변수]"
   ]
  },
  {
   "cell_type": "code",
   "execution_count": 96,
   "metadata": {},
   "outputs": [
    {
     "data": {
      "text/plain": [
       "array(['HI', 'EL', 'HI', ..., 'PH', 'PH', 'HI'], dtype=object)"
      ]
     },
     "execution_count": 96,
     "metadata": {},
     "output_type": "execute_result"
    }
   ],
   "source": [
    "pt=np.zeros(shape=(1833,))\n",
    "pt = pt.astype(np.int64)\n",
    "for x in range(0,1833):\n",
    "    pt[x] = np.argmax(p_tst[x,:])\n",
    "target=le.inverse_transform(pt)\n",
    "target"
   ]
  },
  {
   "cell_type": "markdown",
   "metadata": {},
   "source": [
    "## 제출 파일 생성"
   ]
  },
  {
   "cell_type": "code",
   "execution_count": 97,
   "metadata": {},
   "outputs": [],
   "source": [
    "#sub = pd.read_csv(sample_file)\n",
    "#sub['class']\n",
    "sub = pd.read_csv(sample_file)\n",
    "sub['class'] = target\n",
    "sub.to_csv('C:\\\\Users\\\\USER\\\\Desktop\\\\Dataset\\\\sub\\\\rfcvStacking-sub.csv',index=False,header=False)"
   ]
  },
  {
   "cell_type": "code",
   "execution_count": null,
   "metadata": {},
   "outputs": [],
   "source": [
    "n_estimators=100,\n",
    "                                 min_samples_leaf=10,\n",
    "                                 max_features='auto',\n",
    "                                 max_samples=.5,"
   ]
  }
 ],
 "metadata": {
  "kernelspec": {
   "display_name": "Python 3",
   "language": "python",
   "name": "python3"
  },
  "language_info": {
   "codemirror_mode": {
    "name": "ipython",
    "version": 3
   },
   "file_extension": ".py",
   "mimetype": "text/x-python",
   "name": "python",
   "nbconvert_exporter": "python",
   "pygments_lexer": "ipython3",
   "version": "3.8.3"
  }
 },
 "nbformat": 4,
 "nbformat_minor": 4
}
